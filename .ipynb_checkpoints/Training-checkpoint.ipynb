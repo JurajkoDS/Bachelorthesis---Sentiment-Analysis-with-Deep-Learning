{
 "cells": [
  {
   "cell_type": "code",
   "execution_count": 5,
   "metadata": {
    "execution": {
     "iopub.execute_input": "2022-09-09T09:00:07.003955Z",
     "iopub.status.busy": "2022-09-09T09:00:07.003215Z",
     "iopub.status.idle": "2022-09-09T09:00:07.010975Z",
     "shell.execute_reply": "2022-09-09T09:00:07.009067Z",
     "shell.execute_reply.started": "2022-09-09T09:00:07.003901Z"
    }
   },
   "outputs": [
    {
     "name": "stderr",
     "output_type": "stream",
     "text": [
      "2023-12-01 14:32:33.140403: I tensorflow/core/platform/cpu_feature_guard.cc:182] This TensorFlow binary is optimized to use available CPU instructions in performance-critical operations.\n",
      "To enable the following instructions: AVX2 FMA, in other operations, rebuild TensorFlow with the appropriate compiler flags.\n"
     ]
    }
   ],
   "source": [
    "import numpy as np\n",
    "import pandas as pd\n",
    "import re\n",
    "#import torch\n",
    "import tensorflow as tf"
   ]
  },
  {
   "cell_type": "code",
   "execution_count": 13,
   "metadata": {
    "execution": {
     "iopub.execute_input": "2022-09-09T09:00:07.014703Z",
     "iopub.status.busy": "2022-09-09T09:00:07.013929Z",
     "iopub.status.idle": "2022-09-09T09:00:07.122231Z",
     "shell.execute_reply": "2022-09-09T09:00:07.121157Z",
     "shell.execute_reply.started": "2022-09-09T09:00:07.014653Z"
    }
   },
   "outputs": [],
   "source": [
    "df = pd.read_csv('/Users/jurajsimkovic/Desktop/WU/Bachelorarbeit/data/train.csv')"
   ]
  },
  {
   "cell_type": "code",
   "execution_count": 15,
   "metadata": {},
   "outputs": [
    {
     "data": {
      "text/html": [
       "<div>\n",
       "<style scoped>\n",
       "    .dataframe tbody tr th:only-of-type {\n",
       "        vertical-align: middle;\n",
       "    }\n",
       "\n",
       "    .dataframe tbody tr th {\n",
       "        vertical-align: top;\n",
       "    }\n",
       "\n",
       "    .dataframe thead th {\n",
       "        text-align: right;\n",
       "    }\n",
       "</style>\n",
       "<table border=\"1\" class=\"dataframe\">\n",
       "  <thead>\n",
       "    <tr style=\"text-align: right;\">\n",
       "      <th></th>\n",
       "      <th>textID</th>\n",
       "      <th>text</th>\n",
       "      <th>selected_text</th>\n",
       "      <th>sentiment</th>\n",
       "    </tr>\n",
       "  </thead>\n",
       "  <tbody>\n",
       "    <tr>\n",
       "      <th>0</th>\n",
       "      <td>cb774db0d1</td>\n",
       "      <td>I`d have responded, if I were going</td>\n",
       "      <td>I`d have responded, if I were going</td>\n",
       "      <td>neutral</td>\n",
       "    </tr>\n",
       "    <tr>\n",
       "      <th>1</th>\n",
       "      <td>549e992a42</td>\n",
       "      <td>Sooo SAD I will miss you here in San Diego!!!</td>\n",
       "      <td>Sooo SAD</td>\n",
       "      <td>negative</td>\n",
       "    </tr>\n",
       "    <tr>\n",
       "      <th>2</th>\n",
       "      <td>088c60f138</td>\n",
       "      <td>my boss is bullying me...</td>\n",
       "      <td>bullying me</td>\n",
       "      <td>negative</td>\n",
       "    </tr>\n",
       "    <tr>\n",
       "      <th>3</th>\n",
       "      <td>9642c003ef</td>\n",
       "      <td>what interview! leave me alone</td>\n",
       "      <td>leave me alone</td>\n",
       "      <td>negative</td>\n",
       "    </tr>\n",
       "    <tr>\n",
       "      <th>4</th>\n",
       "      <td>358bd9e861</td>\n",
       "      <td>Sons of ****, why couldn`t they put them on t...</td>\n",
       "      <td>Sons of ****,</td>\n",
       "      <td>negative</td>\n",
       "    </tr>\n",
       "  </tbody>\n",
       "</table>\n",
       "</div>"
      ],
      "text/plain": [
       "       textID                                               text  \\\n",
       "0  cb774db0d1                I`d have responded, if I were going   \n",
       "1  549e992a42      Sooo SAD I will miss you here in San Diego!!!   \n",
       "2  088c60f138                          my boss is bullying me...   \n",
       "3  9642c003ef                     what interview! leave me alone   \n",
       "4  358bd9e861   Sons of ****, why couldn`t they put them on t...   \n",
       "\n",
       "                         selected_text sentiment  \n",
       "0  I`d have responded, if I were going   neutral  \n",
       "1                             Sooo SAD  negative  \n",
       "2                          bullying me  negative  \n",
       "3                       leave me alone  negative  \n",
       "4                        Sons of ****,  negative  "
      ]
     },
     "execution_count": 15,
     "metadata": {},
     "output_type": "execute_result"
    }
   ],
   "source": [
    "df.head()"
   ]
  },
  {
   "cell_type": "code",
   "execution_count": 14,
   "metadata": {
    "execution": {
     "iopub.execute_input": "2022-09-09T09:00:07.124191Z",
     "iopub.status.busy": "2022-09-09T09:00:07.12371Z",
     "iopub.status.idle": "2022-09-09T09:00:07.143329Z",
     "shell.execute_reply": "2022-09-09T09:00:07.142075Z",
     "shell.execute_reply.started": "2022-09-09T09:00:07.124138Z"
    }
   },
   "outputs": [],
   "source": [
    "train = df.drop(['textID','text'],axis=1)"
   ]
  },
  {
   "cell_type": "markdown",
   "metadata": {},
   "source": [
    "# Data Preprocessing"
   ]
  },
  {
   "cell_type": "code",
   "execution_count": 16,
   "metadata": {
    "execution": {
     "iopub.execute_input": "2022-09-09T09:00:07.14742Z",
     "iopub.status.busy": "2022-09-09T09:00:07.146639Z",
     "iopub.status.idle": "2022-09-09T09:00:07.162659Z",
     "shell.execute_reply": "2022-09-09T09:00:07.161823Z",
     "shell.execute_reply.started": "2022-09-09T09:00:07.147371Z"
    }
   },
   "outputs": [],
   "source": [
    "train.selected_text.fillna('No text',inplace=True)"
   ]
  },
  {
   "cell_type": "code",
   "execution_count": 17,
   "metadata": {
    "execution": {
     "iopub.execute_input": "2022-09-09T09:00:07.16507Z",
     "iopub.status.busy": "2022-09-09T09:00:07.164326Z",
     "iopub.status.idle": "2022-09-09T09:00:07.174983Z",
     "shell.execute_reply": "2022-09-09T09:00:07.174155Z",
     "shell.execute_reply.started": "2022-09-09T09:00:07.165024Z"
    }
   },
   "outputs": [],
   "source": [
    "def cleantext(text):\n",
    "    text = re.sub(r'@[A-Za-z0-9]+','', text) #remove mentions\n",
    "    text = re.sub(r'#','', text) #remove hash\n",
    "    text = re.sub(r'https?:\\/\\/\\S+', '', text) #remove hyperlink\n",
    "    text = re.sub('\\s+', ' ', text) #remove new line char\n",
    "    text = re.sub(\"\\'\", \"\", text) #remove single quotes\n",
    "    \n",
    "    return text"
   ]
  },
  {
   "cell_type": "code",
   "execution_count": 18,
   "metadata": {
    "execution": {
     "iopub.execute_input": "2022-09-09T09:00:07.179297Z",
     "iopub.status.busy": "2022-09-09T09:00:07.178689Z",
     "iopub.status.idle": "2022-09-09T09:00:07.425542Z",
     "shell.execute_reply": "2022-09-09T09:00:07.424354Z",
     "shell.execute_reply.started": "2022-09-09T09:00:07.179246Z"
    }
   },
   "outputs": [],
   "source": [
    "train[\"selected_text\"] = train[\"selected_text\"].apply(cleantext)"
   ]
  },
  {
   "cell_type": "code",
   "execution_count": 19,
   "metadata": {
    "execution": {
     "iopub.execute_input": "2022-09-09T09:00:07.427869Z",
     "iopub.status.busy": "2022-09-09T09:00:07.426898Z",
     "iopub.status.idle": "2022-09-09T09:00:07.438219Z",
     "shell.execute_reply": "2022-09-09T09:00:07.437294Z",
     "shell.execute_reply.started": "2022-09-09T09:00:07.427831Z"
    }
   },
   "outputs": [
    {
     "data": {
      "text/plain": [
       "0                   I`d have responded, if I were going\n",
       "1                                              Sooo SAD\n",
       "2                                           bullying me\n",
       "3                                        leave me alone\n",
       "4                                         Sons of ****,\n",
       "5      - some shameless plugging for the best Ranger...\n",
       "6                                                   fun\n",
       "7                                            Soooo high\n",
       "8                                           Both of you\n",
       "9                          Wow... u just became cooler.\n",
       "10    as much as i love to be hopeful, i reckon the ...\n",
       "11                                                 like\n",
       "12                                          DANGERously\n",
       "13                                                 lost\n",
       "14                           test test from the LG enV2\n",
       "Name: selected_text, dtype: object"
      ]
     },
     "execution_count": 19,
     "metadata": {},
     "output_type": "execute_result"
    }
   ],
   "source": [
    "train[\"selected_text\"].head(15)"
   ]
  },
  {
   "cell_type": "code",
   "execution_count": 20,
   "metadata": {
    "execution": {
     "iopub.execute_input": "2022-09-09T09:00:07.440403Z",
     "iopub.status.busy": "2022-09-09T09:00:07.439585Z",
     "iopub.status.idle": "2022-09-09T09:00:07.744549Z",
     "shell.execute_reply": "2022-09-09T09:00:07.743383Z",
     "shell.execute_reply.started": "2022-09-09T09:00:07.440368Z"
    }
   },
   "outputs": [],
   "source": [
    "import string\n",
    "train[\"selected_text\"] = train[\"selected_text\"].apply(lambda wrd:[ltrs.lower() for ltrs in wrd if ltrs not in string.punctuation])"
   ]
  },
  {
   "cell_type": "code",
   "execution_count": 21,
   "metadata": {
    "execution": {
     "iopub.execute_input": "2022-09-09T09:00:07.746864Z",
     "iopub.status.busy": "2022-09-09T09:00:07.746154Z",
     "iopub.status.idle": "2022-09-09T09:00:07.802555Z",
     "shell.execute_reply": "2022-09-09T09:00:07.801437Z",
     "shell.execute_reply.started": "2022-09-09T09:00:07.746817Z"
    }
   },
   "outputs": [],
   "source": [
    "train[\"selected_text\"] = train[\"selected_text\"].apply(lambda wrd: ''.join(wrd))"
   ]
  },
  {
   "cell_type": "code",
   "execution_count": 22,
   "metadata": {
    "execution": {
     "iopub.execute_input": "2022-09-09T09:00:07.808285Z",
     "iopub.status.busy": "2022-09-09T09:00:07.807851Z",
     "iopub.status.idle": "2022-09-09T09:00:07.819531Z",
     "shell.execute_reply": "2022-09-09T09:00:07.818126Z",
     "shell.execute_reply.started": "2022-09-09T09:00:07.808249Z"
    }
   },
   "outputs": [
    {
     "data": {
      "text/plain": [
       "0                        id have responded if i were going\n",
       "1                                                 sooo sad\n",
       "2                                              bullying me\n",
       "3                                           leave me alone\n",
       "4                                                 sons of \n",
       "                               ...                        \n",
       "27476                                               d lost\n",
       "27477                                           dont force\n",
       "27478                             yay good for both of you\n",
       "27479                                 but it was worth it \n",
       "27480    all this flirting going on  the atg smiles yay...\n",
       "Name: selected_text, Length: 27481, dtype: object"
      ]
     },
     "execution_count": 22,
     "metadata": {},
     "output_type": "execute_result"
    }
   ],
   "source": [
    "train[\"selected_text\"]"
   ]
  },
  {
   "cell_type": "code",
   "execution_count": 23,
   "metadata": {
    "execution": {
     "iopub.execute_input": "2022-09-09T09:00:07.823056Z",
     "iopub.status.busy": "2022-09-09T09:00:07.821978Z",
     "iopub.status.idle": "2022-09-09T09:00:08.988595Z",
     "shell.execute_reply": "2022-09-09T09:00:08.987471Z",
     "shell.execute_reply.started": "2022-09-09T09:00:07.823004Z"
    }
   },
   "outputs": [],
   "source": [
    "from nltk.corpus import stopwords"
   ]
  },
  {
   "cell_type": "code",
   "execution_count": 24,
   "metadata": {
    "execution": {
     "iopub.execute_input": "2022-09-09T09:00:08.991071Z",
     "iopub.status.busy": "2022-09-09T09:00:08.990548Z",
     "iopub.status.idle": "2022-09-09T09:00:09.056177Z",
     "shell.execute_reply": "2022-09-09T09:00:09.054893Z",
     "shell.execute_reply.started": "2022-09-09T09:00:08.991023Z"
    }
   },
   "outputs": [],
   "source": [
    "train[\"selected_text\"][:50] = train[\"selected_text\"][:50].apply(lambda x: ' '.join([word for word in x.split() if word not in stopwords.words(\"english\")]))"
   ]
  },
  {
   "cell_type": "code",
   "execution_count": 25,
   "metadata": {
    "execution": {
     "iopub.execute_input": "2022-09-09T09:00:09.059255Z",
     "iopub.status.busy": "2022-09-09T09:00:09.058335Z",
     "iopub.status.idle": "2022-09-09T09:00:09.069475Z",
     "shell.execute_reply": "2022-09-09T09:00:09.068273Z",
     "shell.execute_reply.started": "2022-09-09T09:00:09.059207Z"
    }
   },
   "outputs": [
    {
     "data": {
      "text/plain": [
       "0                                       id responded going\n",
       "1                                                 sooo sad\n",
       "2                                                 bullying\n",
       "3                                              leave alone\n",
       "4                                                     sons\n",
       "                               ...                        \n",
       "27476                                               d lost\n",
       "27477                                           dont force\n",
       "27478                             yay good for both of you\n",
       "27479                                 but it was worth it \n",
       "27480    all this flirting going on  the atg smiles yay...\n",
       "Name: selected_text, Length: 27481, dtype: object"
      ]
     },
     "execution_count": 25,
     "metadata": {},
     "output_type": "execute_result"
    }
   ],
   "source": [
    "train[\"selected_text\"]"
   ]
  },
  {
   "cell_type": "code",
   "execution_count": 26,
   "metadata": {
    "execution": {
     "iopub.execute_input": "2022-09-09T09:00:09.072239Z",
     "iopub.status.busy": "2022-09-09T09:00:09.071329Z",
     "iopub.status.idle": "2022-09-09T09:00:09.413651Z",
     "shell.execute_reply": "2022-09-09T09:00:09.41248Z",
     "shell.execute_reply.started": "2022-09-09T09:00:09.072186Z"
    }
   },
   "outputs": [],
   "source": [
    "import gensim\n",
    "def sent_to_words(sentences):\n",
    "    for sentence in sentences:\n",
    "        yield(gensim.utils.simple_preprocess(str(sentence),     deacc=True))"
   ]
  },
  {
   "cell_type": "code",
   "execution_count": 27,
   "metadata": {
    "execution": {
     "iopub.execute_input": "2022-09-09T09:00:09.41635Z",
     "iopub.status.busy": "2022-09-09T09:00:09.415488Z",
     "iopub.status.idle": "2022-09-09T09:00:09.422767Z",
     "shell.execute_reply": "2022-09-09T09:00:09.421795Z",
     "shell.execute_reply.started": "2022-09-09T09:00:09.416298Z"
    }
   },
   "outputs": [],
   "source": [
    "from nltk.tokenize.treebank import TreebankWordDetokenizer\n",
    "def detokenize(text):\n",
    "    return TreebankWordDetokenizer().detokenize(text)"
   ]
  },
  {
   "cell_type": "code",
   "execution_count": 28,
   "metadata": {
    "execution": {
     "iopub.execute_input": "2022-09-09T09:00:09.425272Z",
     "iopub.status.busy": "2022-09-09T09:00:09.424177Z",
     "iopub.status.idle": "2022-09-09T09:00:10.316815Z",
     "shell.execute_reply": "2022-09-09T09:00:10.315653Z",
     "shell.execute_reply.started": "2022-09-09T09:00:09.425217Z"
    }
   },
   "outputs": [],
   "source": [
    "temp = []\n",
    "data_to_list = train['selected_text'].values.tolist()\n",
    "for i in range(len(data_to_list)):\n",
    "    temp.append(data_to_list[i])\n",
    "data_wordslem = list(sent_to_words(temp))"
   ]
  },
  {
   "cell_type": "code",
   "execution_count": 29,
   "metadata": {
    "execution": {
     "iopub.execute_input": "2022-09-09T09:00:10.319493Z",
     "iopub.status.busy": "2022-09-09T09:00:10.318647Z",
     "iopub.status.idle": "2022-09-09T09:00:10.32462Z",
     "shell.execute_reply": "2022-09-09T09:00:10.323542Z",
     "shell.execute_reply.started": "2022-09-09T09:00:10.319446Z"
    }
   },
   "outputs": [],
   "source": [
    "import nltk\n",
    "lemmatizer = nltk.stem.WordNetLemmatizer()"
   ]
  },
  {
   "cell_type": "code",
   "execution_count": 30,
   "metadata": {
    "execution": {
     "iopub.execute_input": "2022-09-09T09:01:21.987316Z",
     "iopub.status.busy": "2022-09-09T09:01:21.986918Z",
     "iopub.status.idle": "2022-09-09T09:01:22.723412Z",
     "shell.execute_reply": "2022-09-09T09:01:22.722186Z",
     "shell.execute_reply.started": "2022-09-09T09:01:21.987284Z"
    }
   },
   "outputs": [
    {
     "name": "stderr",
     "output_type": "stream",
     "text": [
      "[nltk_data] Downloading package omw-1.4 to\n",
      "[nltk_data]     /Users/jurajsimkovic/nltk_data...\n",
      "[nltk_data]   Package omw-1.4 is already up-to-date!\n"
     ]
    },
    {
     "data": {
      "text/plain": [
       "True"
      ]
     },
     "execution_count": 30,
     "metadata": {},
     "output_type": "execute_result"
    }
   ],
   "source": [
    "nltk.download('omw-1.4')"
   ]
  },
  {
   "cell_type": "code",
   "execution_count": 31,
   "metadata": {
    "execution": {
     "iopub.execute_input": "2022-09-09T09:01:24.865957Z",
     "iopub.status.busy": "2022-09-09T09:01:24.865526Z",
     "iopub.status.idle": "2022-09-09T09:01:27.744684Z",
     "shell.execute_reply": "2022-09-09T09:01:27.743543Z",
     "shell.execute_reply.started": "2022-09-09T09:01:24.86592Z"
    }
   },
   "outputs": [],
   "source": [
    "for i in range(len(data_wordslem)):\n",
    "    for j in range(len(data_wordslem[i])):\n",
    "        data_wordslem[i][j] = lemmatizer.lemmatize(data_wordslem[i][j],pos=\"v\")"
   ]
  },
  {
   "cell_type": "code",
   "execution_count": 32,
   "metadata": {
    "execution": {
     "iopub.execute_input": "2022-09-09T09:01:28.974053Z",
     "iopub.status.busy": "2022-09-09T09:01:28.973661Z",
     "iopub.status.idle": "2022-09-09T09:01:30.693285Z",
     "shell.execute_reply": "2022-09-09T09:01:30.691937Z",
     "shell.execute_reply.started": "2022-09-09T09:01:28.974022Z"
    }
   },
   "outputs": [
    {
     "name": "stdout",
     "output_type": "stream",
     "text": [
      "['id respond go', 'sooo sad', 'bully', 'leave alone', 'sons']\n"
     ]
    }
   ],
   "source": [
    "data = []\n",
    "for i in range(len(data_wordslem)):\n",
    "    data.append(detokenize(data_wordslem[i]))\n",
    "print(data[:5])"
   ]
  },
  {
   "cell_type": "markdown",
   "metadata": {},
   "source": [
    "# Building a Model"
   ]
  },
  {
   "cell_type": "code",
   "execution_count": 37,
   "metadata": {
    "execution": {
     "iopub.execute_input": "2022-09-09T09:01:31.785985Z",
     "iopub.status.busy": "2022-09-09T09:01:31.78556Z",
     "iopub.status.idle": "2022-09-09T09:01:37.4208Z",
     "shell.execute_reply": "2022-09-09T09:01:37.419562Z",
     "shell.execute_reply.started": "2022-09-09T09:01:31.785953Z"
    }
   },
   "outputs": [],
   "source": [
    "from keras.preprocessing.text import Tokenizer\n",
    "from keras_preprocessing.sequence import pad_sequences\n",
    "from keras import regularizers"
   ]
  },
  {
   "cell_type": "markdown",
   "metadata": {},
   "source": [
    "# Tokenizing and adding padding"
   ]
  },
  {
   "cell_type": "code",
   "execution_count": 38,
   "metadata": {
    "execution": {
     "iopub.execute_input": "2022-09-09T09:01:56.007332Z",
     "iopub.status.busy": "2022-09-09T09:01:56.006887Z",
     "iopub.status.idle": "2022-09-09T09:01:57.057678Z",
     "shell.execute_reply": "2022-09-09T09:01:57.05624Z",
     "shell.execute_reply.started": "2022-09-09T09:01:56.007298Z"
    }
   },
   "outputs": [
    {
     "name": "stdout",
     "output_type": "stream",
     "text": [
      "[[   0    0    0 ...  290 1026   15]\n",
      " [   0    0    0 ...    0  399   64]\n",
      " [   0    0    0 ...    0    0 3103]\n",
      " ...\n",
      " [   0    0    0 ...  379   12    5]\n",
      " [   0    0    0 ...    1  533    8]\n",
      " [   0    0    0 ...  548  196  398]]\n"
     ]
    }
   ],
   "source": [
    "max_words = 5000\n",
    "max_len = 200\n",
    "\n",
    "tokenizer = Tokenizer(num_words=max_words)\n",
    "tokenizer.fit_on_texts(data)\n",
    "sequences = tokenizer.texts_to_sequences(data)\n",
    "tweets = pad_sequences(sequences, maxlen=max_len)\n",
    "print(tweets)"
   ]
  },
  {
   "cell_type": "code",
   "execution_count": 39,
   "metadata": {
    "execution": {
     "iopub.execute_input": "2022-09-09T09:01:58.668047Z",
     "iopub.status.busy": "2022-09-09T09:01:58.667671Z",
     "iopub.status.idle": "2022-09-09T09:01:58.677209Z",
     "shell.execute_reply": "2022-09-09T09:01:58.675897Z",
     "shell.execute_reply.started": "2022-09-09T09:01:58.668016Z"
    }
   },
   "outputs": [],
   "source": [
    "from keras.layers import Embedding\n",
    "embedding_layer = Embedding(1000, 64)"
   ]
  },
  {
   "cell_type": "markdown",
   "metadata": {},
   "source": [
    "# Using BiDirectional RNN and LSTM"
   ]
  },
  {
   "cell_type": "code",
   "execution_count": 40,
   "metadata": {
    "execution": {
     "iopub.execute_input": "2022-09-09T09:02:00.974895Z",
     "iopub.status.busy": "2022-09-09T09:02:00.974065Z",
     "iopub.status.idle": "2022-09-09T09:02:01.581415Z",
     "shell.execute_reply": "2022-09-09T09:02:01.58032Z",
     "shell.execute_reply.started": "2022-09-09T09:02:00.974854Z"
    }
   },
   "outputs": [],
   "source": [
    "from keras.models import Sequential\n",
    "from keras import layers\n",
    "\n",
    "model2 = Sequential()\n",
    "model2.add(layers.Embedding(max_words, 40, input_length=max_len))\n",
    "model2.add(layers.Bidirectional(layers.LSTM(20,dropout=0.6)))\n",
    "model2.add(layers.Dense(3,activation='softmax'))"
   ]
  },
  {
   "cell_type": "code",
   "execution_count": 41,
   "metadata": {
    "execution": {
     "iopub.execute_input": "2022-09-09T09:02:02.448512Z",
     "iopub.status.busy": "2022-09-09T09:02:02.447389Z",
     "iopub.status.idle": "2022-09-09T09:02:02.458826Z",
     "shell.execute_reply": "2022-09-09T09:02:02.457582Z",
     "shell.execute_reply.started": "2022-09-09T09:02:02.44847Z"
    }
   },
   "outputs": [],
   "source": [
    "model2.compile(optimizer='adam',loss='categorical_crossentropy', metrics=['accuracy'])"
   ]
  },
  {
   "cell_type": "markdown",
   "metadata": {},
   "source": [
    "# Label Encoding of output"
   ]
  },
  {
   "cell_type": "code",
   "execution_count": 42,
   "metadata": {
    "execution": {
     "iopub.execute_input": "2022-09-09T09:02:05.644278Z",
     "iopub.status.busy": "2022-09-09T09:02:05.643013Z",
     "iopub.status.idle": "2022-09-09T09:02:06.161595Z",
     "shell.execute_reply": "2022-09-09T09:02:06.160511Z",
     "shell.execute_reply.started": "2022-09-09T09:02:05.644233Z"
    }
   },
   "outputs": [],
   "source": [
    "import tensorflow as tf\n",
    "labels = np.array(train['sentiment'])\n",
    "y = []\n",
    "for i in range(len(labels)):\n",
    "    if labels[i] == 'neutral':\n",
    "        y.append(0)\n",
    "    if labels[i] == 'negative':\n",
    "        y.append(1)\n",
    "    if labels[i] == 'positive':\n",
    "        y.append(2)\n",
    "y = np.array(y)\n",
    "labels = tf.keras.utils.to_categorical(y, 3, dtype=\"float32\")\n",
    "del y"
   ]
  },
  {
   "cell_type": "markdown",
   "metadata": {},
   "source": [
    "# Training the Model"
   ]
  },
  {
   "cell_type": "code",
   "execution_count": 43,
   "metadata": {
    "execution": {
     "iopub.execute_input": "2022-09-09T09:02:11.429327Z",
     "iopub.status.busy": "2022-09-09T09:02:11.428517Z",
     "iopub.status.idle": "2022-09-09T09:28:25.641251Z",
     "shell.execute_reply": "2022-09-09T09:28:25.638159Z",
     "shell.execute_reply.started": "2022-09-09T09:02:11.429286Z"
    }
   },
   "outputs": [
    {
     "name": "stdout",
     "output_type": "stream",
     "text": [
      "Epoch 1/5\n",
      "687/687 [==============================] - 29s 38ms/step - loss: 0.6979 - accuracy: 0.7048 - val_loss: 0.5310 - val_accuracy: 0.7812\n",
      "Epoch 2/5\n",
      "687/687 [==============================] - 26s 38ms/step - loss: 0.4583 - accuracy: 0.8266 - val_loss: 0.4535 - val_accuracy: 0.8317\n",
      "Epoch 3/5\n",
      "687/687 [==============================] - 27s 39ms/step - loss: 0.3977 - accuracy: 0.8543 - val_loss: 0.4458 - val_accuracy: 0.8366\n",
      "Epoch 4/5\n",
      "687/687 [==============================] - 29s 42ms/step - loss: 0.3661 - accuracy: 0.8647 - val_loss: 0.4375 - val_accuracy: 0.8352\n",
      "Epoch 5/5\n",
      "687/687 [==============================] - 28s 41ms/step - loss: 0.3416 - accuracy: 0.8745 - val_loss: 0.4396 - val_accuracy: 0.8263\n"
     ]
    }
   ],
   "source": [
    "history = model2.fit(x = tweets, y= labels, epochs=5,validation_split=0.2)"
   ]
  },
  {
   "cell_type": "code",
   "execution_count": 44,
   "metadata": {
    "execution": {
     "iopub.status.busy": "2022-09-09T09:00:10.561229Z",
     "iopub.status.idle": "2022-09-09T09:00:10.56239Z",
     "shell.execute_reply": "2022-09-09T09:00:10.561982Z",
     "shell.execute_reply.started": "2022-09-09T09:00:10.561951Z"
    }
   },
   "outputs": [],
   "source": [
    "import matplotlib.pyplot as plt"
   ]
  },
  {
   "cell_type": "markdown",
   "metadata": {},
   "source": [
    "# Visualizing Loss"
   ]
  },
  {
   "cell_type": "code",
   "execution_count": 45,
   "metadata": {
    "execution": {
     "iopub.status.busy": "2022-09-09T09:00:10.564352Z",
     "iopub.status.idle": "2022-09-09T09:00:10.565378Z",
     "shell.execute_reply": "2022-09-09T09:00:10.565092Z",
     "shell.execute_reply.started": "2022-09-09T09:00:10.565064Z"
    }
   },
   "outputs": [
    {
     "data": {
      "image/png": "[encoded data removed]",
      "text/plain": [
       "<Figure size 640x480 with 1 Axes>"
      ]
     },
     "metadata": {},
     "output_type": "display_data"
    }
   ],
   "source": [
    "plt.plot(history.history['loss'])\n",
    "plt.plot(history.history['val_loss'])\n",
    "plt.title('Loss')\n",
    "plt.ylabel('loss')\n",
    "plt.xlabel('epoch')\n",
    "plt.legend(['train', 'validation'], loc='upper left')\n",
    "plt.show()"
   ]
  },
  {
   "cell_type": "code",
   "execution_count": 46,
   "metadata": {
    "execution": {
     "iopub.status.busy": "2022-09-09T09:00:10.567459Z",
     "iopub.status.idle": "2022-09-09T09:00:10.568633Z",
     "shell.execute_reply": "2022-09-09T09:00:10.568233Z",
     "shell.execute_reply.started": "2022-09-09T09:00:10.568201Z"
    }
   },
   "outputs": [
    {
     "data": {
      "image/png": "[encoded data removed]",
      "text/plain": [
       "<Figure size 640x480 with 1 Axes>"
      ]
     },
     "metadata": {},
     "output_type": "display_data"
    }
   ],
   "source": [
    "plt.plot(history.history['accuracy'])\n",
    "plt.plot(history.history['val_accuracy'])\n",
    "plt.title('Accuracy')\n",
    "plt.ylabel('Accuracy')\n",
    "plt.xlabel('epoch')\n",
    "plt.legend(['train', 'validation'], loc='upper left')\n",
    "plt.show()"
   ]
  },
  {
   "cell_type": "markdown",
   "metadata": {},
   "source": [
    "# Prediction and Result"
   ]
  },
  {
   "cell_type": "code",
   "execution_count": 47,
   "metadata": {
    "execution": {
     "iopub.status.busy": "2022-09-09T09:00:10.570783Z",
     "iopub.status.idle": "2022-09-09T09:00:10.571958Z",
     "shell.execute_reply": "2022-09-09T09:00:10.571543Z",
     "shell.execute_reply.started": "2022-09-09T09:00:10.571513Z"
    }
   },
   "outputs": [],
   "source": [
    "sentiment = ['Neutral','Negative','Positive']"
   ]
  },
  {
   "cell_type": "code",
   "execution_count": 48,
   "metadata": {
    "execution": {
     "iopub.status.busy": "2022-09-09T09:00:10.574124Z",
     "iopub.status.idle": "2022-09-09T09:00:10.575349Z",
     "shell.execute_reply": "2022-09-09T09:00:10.574899Z",
     "shell.execute_reply.started": "2022-09-09T09:00:10.57487Z"
    }
   },
   "outputs": [
    {
     "name": "stdout",
     "output_type": "stream",
     "text": [
      "1/1 [==============================] - 1s 518ms/step\n"
     ]
    },
    {
     "data": {
      "text/plain": [
       "'Negative'"
      ]
     },
     "execution_count": 48,
     "metadata": {},
     "output_type": "execute_result"
    }
   ],
   "source": [
    "sequence = tokenizer.texts_to_sequences(['this experience has been the worst, very bad product'])\n",
    "test = pad_sequences(sequence, maxlen=max_len)\n",
    "sentiment[np.around(model2.predict(test), decimals=0).argmax(axis=1)[0]]"
   ]
  },
  {
   "cell_type": "code",
   "execution_count": 49,
   "metadata": {
    "execution": {
     "iopub.status.busy": "2022-09-09T09:00:10.57736Z",
     "iopub.status.idle": "2022-09-09T09:00:10.578554Z",
     "shell.execute_reply": "2022-09-09T09:00:10.578249Z",
     "shell.execute_reply.started": "2022-09-09T09:00:10.578187Z"
    }
   },
   "outputs": [
    {
     "name": "stdout",
     "output_type": "stream",
     "text": [
      "1/1 [==============================] - 0s 24ms/step\n"
     ]
    },
    {
     "data": {
      "text/plain": [
       "'Positive'"
      ]
     },
     "execution_count": 49,
     "metadata": {},
     "output_type": "execute_result"
    }
   ],
   "source": [
    "sequence = tokenizer.texts_to_sequences(['i really love this internship'])\n",
    "test = pad_sequences(sequence, maxlen=max_len)\n",
    "sentiment[np.around(model2.predict(test), decimals=0).argmax(axis=1)[0]]"
   ]
  },
  {
   "cell_type": "code",
   "execution_count": 50,
   "metadata": {
    "execution": {
     "iopub.status.busy": "2022-09-09T09:00:10.580481Z",
     "iopub.status.idle": "2022-09-09T09:00:10.58161Z",
     "shell.execute_reply": "2022-09-09T09:00:10.58135Z",
     "shell.execute_reply.started": "2022-09-09T09:00:10.58132Z"
    }
   },
   "outputs": [
    {
     "name": "stdout",
     "output_type": "stream",
     "text": [
      "1/1 [==============================] - 0s 22ms/step\n"
     ]
    },
    {
     "data": {
      "text/plain": [
       "'Positive'"
      ]
     },
     "execution_count": 50,
     "metadata": {},
     "output_type": "execute_result"
    }
   ],
   "source": [
    "sequence = tokenizer.texts_to_sequences(['i love sayabidevs'])\n",
    "test = pad_sequences(sequence, maxlen=max_len)\n",
    "sentiment[np.around(model2.predict(test), decimals=0).argmax(axis=1)[0]]"
   ]
  },
  {
   "cell_type": "code",
   "execution_count": 54,
   "metadata": {
    "execution": {
     "iopub.status.busy": "2022-09-09T09:00:10.583671Z",
     "iopub.status.idle": "2022-09-09T09:00:10.584718Z",
     "shell.execute_reply": "2022-09-09T09:00:10.58446Z",
     "shell.execute_reply.started": "2022-09-09T09:00:10.584429Z"
    },
    "scrolled": false
   },
   "outputs": [
    {
     "name": "stdout",
     "output_type": "stream",
     "text": [
      "1/1 [==============================] - 0s 59ms/step\n"
     ]
    },
    {
     "data": {
      "text/plain": [
       "'Neutral'"
      ]
     },
     "execution_count": 54,
     "metadata": {},
     "output_type": "execute_result"
    }
   ],
   "source": [
    "sequence = tokenizer.texts_to_sequences(['I go to gym daily'])\n",
    "test = pad_sequences(sequence, maxlen=max_len)\n",
    "sentiment[np.around(model2.predict(test), decimals=0).argmax(axis=1)[0]]"
   ]
  },
  {
   "cell_type": "code",
   "execution_count": 52,
   "metadata": {},
   "outputs": [
    {
     "name": "stdout",
     "output_type": "stream",
     "text": [
      "INFO:tensorflow:Assets written to: /Users/jurajsimkovic/Desktop/WU/Bachelorarbeit/model/assets\n"
     ]
    },
    {
     "name": "stderr",
     "output_type": "stream",
     "text": [
      "INFO:tensorflow:Assets written to: /Users/jurajsimkovic/Desktop/WU/Bachelorarbeit/model/assets\n"
     ]
    }
   ],
   "source": [
    "# saving the model\n",
    "model2.save(\"/Users/jurajsimkovic/Desktop/WU/Bachelorarbeit/model\")"
   ]
  },
  {
   "cell_type": "code",
   "execution_count": null,
   "metadata": {},
   "outputs": [],
   "source": []
  }
 ],
 "metadata": {
  "kaggle": {
   "accelerator": "none",
   "dataSources": [
    {
     "datasetId": 2466694,
     "sourceId": 4180864,
     "sourceType": "datasetVersion"
    }
   ],
   "dockerImageVersionId": 30235,
   "isGpuEnabled": false,
   "isInternetEnabled": true,
   "language": "python",
   "sourceType": "notebook"
  },
  "kernelspec": {
   "display_name": "Python 3 (ipykernel)",
   "language": "python",
   "name": "python3"
  },
  "language_info": {
   "codemirror_mode": {
    "name": "ipython",
    "version": 3
   },
   "file_extension": ".py",
   "mimetype": "text/x-python",
   "name": "python",
   "nbconvert_exporter": "python",
   "pygments_lexer": "ipython3",
   "version": "3.10.8"
  }
 },
 "nbformat": 4,
 "nbformat_minor": 4
}
