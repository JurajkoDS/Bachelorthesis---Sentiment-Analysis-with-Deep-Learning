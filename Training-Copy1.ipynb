{
 "cells": [
  {
   "cell_type": "code",
   "execution_count": 4,
   "metadata": {},
   "outputs": [],
   "source": [
    "import numpy as np\n",
    "import pandas as pd\n",
    "import re\n",
    "#import torch\n",
    "import tensorflow as tf"
   ]
  },
  {
   "cell_type": "code",
   "execution_count": 5,
   "metadata": {},
   "outputs": [],
   "source": [
    "df = pd.read_csv('/Users/lubicasimkovicova/Desktop/Bachelorthesis---Sentiment-Analysis-with-Deep-Learning-main-2/train.csv')"
   ]
  },
  {
   "cell_type": "code",
   "execution_count": 6,
   "metadata": {},
   "outputs": [
    {
     "data": {
      "text/html": [
       "<div>\n",
       "<style scoped>\n",
       "    .dataframe tbody tr th:only-of-type {\n",
       "        vertical-align: middle;\n",
       "    }\n",
       "\n",
       "    .dataframe tbody tr th {\n",
       "        vertical-align: top;\n",
       "    }\n",
       "\n",
       "    .dataframe thead th {\n",
       "        text-align: right;\n",
       "    }\n",
       "</style>\n",
       "<table border=\"1\" class=\"dataframe\">\n",
       "  <thead>\n",
       "    <tr style=\"text-align: right;\">\n",
       "      <th></th>\n",
       "      <th>textID</th>\n",
       "      <th>text</th>\n",
       "      <th>selected_text</th>\n",
       "      <th>sentiment</th>\n",
       "    </tr>\n",
       "  </thead>\n",
       "  <tbody>\n",
       "    <tr>\n",
       "      <th>0</th>\n",
       "      <td>cb774db0d1</td>\n",
       "      <td>I`d have responded, if I were going</td>\n",
       "      <td>I`d have responded, if I were going</td>\n",
       "      <td>neutral</td>\n",
       "    </tr>\n",
       "    <tr>\n",
       "      <th>1</th>\n",
       "      <td>549e992a42</td>\n",
       "      <td>Sooo SAD I will miss you here in San Diego!!!</td>\n",
       "      <td>Sooo SAD</td>\n",
       "      <td>negative</td>\n",
       "    </tr>\n",
       "    <tr>\n",
       "      <th>2</th>\n",
       "      <td>088c60f138</td>\n",
       "      <td>my boss is bullying me...</td>\n",
       "      <td>bullying me</td>\n",
       "      <td>negative</td>\n",
       "    </tr>\n",
       "    <tr>\n",
       "      <th>3</th>\n",
       "      <td>9642c003ef</td>\n",
       "      <td>what interview! leave me alone</td>\n",
       "      <td>leave me alone</td>\n",
       "      <td>negative</td>\n",
       "    </tr>\n",
       "    <tr>\n",
       "      <th>4</th>\n",
       "      <td>358bd9e861</td>\n",
       "      <td>Sons of ****, why couldn`t they put them on t...</td>\n",
       "      <td>Sons of ****,</td>\n",
       "      <td>negative</td>\n",
       "    </tr>\n",
       "  </tbody>\n",
       "</table>\n",
       "</div>"
      ],
      "text/plain": [
       "       textID                                               text  \\\n",
       "0  cb774db0d1                I`d have responded, if I were going   \n",
       "1  549e992a42      Sooo SAD I will miss you here in San Diego!!!   \n",
       "2  088c60f138                          my boss is bullying me...   \n",
       "3  9642c003ef                     what interview! leave me alone   \n",
       "4  358bd9e861   Sons of ****, why couldn`t they put them on t...   \n",
       "\n",
       "                         selected_text sentiment  \n",
       "0  I`d have responded, if I were going   neutral  \n",
       "1                             Sooo SAD  negative  \n",
       "2                          bullying me  negative  \n",
       "3                       leave me alone  negative  \n",
       "4                        Sons of ****,  negative  "
      ]
     },
     "execution_count": 6,
     "metadata": {},
     "output_type": "execute_result"
    }
   ],
   "source": [
    "df.head()"
   ]
  },
  {
   "cell_type": "code",
   "execution_count": 7,
   "metadata": {},
   "outputs": [],
   "source": [
    "train = df.drop(['textID','text'],axis=1)"
   ]
  },
  {
   "cell_type": "markdown",
   "metadata": {},
   "source": [
    "# Data Preprocessing"
   ]
  },
  {
   "cell_type": "code",
   "execution_count": 8,
   "metadata": {},
   "outputs": [],
   "source": [
    "train.selected_text.fillna('No text',inplace=True)"
   ]
  },
  {
   "cell_type": "code",
   "execution_count": 9,
   "metadata": {},
   "outputs": [],
   "source": [
    "def cleantext(text):\n",
    "    text = re.sub(r'@[A-Za-z0-9]+','', text) #remove mentions\n",
    "    text = re.sub(r'#','', text) #remove hash\n",
    "    text = re.sub(r'https?:\\/\\/\\S+', '', text) #remove hyperlink\n",
    "    text = re.sub('\\s+', ' ', text) #remove new line char\n",
    "    text = re.sub(\"\\'\", \"\", text) #remove single quotes\n",
    "    \n",
    "    return text"
   ]
  },
  {
   "cell_type": "code",
   "execution_count": 10,
   "metadata": {},
   "outputs": [],
   "source": [
    "train[\"selected_text\"] = train[\"selected_text\"].apply(cleantext)"
   ]
  },
  {
   "cell_type": "code",
   "execution_count": 11,
   "metadata": {},
   "outputs": [
    {
     "data": {
      "text/plain": [
       "0                   I`d have responded, if I were going\n",
       "1                                              Sooo SAD\n",
       "2                                           bullying me\n",
       "3                                        leave me alone\n",
       "4                                         Sons of ****,\n",
       "5      - some shameless plugging for the best Ranger...\n",
       "6                                                   fun\n",
       "7                                            Soooo high\n",
       "8                                           Both of you\n",
       "9                          Wow... u just became cooler.\n",
       "10    as much as i love to be hopeful, i reckon the ...\n",
       "11                                                 like\n",
       "12                                          DANGERously\n",
       "13                                                 lost\n",
       "14                           test test from the LG enV2\n",
       "Name: selected_text, dtype: object"
      ]
     },
     "execution_count": 11,
     "metadata": {},
     "output_type": "execute_result"
    }
   ],
   "source": [
    "train[\"selected_text\"].head(15)"
   ]
  },
  {
   "cell_type": "code",
   "execution_count": 12,
   "metadata": {},
   "outputs": [],
   "source": [
    "import string\n",
    "train[\"selected_text\"] = train[\"selected_text\"].apply(lambda wrd:[ltrs.lower() for ltrs in wrd if ltrs not in string.punctuation])"
   ]
  },
  {
   "cell_type": "code",
   "execution_count": 13,
   "metadata": {},
   "outputs": [],
   "source": [
    "train[\"selected_text\"] = train[\"selected_text\"].apply(lambda wrd: ''.join(wrd))"
   ]
  },
  {
   "cell_type": "code",
   "execution_count": 14,
   "metadata": {},
   "outputs": [
    {
     "data": {
      "text/plain": [
       "0                        id have responded if i were going\n",
       "1                                                 sooo sad\n",
       "2                                              bullying me\n",
       "3                                           leave me alone\n",
       "4                                                 sons of \n",
       "                               ...                        \n",
       "27476                                               d lost\n",
       "27477                                           dont force\n",
       "27478                             yay good for both of you\n",
       "27479                                 but it was worth it \n",
       "27480    all this flirting going on  the atg smiles yay...\n",
       "Name: selected_text, Length: 27481, dtype: object"
      ]
     },
     "execution_count": 14,
     "metadata": {},
     "output_type": "execute_result"
    }
   ],
   "source": [
    "train[\"selected_text\"]"
   ]
  },
  {
   "cell_type": "code",
   "execution_count": 15,
   "metadata": {},
   "outputs": [],
   "source": [
    "from nltk.corpus import stopwords"
   ]
  },
  {
   "cell_type": "code",
   "execution_count": 16,
   "metadata": {},
   "outputs": [],
   "source": [
    "train[\"selected_text\"][:50] = train[\"selected_text\"][:50].apply(lambda x: ' '.join([word for word in x.split() if word not in stopwords.words(\"english\")]))"
   ]
  },
  {
   "cell_type": "code",
   "execution_count": 17,
   "metadata": {},
   "outputs": [
    {
     "data": {
      "text/plain": [
       "0                                       id responded going\n",
       "1                                                 sooo sad\n",
       "2                                                 bullying\n",
       "3                                              leave alone\n",
       "4                                                     sons\n",
       "                               ...                        \n",
       "27476                                               d lost\n",
       "27477                                           dont force\n",
       "27478                             yay good for both of you\n",
       "27479                                 but it was worth it \n",
       "27480    all this flirting going on  the atg smiles yay...\n",
       "Name: selected_text, Length: 27481, dtype: object"
      ]
     },
     "execution_count": 17,
     "metadata": {},
     "output_type": "execute_result"
    }
   ],
   "source": [
    "train[\"selected_text\"]"
   ]
  },
  {
   "cell_type": "code",
   "execution_count": 18,
   "metadata": {},
   "outputs": [],
   "source": [
    "import gensim\n",
    "def sent_to_words(sentences):\n",
    "    for sentence in sentences:\n",
    "        yield(gensim.utils.simple_preprocess(str(sentence),     deacc=True))"
   ]
  },
  {
   "cell_type": "code",
   "execution_count": 19,
   "metadata": {},
   "outputs": [],
   "source": [
    "from nltk.tokenize.treebank import TreebankWordDetokenizer\n",
    "def detokenize(text):\n",
    "    return TreebankWordDetokenizer().detokenize(text)"
   ]
  },
  {
   "cell_type": "code",
   "execution_count": 20,
   "metadata": {},
   "outputs": [],
   "source": [
    "temp = []\n",
    "data_to_list = train['selected_text'].values.tolist()\n",
    "for i in range(len(data_to_list)):\n",
    "    temp.append(data_to_list[i])\n",
    "data_wordslem = list(sent_to_words(temp))"
   ]
  },
  {
   "cell_type": "code",
   "execution_count": 21,
   "metadata": {},
   "outputs": [],
   "source": [
    "import nltk\n",
    "lemmatizer = nltk.stem.WordNetLemmatizer()"
   ]
  },
  {
   "cell_type": "code",
   "execution_count": 22,
   "metadata": {},
   "outputs": [
    {
     "name": "stderr",
     "output_type": "stream",
     "text": [
      "[nltk_data] Downloading package omw-1.4 to\n",
      "[nltk_data]     /Users/lubicasimkovicova/nltk_data...\n",
      "[nltk_data]   Package omw-1.4 is already up-to-date!\n"
     ]
    },
    {
     "data": {
      "text/plain": [
       "True"
      ]
     },
     "execution_count": 22,
     "metadata": {},
     "output_type": "execute_result"
    }
   ],
   "source": [
    "nltk.download('omw-1.4')"
   ]
  },
  {
   "cell_type": "code",
   "execution_count": 23,
   "metadata": {},
   "outputs": [],
   "source": [
    "for i in range(len(data_wordslem)):\n",
    "    for j in range(len(data_wordslem[i])):\n",
    "        data_wordslem[i][j] = lemmatizer.lemmatize(data_wordslem[i][j],pos=\"v\")"
   ]
  },
  {
   "cell_type": "code",
   "execution_count": 24,
   "metadata": {},
   "outputs": [
    {
     "name": "stdout",
     "output_type": "stream",
     "text": [
      "['id respond go', 'sooo sad', 'bully', 'leave alone', 'sons']\n"
     ]
    }
   ],
   "source": [
    "data = []\n",
    "for i in range(len(data_wordslem)):\n",
    "    data.append(detokenize(data_wordslem[i]))\n",
    "print(data[:5])"
   ]
  },
  {
   "cell_type": "markdown",
   "metadata": {},
   "source": [
    "# Building a Model"
   ]
  },
  {
   "cell_type": "code",
   "execution_count": 25,
   "metadata": {},
   "outputs": [],
   "source": [
    "from keras.preprocessing.text import Tokenizer\n",
    "from keras_preprocessing.sequence import pad_sequences\n",
    "from keras import regularizers"
   ]
  },
  {
   "cell_type": "markdown",
   "metadata": {},
   "source": [
    "# Tokenizing and adding padding"
   ]
  },
  {
   "cell_type": "code",
   "execution_count": 26,
   "metadata": {},
   "outputs": [
    {
     "name": "stdout",
     "output_type": "stream",
     "text": [
      "[[   0    0    0 ...  290 1026   15]\n",
      " [   0    0    0 ...    0  399   64]\n",
      " [   0    0    0 ...    0    0 3103]\n",
      " ...\n",
      " [   0    0    0 ...  379   12    5]\n",
      " [   0    0    0 ...    1  533    8]\n",
      " [   0    0    0 ...  548  196  398]]\n"
     ]
    }
   ],
   "source": [
    "max_words = 5000\n",
    "max_len = 200\n",
    "\n",
    "tokenizer = Tokenizer(num_words=max_words)\n",
    "tokenizer.fit_on_texts(data)\n",
    "sequences = tokenizer.texts_to_sequences(data)\n",
    "tweets = pad_sequences(sequences, maxlen=max_len)\n",
    "print(tweets)"
   ]
  },
  {
   "cell_type": "code",
   "execution_count": 27,
   "metadata": {},
   "outputs": [],
   "source": [
    "from keras.layers import Embedding\n",
    "embedding_layer = Embedding(1000, 64)"
   ]
  },
  {
   "cell_type": "markdown",
   "metadata": {},
   "source": [
    "# Using BiDirectional RNN and LSTM"
   ]
  },
  {
   "cell_type": "code",
   "execution_count": 28,
   "metadata": {},
   "outputs": [],
   "source": [
    "from keras.models import Sequential\n",
    "from keras import layers\n",
    "\n",
    "model2 = Sequential()\n",
    "model2.add(layers.Embedding(max_words, 40, input_length=max_len))\n",
    "model2.add(layers.Bidirectional(layers.LSTM(20,dropout=0.6)))\n",
    "model2.add(layers.Dense(3,activation='softmax'))"
   ]
  },
  {
   "cell_type": "code",
   "execution_count": 29,
   "metadata": {},
   "outputs": [],
   "source": [
    "model2.compile(optimizer='adam',loss='categorical_crossentropy', metrics=['accuracy'])"
   ]
  },
  {
   "cell_type": "markdown",
   "metadata": {},
   "source": [
    "# Label Encoding of output"
   ]
  },
  {
   "cell_type": "code",
   "execution_count": 30,
   "metadata": {},
   "outputs": [],
   "source": [
    "import tensorflow as tf\n",
    "labels = np.array(train['sentiment'])\n",
    "y = []\n",
    "for i in range(len(labels)):\n",
    "    if labels[i] == 'neutral':\n",
    "        y.append(0)\n",
    "    if labels[i] == 'negative':\n",
    "        y.append(1)\n",
    "    if labels[i] == 'positive':\n",
    "        y.append(2)\n",
    "y = np.array(y)\n",
    "labels = tf.keras.utils.to_categorical(y, 3, dtype=\"float32\")\n",
    "del y"
   ]
  },
  {
   "cell_type": "markdown",
   "metadata": {},
   "source": [
    "# Training the Model"
   ]
  },
  {
   "cell_type": "code",
   "execution_count": 31,
   "metadata": {},
   "outputs": [
    {
     "name": "stdout",
     "output_type": "stream",
     "text": [
      "Epoch 1/80\n",
      "687/687 [==============================] - 16s 21ms/step - loss: 0.6985 - accuracy: 0.7087 - val_loss: 0.5163 - val_accuracy: 0.7910\n",
      "Epoch 2/80\n",
      "687/687 [==============================] - 15s 22ms/step - loss: 0.4584 - accuracy: 0.8246 - val_loss: 0.4509 - val_accuracy: 0.8323\n",
      "Epoch 3/80\n",
      "687/687 [==============================] - 15s 22ms/step - loss: 0.3955 - accuracy: 0.8540 - val_loss: 0.4406 - val_accuracy: 0.8330\n",
      "Epoch 4/80\n",
      "687/687 [==============================] - 15s 22ms/step - loss: 0.3637 - accuracy: 0.8651 - val_loss: 0.4345 - val_accuracy: 0.8392\n",
      "Epoch 5/80\n",
      "687/687 [==============================] - 16s 23ms/step - loss: 0.3385 - accuracy: 0.8742 - val_loss: 0.4442 - val_accuracy: 0.8341\n",
      "Epoch 6/80\n",
      "687/687 [==============================] - 16s 23ms/step - loss: 0.3173 - accuracy: 0.8821 - val_loss: 0.4514 - val_accuracy: 0.8368\n",
      "Epoch 7/80\n",
      "687/687 [==============================] - 16s 23ms/step - loss: 0.3081 - accuracy: 0.8872 - val_loss: 0.4533 - val_accuracy: 0.8263\n",
      "Epoch 8/80\n",
      "687/687 [==============================] - 16s 23ms/step - loss: 0.2931 - accuracy: 0.8943 - val_loss: 0.4582 - val_accuracy: 0.8346\n",
      "Epoch 9/80\n",
      "687/687 [==============================] - 16s 23ms/step - loss: 0.2849 - accuracy: 0.8965 - val_loss: 0.4639 - val_accuracy: 0.8341\n",
      "Epoch 10/80\n",
      "687/687 [==============================] - 16s 23ms/step - loss: 0.2774 - accuracy: 0.8995 - val_loss: 0.4682 - val_accuracy: 0.8366\n",
      "Epoch 11/80\n",
      "687/687 [==============================] - 16s 23ms/step - loss: 0.2695 - accuracy: 0.9019 - val_loss: 0.4712 - val_accuracy: 0.8395\n",
      "Epoch 12/80\n",
      "687/687 [==============================] - 16s 23ms/step - loss: 0.2630 - accuracy: 0.9060 - val_loss: 0.4716 - val_accuracy: 0.8335\n",
      "Epoch 13/80\n",
      "687/687 [==============================] - 15s 23ms/step - loss: 0.2552 - accuracy: 0.9050 - val_loss: 0.4773 - val_accuracy: 0.8352\n",
      "Epoch 14/80\n",
      "687/687 [==============================] - 15s 22ms/step - loss: 0.2542 - accuracy: 0.9090 - val_loss: 0.4808 - val_accuracy: 0.8388\n",
      "Epoch 15/80\n",
      "687/687 [==============================] - 15s 22ms/step - loss: 0.2453 - accuracy: 0.9088 - val_loss: 0.4877 - val_accuracy: 0.8319\n",
      "Epoch 16/80\n",
      "687/687 [==============================] - 15s 22ms/step - loss: 0.2409 - accuracy: 0.9118 - val_loss: 0.4877 - val_accuracy: 0.8319\n",
      "Epoch 17/80\n",
      "687/687 [==============================] - 16s 23ms/step - loss: 0.2344 - accuracy: 0.9133 - val_loss: 0.5012 - val_accuracy: 0.8319\n",
      "Epoch 18/80\n",
      "687/687 [==============================] - 16s 23ms/step - loss: 0.2334 - accuracy: 0.9137 - val_loss: 0.4988 - val_accuracy: 0.8323\n",
      "Epoch 19/80\n",
      "687/687 [==============================] - 16s 23ms/step - loss: 0.2265 - accuracy: 0.9163 - val_loss: 0.4985 - val_accuracy: 0.8330\n",
      "Epoch 20/80\n",
      "687/687 [==============================] - 16s 23ms/step - loss: 0.2202 - accuracy: 0.9178 - val_loss: 0.5197 - val_accuracy: 0.8254\n",
      "Epoch 21/80\n",
      "687/687 [==============================] - 16s 23ms/step - loss: 0.2190 - accuracy: 0.9178 - val_loss: 0.5359 - val_accuracy: 0.8286\n",
      "Epoch 22/80\n",
      "687/687 [==============================] - 16s 23ms/step - loss: 0.2146 - accuracy: 0.9191 - val_loss: 0.5251 - val_accuracy: 0.8292\n",
      "Epoch 23/80\n",
      "687/687 [==============================] - 16s 23ms/step - loss: 0.2081 - accuracy: 0.9208 - val_loss: 0.5214 - val_accuracy: 0.8299\n",
      "Epoch 24/80\n",
      "687/687 [==============================] - 16s 23ms/step - loss: 0.2084 - accuracy: 0.9229 - val_loss: 0.5349 - val_accuracy: 0.8306\n",
      "Epoch 25/80\n",
      "687/687 [==============================] - 15s 22ms/step - loss: 0.2025 - accuracy: 0.9249 - val_loss: 0.5292 - val_accuracy: 0.8303\n",
      "Epoch 26/80\n",
      "687/687 [==============================] - 15s 22ms/step - loss: 0.2041 - accuracy: 0.9227 - val_loss: 0.5436 - val_accuracy: 0.8325\n",
      "Epoch 27/80\n",
      "687/687 [==============================] - 16s 23ms/step - loss: 0.1952 - accuracy: 0.9257 - val_loss: 0.5643 - val_accuracy: 0.8319\n",
      "Epoch 28/80\n",
      "687/687 [==============================] - 16s 23ms/step - loss: 0.1960 - accuracy: 0.9272 - val_loss: 0.5507 - val_accuracy: 0.8321\n",
      "Epoch 29/80\n",
      "687/687 [==============================] - 16s 23ms/step - loss: 0.1947 - accuracy: 0.9260 - val_loss: 0.5547 - val_accuracy: 0.8346\n",
      "Epoch 30/80\n",
      "687/687 [==============================] - 15s 22ms/step - loss: 0.1885 - accuracy: 0.9291 - val_loss: 0.5633 - val_accuracy: 0.8317\n",
      "Epoch 31/80\n",
      "687/687 [==============================] - 15s 23ms/step - loss: 0.1865 - accuracy: 0.9295 - val_loss: 0.5744 - val_accuracy: 0.8350\n",
      "Epoch 32/80\n",
      "687/687 [==============================] - 16s 23ms/step - loss: 0.1882 - accuracy: 0.9306 - val_loss: 0.5668 - val_accuracy: 0.8323\n",
      "Epoch 33/80\n",
      "687/687 [==============================] - 16s 23ms/step - loss: 0.1796 - accuracy: 0.9318 - val_loss: 0.5847 - val_accuracy: 0.8345\n",
      "Epoch 34/80\n",
      "687/687 [==============================] - 15s 22ms/step - loss: 0.1802 - accuracy: 0.9324 - val_loss: 0.5802 - val_accuracy: 0.8308\n",
      "Epoch 35/80\n",
      "687/687 [==============================] - 15s 22ms/step - loss: 0.1796 - accuracy: 0.9325 - val_loss: 0.5979 - val_accuracy: 0.8345\n",
      "Epoch 36/80\n",
      "687/687 [==============================] - 15s 22ms/step - loss: 0.1739 - accuracy: 0.9335 - val_loss: 0.6081 - val_accuracy: 0.8306\n",
      "Epoch 37/80\n",
      "687/687 [==============================] - 15s 22ms/step - loss: 0.1801 - accuracy: 0.9319 - val_loss: 0.5873 - val_accuracy: 0.8337\n",
      "Epoch 38/80\n",
      "687/687 [==============================] - 16s 23ms/step - loss: 0.1774 - accuracy: 0.9313 - val_loss: 0.5922 - val_accuracy: 0.8339\n",
      "Epoch 39/80\n",
      "687/687 [==============================] - 15s 22ms/step - loss: 0.1721 - accuracy: 0.9359 - val_loss: 0.6057 - val_accuracy: 0.8315\n",
      "Epoch 40/80\n",
      "687/687 [==============================] - 15s 22ms/step - loss: 0.1721 - accuracy: 0.9353 - val_loss: 0.6087 - val_accuracy: 0.8321\n",
      "Epoch 41/80\n",
      "687/687 [==============================] - 15s 22ms/step - loss: 0.1719 - accuracy: 0.9355 - val_loss: 0.6036 - val_accuracy: 0.8326\n",
      "Epoch 42/80\n",
      "687/687 [==============================] - 15s 22ms/step - loss: 0.1695 - accuracy: 0.9360 - val_loss: 0.6123 - val_accuracy: 0.8348\n",
      "Epoch 43/80\n",
      "687/687 [==============================] - 16s 23ms/step - loss: 0.1678 - accuracy: 0.9369 - val_loss: 0.6191 - val_accuracy: 0.8319\n",
      "Epoch 44/80\n",
      "687/687 [==============================] - 15s 22ms/step - loss: 0.1650 - accuracy: 0.9367 - val_loss: 0.6096 - val_accuracy: 0.8337\n",
      "Epoch 45/80\n",
      "687/687 [==============================] - 15s 22ms/step - loss: 0.1641 - accuracy: 0.9390 - val_loss: 0.6315 - val_accuracy: 0.8310\n",
      "Epoch 46/80\n",
      "687/687 [==============================] - 15s 22ms/step - loss: 0.1655 - accuracy: 0.9381 - val_loss: 0.6162 - val_accuracy: 0.8341\n",
      "Epoch 47/80\n",
      "687/687 [==============================] - 15s 22ms/step - loss: 0.1675 - accuracy: 0.9349 - val_loss: 0.6320 - val_accuracy: 0.8335\n",
      "Epoch 48/80\n",
      "687/687 [==============================] - 15s 22ms/step - loss: 0.1607 - accuracy: 0.9399 - val_loss: 0.6437 - val_accuracy: 0.8314\n",
      "Epoch 49/80\n",
      "687/687 [==============================] - 15s 22ms/step - loss: 0.1636 - accuracy: 0.9374 - val_loss: 0.6242 - val_accuracy: 0.8341\n",
      "Epoch 50/80\n",
      "687/687 [==============================] - 16s 23ms/step - loss: 0.1584 - accuracy: 0.9395 - val_loss: 0.6426 - val_accuracy: 0.8330\n",
      "Epoch 51/80\n",
      "687/687 [==============================] - 16s 23ms/step - loss: 0.1618 - accuracy: 0.9377 - val_loss: 0.6335 - val_accuracy: 0.8363\n",
      "Epoch 52/80\n",
      "687/687 [==============================] - 15s 22ms/step - loss: 0.1580 - accuracy: 0.9408 - val_loss: 0.6457 - val_accuracy: 0.8339\n",
      "Epoch 53/80\n",
      "687/687 [==============================] - 15s 22ms/step - loss: 0.1581 - accuracy: 0.9406 - val_loss: 0.6406 - val_accuracy: 0.8308\n",
      "Epoch 54/80\n",
      "687/687 [==============================] - 16s 23ms/step - loss: 0.1581 - accuracy: 0.9423 - val_loss: 0.6552 - val_accuracy: 0.8330\n",
      "Epoch 55/80\n",
      "687/687 [==============================] - 16s 23ms/step - loss: 0.1564 - accuracy: 0.9412 - val_loss: 0.6512 - val_accuracy: 0.8223\n",
      "Epoch 56/80\n",
      "687/687 [==============================] - 16s 23ms/step - loss: 0.1575 - accuracy: 0.9400 - val_loss: 0.6468 - val_accuracy: 0.8301\n",
      "Epoch 57/80\n",
      "687/687 [==============================] - 15s 22ms/step - loss: 0.1588 - accuracy: 0.9405 - val_loss: 0.6541 - val_accuracy: 0.8275\n",
      "Epoch 58/80\n",
      "687/687 [==============================] - 15s 22ms/step - loss: 0.1590 - accuracy: 0.9406 - val_loss: 0.6573 - val_accuracy: 0.8277\n",
      "Epoch 59/80\n",
      "687/687 [==============================] - 15s 22ms/step - loss: 0.1569 - accuracy: 0.9414 - val_loss: 0.6548 - val_accuracy: 0.8314\n",
      "Epoch 60/80\n",
      "687/687 [==============================] - 15s 22ms/step - loss: 0.1573 - accuracy: 0.9390 - val_loss: 0.6633 - val_accuracy: 0.8297\n",
      "Epoch 61/80\n",
      "687/687 [==============================] - 15s 22ms/step - loss: 0.1546 - accuracy: 0.9415 - val_loss: 0.6587 - val_accuracy: 0.8299\n",
      "Epoch 62/80\n",
      "687/687 [==============================] - 15s 22ms/step - loss: 0.1532 - accuracy: 0.9412 - val_loss: 0.6602 - val_accuracy: 0.8319\n",
      "Epoch 63/80\n",
      "687/687 [==============================] - 430s 626ms/step - loss: 0.1531 - accuracy: 0.9420 - val_loss: 0.6647 - val_accuracy: 0.8292\n",
      "Epoch 64/80\n",
      "687/687 [==============================] - 15s 22ms/step - loss: 0.1532 - accuracy: 0.9429 - val_loss: 0.6815 - val_accuracy: 0.8190\n",
      "Epoch 65/80\n",
      "687/687 [==============================] - 15s 22ms/step - loss: 0.1494 - accuracy: 0.9428 - val_loss: 0.6722 - val_accuracy: 0.8312\n",
      "Epoch 66/80\n",
      "687/687 [==============================] - 15s 22ms/step - loss: 0.1482 - accuracy: 0.9440 - val_loss: 0.6699 - val_accuracy: 0.8321\n",
      "Epoch 67/80\n",
      "687/687 [==============================] - 15s 23ms/step - loss: 0.1509 - accuracy: 0.9430 - val_loss: 0.6722 - val_accuracy: 0.8277\n",
      "Epoch 68/80\n",
      "687/687 [==============================] - 15s 22ms/step - loss: 0.1494 - accuracy: 0.9443 - val_loss: 0.6797 - val_accuracy: 0.8306\n",
      "Epoch 69/80\n",
      "687/687 [==============================] - 15s 22ms/step - loss: 0.1465 - accuracy: 0.9437 - val_loss: 0.6846 - val_accuracy: 0.8299\n",
      "Epoch 70/80\n",
      "687/687 [==============================] - 15s 22ms/step - loss: 0.1466 - accuracy: 0.9461 - val_loss: 0.6864 - val_accuracy: 0.8275\n",
      "Epoch 71/80\n",
      "687/687 [==============================] - 15s 22ms/step - loss: 0.1480 - accuracy: 0.9444 - val_loss: 0.6853 - val_accuracy: 0.8341\n",
      "Epoch 72/80\n",
      "687/687 [==============================] - 16s 23ms/step - loss: 0.1460 - accuracy: 0.9431 - val_loss: 0.6993 - val_accuracy: 0.8244\n",
      "Epoch 73/80\n",
      "687/687 [==============================] - 16s 23ms/step - loss: 0.1469 - accuracy: 0.9441 - val_loss: 0.6925 - val_accuracy: 0.8295\n",
      "Epoch 74/80\n",
      "687/687 [==============================] - 15s 22ms/step - loss: 0.1491 - accuracy: 0.9432 - val_loss: 0.6834 - val_accuracy: 0.8285\n",
      "Epoch 75/80\n",
      "687/687 [==============================] - 15s 22ms/step - loss: 0.1460 - accuracy: 0.9446 - val_loss: 0.6908 - val_accuracy: 0.8252\n",
      "Epoch 76/80\n",
      "687/687 [==============================] - 15s 22ms/step - loss: 0.1465 - accuracy: 0.9446 - val_loss: 0.6871 - val_accuracy: 0.8328\n",
      "Epoch 77/80\n",
      "687/687 [==============================] - 15s 22ms/step - loss: 0.1390 - accuracy: 0.9472 - val_loss: 0.7090 - val_accuracy: 0.8255\n",
      "Epoch 78/80\n",
      "687/687 [==============================] - 16s 23ms/step - loss: 0.1423 - accuracy: 0.9454 - val_loss: 0.7068 - val_accuracy: 0.8261\n",
      "Epoch 79/80\n",
      "687/687 [==============================] - 16s 23ms/step - loss: 0.1443 - accuracy: 0.9434 - val_loss: 0.6917 - val_accuracy: 0.8292\n",
      "Epoch 80/80\n",
      "687/687 [==============================] - 16s 23ms/step - loss: 0.1412 - accuracy: 0.9468 - val_loss: 0.6979 - val_accuracy: 0.8306\n"
     ]
    }
   ],
   "source": [
    "history = model2.fit(x = tweets, y= labels, epochs=80,validation_split=0.2)"
   ]
  },
  {
   "cell_type": "code",
   "execution_count": 32,
   "metadata": {},
   "outputs": [],
   "source": [
    "import matplotlib.pyplot as plt"
   ]
  },
  {
   "cell_type": "markdown",
   "metadata": {},
   "source": [
    "# Visualizing Loss"
   ]
  },
  {
   "cell_type": "code",
   "execution_count": 33,
   "metadata": {},
   "outputs": [
    {
     "data": {
      "image/png": "[encoded data removed]",
      "text/plain": [
       "<Figure size 640x480 with 1 Axes>"
      ]
     },
     "metadata": {},
     "output_type": "display_data"
    }
   ],
   "source": [
    "plt.plot(history.history['loss'])\n",
    "plt.plot(history.history['val_loss'])\n",
    "plt.title('Loss')\n",
    "plt.ylabel('loss')\n",
    "plt.xlabel('epoch')\n",
    "plt.legend(['train', 'validation'], loc='upper left')\n",
    "plt.show()"
   ]
  },
  {
   "cell_type": "code",
   "execution_count": 34,
   "metadata": {},
   "outputs": [
    {
     "data": {
      "image/png": "[encoded data removed]",
      "text/plain": [
       "<Figure size 640x480 with 1 Axes>"
      ]
     },
     "metadata": {},
     "output_type": "display_data"
    }
   ],
   "source": [
    "plt.plot(history.history['accuracy'])\n",
    "plt.plot(history.history['val_accuracy'])\n",
    "plt.title('Accuracy')\n",
    "plt.ylabel('Accuracy')\n",
    "plt.xlabel('epoch')\n",
    "plt.legend(['train', 'validation'], loc='upper left')\n",
    "plt.show()"
   ]
  },
  {
   "cell_type": "markdown",
   "metadata": {},
   "source": [
    "# Prediction and Result"
   ]
  },
  {
   "cell_type": "code",
   "execution_count": 47,
   "metadata": {
    "execution": {
     "iopub.status.busy": "2022-09-09T09:00:10.570783Z",
     "iopub.status.idle": "2022-09-09T09:00:10.571958Z",
     "shell.execute_reply": "2022-09-09T09:00:10.571543Z",
     "shell.execute_reply.started": "2022-09-09T09:00:10.571513Z"
    }
   },
   "outputs": [],
   "source": [
    "sentiment = ['Neutral','Negative','Positive']"
   ]
  },
  {
   "cell_type": "code",
   "execution_count": 48,
   "metadata": {
    "execution": {
     "iopub.status.busy": "2022-09-09T09:00:10.574124Z",
     "iopub.status.idle": "2022-09-09T09:00:10.575349Z",
     "shell.execute_reply": "2022-09-09T09:00:10.574899Z",
     "shell.execute_reply.started": "2022-09-09T09:00:10.57487Z"
    }
   },
   "outputs": [
    {
     "name": "stdout",
     "output_type": "stream",
     "text": [
      "1/1 [==============================] - 1s 518ms/step\n"
     ]
    },
    {
     "data": {
      "text/plain": [
       "'Negative'"
      ]
     },
     "execution_count": 48,
     "metadata": {},
     "output_type": "execute_result"
    }
   ],
   "source": [
    "sequence = tokenizer.texts_to_sequences(['this experience has been the worst, very bad product'])\n",
    "test = pad_sequences(sequence, maxlen=max_len)\n",
    "sentiment[np.around(model2.predict(test), decimals=0).argmax(axis=1)[0]]"
   ]
  },
  {
   "cell_type": "code",
   "execution_count": 49,
   "metadata": {
    "execution": {
     "iopub.status.busy": "2022-09-09T09:00:10.57736Z",
     "iopub.status.idle": "2022-09-09T09:00:10.578554Z",
     "shell.execute_reply": "2022-09-09T09:00:10.578249Z",
     "shell.execute_reply.started": "2022-09-09T09:00:10.578187Z"
    }
   },
   "outputs": [
    {
     "name": "stdout",
     "output_type": "stream",
     "text": [
      "1/1 [==============================] - 0s 24ms/step\n"
     ]
    },
    {
     "data": {
      "text/plain": [
       "'Positive'"
      ]
     },
     "execution_count": 49,
     "metadata": {},
     "output_type": "execute_result"
    }
   ],
   "source": [
    "sequence = tokenizer.texts_to_sequences(['i really love this internship'])\n",
    "test = pad_sequences(sequence, maxlen=max_len)\n",
    "sentiment[np.around(model2.predict(test), decimals=0).argmax(axis=1)[0]]"
   ]
  },
  {
   "cell_type": "code",
   "execution_count": 50,
   "metadata": {
    "execution": {
     "iopub.status.busy": "2022-09-09T09:00:10.580481Z",
     "iopub.status.idle": "2022-09-09T09:00:10.58161Z",
     "shell.execute_reply": "2022-09-09T09:00:10.58135Z",
     "shell.execute_reply.started": "2022-09-09T09:00:10.58132Z"
    }
   },
   "outputs": [
    {
     "name": "stdout",
     "output_type": "stream",
     "text": [
      "1/1 [==============================] - 0s 22ms/step\n"
     ]
    },
    {
     "data": {
      "text/plain": [
       "'Positive'"
      ]
     },
     "execution_count": 50,
     "metadata": {},
     "output_type": "execute_result"
    }
   ],
   "source": [
    "sequence = tokenizer.texts_to_sequences(['i love sayabidevs'])\n",
    "test = pad_sequences(sequence, maxlen=max_len)\n",
    "sentiment[np.around(model2.predict(test), decimals=0).argmax(axis=1)[0]]"
   ]
  },
  {
   "cell_type": "code",
   "execution_count": 54,
   "metadata": {
    "execution": {
     "iopub.status.busy": "2022-09-09T09:00:10.583671Z",
     "iopub.status.idle": "2022-09-09T09:00:10.584718Z",
     "shell.execute_reply": "2022-09-09T09:00:10.58446Z",
     "shell.execute_reply.started": "2022-09-09T09:00:10.584429Z"
    }
   },
   "outputs": [
    {
     "name": "stdout",
     "output_type": "stream",
     "text": [
      "1/1 [==============================] - 0s 59ms/step\n"
     ]
    },
    {
     "data": {
      "text/plain": [
       "'Neutral'"
      ]
     },
     "execution_count": 54,
     "metadata": {},
     "output_type": "execute_result"
    }
   ],
   "source": [
    "sequence = tokenizer.texts_to_sequences(['I go to gym daily'])\n",
    "test = pad_sequences(sequence, maxlen=max_len)\n",
    "sentiment[np.around(model2.predict(test), decimals=0).argmax(axis=1)[0]]"
   ]
  },
  {
   "cell_type": "code",
   "execution_count": 36,
   "metadata": {},
   "outputs": [
    {
     "name": "stdout",
     "output_type": "stream",
     "text": [
      "INFO:tensorflow:Assets written to: /Users/lubicasimkovicova/Desktop/Bachelorthesis---Sentiment-Analysis-with-Deep-Learning-main-2/model/assets\n"
     ]
    },
    {
     "name": "stderr",
     "output_type": "stream",
     "text": [
      "INFO:tensorflow:Assets written to: /Users/lubicasimkovicova/Desktop/Bachelorthesis---Sentiment-Analysis-with-Deep-Learning-main-2/model/assets\n"
     ]
    }
   ],
   "source": [
    "# saving the model\n",
    "model2.save(\"/Users/lubicasimkovicova/Desktop/Bachelorthesis---Sentiment-Analysis-with-Deep-Learning-main-2/model\")"
   ]
  },
  {
   "cell_type": "code",
   "execution_count": null,
   "metadata": {},
   "outputs": [],
   "source": []
  }
 ],
 "metadata": {
  "kaggle": {
   "accelerator": "none",
   "dataSources": [
    {
     "datasetId": 2466694,
     "sourceId": 4180864,
     "sourceType": "datasetVersion"
    }
   ],
   "dockerImageVersionId": 30235,
   "isGpuEnabled": false,
   "isInternetEnabled": true,
   "language": "python",
   "sourceType": "notebook"
  },
  "kernelspec": {
   "display_name": "Python 3 (ipykernel)",
   "language": "python",
   "name": "python3"
  },
  "language_info": {
   "codemirror_mode": {
    "name": "ipython",
    "version": 3
   },
   "file_extension": ".py",
   "mimetype": "text/x-python",
   "name": "python",
   "nbconvert_exporter": "python",
   "pygments_lexer": "ipython3",
   "version": "3.9.6"
  }
 },
 "nbformat": 4,
 "nbformat_minor": 4
}
