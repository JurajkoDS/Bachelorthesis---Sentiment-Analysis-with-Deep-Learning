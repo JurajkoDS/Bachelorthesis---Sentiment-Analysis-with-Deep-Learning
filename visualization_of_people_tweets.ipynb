{
 "cells": [
  {
   "cell_type": "code",
   "execution_count": 1,
   "id": "13ffdf3f",
   "metadata": {},
   "outputs": [
    {
     "name": "stderr",
     "output_type": "stream",
     "text": [
      "2023-12-09 18:20:12.786707: I tensorflow/core/platform/cpu_feature_guard.cc:182] This TensorFlow binary is optimized to use available CPU instructions in performance-critical operations.\n",
      "To enable the following instructions: AVX2 FMA, in other operations, rebuild TensorFlow with the appropriate compiler flags.\n"
     ]
    }
   ],
   "source": [
    "import tensorflow as tf\n",
    "import pandas as pd\n",
    "import regex as re\n",
    "from keras.preprocessing.text import Tokenizer\n",
    "from keras_preprocessing.sequence import pad_sequences\n",
    "from keras import regularizers\n",
    "import numpy as np"
   ]
  },
  {
   "cell_type": "code",
   "execution_count": 2,
   "id": "ec2d835e",
   "metadata": {},
   "outputs": [],
   "source": [
    "# Load the saved model\n",
    "loaded_model = tf.keras.models.load_model(\"/Users/jurajsimkovic/Desktop/WU/Bachelorarbeit/model\")"
   ]
  },
  {
   "cell_type": "code",
   "execution_count": 57,
   "id": "56ed9600",
   "metadata": {},
   "outputs": [],
   "source": [
    "# import tweets from Clinton and Trump\n",
    "df = pd.read_csv('/Users/jurajsimkovic/Desktop/WU/Bachelorarbeit/data/2016_us_election_tweets_100k.csv')"
   ]
  },
  {
   "cell_type": "code",
   "execution_count": 58,
   "id": "dee01109",
   "metadata": {
    "scrolled": true
   },
   "outputs": [
    {
     "data": {
      "text/html": [
       "<div>\n",
       "<style scoped>\n",
       "    .dataframe tbody tr th:only-of-type {\n",
       "        vertical-align: middle;\n",
       "    }\n",
       "\n",
       "    .dataframe tbody tr th {\n",
       "        vertical-align: top;\n",
       "    }\n",
       "\n",
       "    .dataframe thead th {\n",
       "        text-align: right;\n",
       "    }\n",
       "</style>\n",
       "<table border=\"1\" class=\"dataframe\">\n",
       "  <thead>\n",
       "    <tr style=\"text-align: right;\">\n",
       "      <th></th>\n",
       "      <th>id</th>\n",
       "      <th>candidate_id</th>\n",
       "      <th>tweet_id</th>\n",
       "      <th>polarity</th>\n",
       "      <th>subjectivity</th>\n",
       "      <th>retweet_count</th>\n",
       "      <th>favorite_count</th>\n",
       "      <th>device</th>\n",
       "      <th>retweeted_status_id</th>\n",
       "      <th>lang</th>\n",
       "      <th>state</th>\n",
       "      <th>tweet_text</th>\n",
       "      <th>created_at</th>\n",
       "      <th>inserted_at</th>\n",
       "      <th>updated_at</th>\n",
       "      <th>tw_user_id</th>\n",
       "      <th>latitude</th>\n",
       "      <th>longitude</th>\n",
       "    </tr>\n",
       "  </thead>\n",
       "  <tbody>\n",
       "    <tr>\n",
       "      <th>0</th>\n",
       "      <td>57486</td>\n",
       "      <td>3</td>\n",
       "      <td>770728672433143808</td>\n",
       "      <td>0.000000</td>\n",
       "      <td>0.000000</td>\n",
       "      <td>0</td>\n",
       "      <td>0</td>\n",
       "      <td>1</td>\n",
       "      <td>NaN</td>\n",
       "      <td>tr</td>\n",
       "      <td>NaN</td>\n",
       "      <td>Ne farkınız var DAIŞ, El-Kaide, El Nusra, YPG ...</td>\n",
       "      <td>2016-08-30T21:03:29</td>\n",
       "      <td>2016-08-30T21:03:29</td>\n",
       "      <td>2016-08-30T21:03:29</td>\n",
       "      <td>NaN</td>\n",
       "      <td>NaN</td>\n",
       "      <td>NaN</td>\n",
       "    </tr>\n",
       "    <tr>\n",
       "      <th>1</th>\n",
       "      <td>57536</td>\n",
       "      <td>3</td>\n",
       "      <td>770729424207618048</td>\n",
       "      <td>0.000000</td>\n",
       "      <td>0.000000</td>\n",
       "      <td>0</td>\n",
       "      <td>0</td>\n",
       "      <td>1</td>\n",
       "      <td>NaN</td>\n",
       "      <td>en</td>\n",
       "      <td>NaN</td>\n",
       "      <td>@BarackObama the way you showed up in Louisian...</td>\n",
       "      <td>2016-08-30T21:06:28</td>\n",
       "      <td>2016-08-30T21:06:29</td>\n",
       "      <td>2016-08-30T21:06:29</td>\n",
       "      <td>NaN</td>\n",
       "      <td>NaN</td>\n",
       "      <td>NaN</td>\n",
       "    </tr>\n",
       "    <tr>\n",
       "      <th>2</th>\n",
       "      <td>57586</td>\n",
       "      <td>3</td>\n",
       "      <td>770730086978977796</td>\n",
       "      <td>-0.472222</td>\n",
       "      <td>0.555556</td>\n",
       "      <td>0</td>\n",
       "      <td>0</td>\n",
       "      <td>1</td>\n",
       "      <td>NaN</td>\n",
       "      <td>en</td>\n",
       "      <td>NaN</td>\n",
       "      <td>White house not taking tax avoid seriously! Ap...</td>\n",
       "      <td>2016-08-30T21:09:06</td>\n",
       "      <td>2016-08-30T21:09:07</td>\n",
       "      <td>2016-08-30T21:09:07</td>\n",
       "      <td>NaN</td>\n",
       "      <td>NaN</td>\n",
       "      <td>NaN</td>\n",
       "    </tr>\n",
       "    <tr>\n",
       "      <th>3</th>\n",
       "      <td>57632</td>\n",
       "      <td>2</td>\n",
       "      <td>770748036972773376</td>\n",
       "      <td>0.000000</td>\n",
       "      <td>0.000000</td>\n",
       "      <td>0</td>\n",
       "      <td>0</td>\n",
       "      <td>0</td>\n",
       "      <td>NaN</td>\n",
       "      <td>en</td>\n",
       "      <td>NaN</td>\n",
       "      <td>politico: .realDonaldTrump, HillaryClinton ple...</td>\n",
       "      <td>2016-08-30T22:20:26</td>\n",
       "      <td>2016-08-30T22:20:26</td>\n",
       "      <td>2016-08-30T22:20:26</td>\n",
       "      <td>NaN</td>\n",
       "      <td>NaN</td>\n",
       "      <td>NaN</td>\n",
       "    </tr>\n",
       "    <tr>\n",
       "      <th>4</th>\n",
       "      <td>57682</td>\n",
       "      <td>1</td>\n",
       "      <td>770748065531723778</td>\n",
       "      <td>-0.125000</td>\n",
       "      <td>0.375000</td>\n",
       "      <td>0</td>\n",
       "      <td>0</td>\n",
       "      <td>5</td>\n",
       "      <td>NaN</td>\n",
       "      <td>en</td>\n",
       "      <td>NaN</td>\n",
       "      <td>She's over due by 250 days. https://t.co/IfOO9...</td>\n",
       "      <td>2016-08-30T22:20:33</td>\n",
       "      <td>2016-08-30T22:20:33</td>\n",
       "      <td>2016-08-30T22:20:33</td>\n",
       "      <td>NaN</td>\n",
       "      <td>NaN</td>\n",
       "      <td>NaN</td>\n",
       "    </tr>\n",
       "  </tbody>\n",
       "</table>\n",
       "</div>"
      ],
      "text/plain": [
       "      id  candidate_id            tweet_id  polarity  subjectivity  \\\n",
       "0  57486             3  770728672433143808  0.000000      0.000000   \n",
       "1  57536             3  770729424207618048  0.000000      0.000000   \n",
       "2  57586             3  770730086978977796 -0.472222      0.555556   \n",
       "3  57632             2  770748036972773376  0.000000      0.000000   \n",
       "4  57682             1  770748065531723778 -0.125000      0.375000   \n",
       "\n",
       "   retweet_count  favorite_count  device  retweeted_status_id lang state  \\\n",
       "0              0               0       1                  NaN   tr   NaN   \n",
       "1              0               0       1                  NaN   en   NaN   \n",
       "2              0               0       1                  NaN   en   NaN   \n",
       "3              0               0       0                  NaN   en   NaN   \n",
       "4              0               0       5                  NaN   en   NaN   \n",
       "\n",
       "                                          tweet_text           created_at  \\\n",
       "0  Ne farkınız var DAIŞ, El-Kaide, El Nusra, YPG ...  2016-08-30T21:03:29   \n",
       "1  @BarackObama the way you showed up in Louisian...  2016-08-30T21:06:28   \n",
       "2  White house not taking tax avoid seriously! Ap...  2016-08-30T21:09:06   \n",
       "3  politico: .realDonaldTrump, HillaryClinton ple...  2016-08-30T22:20:26   \n",
       "4  She's over due by 250 days. https://t.co/IfOO9...  2016-08-30T22:20:33   \n",
       "\n",
       "           inserted_at           updated_at  tw_user_id  latitude  longitude  \n",
       "0  2016-08-30T21:03:29  2016-08-30T21:03:29         NaN       NaN        NaN  \n",
       "1  2016-08-30T21:06:29  2016-08-30T21:06:29         NaN       NaN        NaN  \n",
       "2  2016-08-30T21:09:07  2016-08-30T21:09:07         NaN       NaN        NaN  \n",
       "3  2016-08-30T22:20:26  2016-08-30T22:20:26         NaN       NaN        NaN  \n",
       "4  2016-08-30T22:20:33  2016-08-30T22:20:33         NaN       NaN        NaN  "
      ]
     },
     "execution_count": 58,
     "metadata": {},
     "output_type": "execute_result"
    }
   ],
   "source": [
    "df.head()"
   ]
  },
  {
   "cell_type": "code",
   "execution_count": 59,
   "id": "37cfa26d",
   "metadata": {},
   "outputs": [
    {
     "data": {
      "text/plain": [
       "(100000, 18)"
      ]
     },
     "execution_count": 59,
     "metadata": {},
     "output_type": "execute_result"
    }
   ],
   "source": [
    "df.shape"
   ]
  },
  {
   "cell_type": "code",
   "execution_count": 60,
   "id": "13b6f2d3",
   "metadata": {},
   "outputs": [
    {
     "data": {
      "text/plain": [
       "Index(['id', 'candidate_id', 'tweet_id', 'polarity', 'subjectivity',\n",
       "       'retweet_count', 'favorite_count', 'device', 'retweeted_status_id',\n",
       "       'lang', 'state', 'tweet_text', 'created_at', 'inserted_at',\n",
       "       'updated_at', 'tw_user_id', 'latitude', 'longitude'],\n",
       "      dtype='object')"
      ]
     },
     "execution_count": 60,
     "metadata": {},
     "output_type": "execute_result"
    }
   ],
   "source": [
    "df.columns"
   ]
  },
  {
   "cell_type": "code",
   "execution_count": 61,
   "id": "5eb75913",
   "metadata": {},
   "outputs": [],
   "source": [
    "# get only text and candidate_id\n",
    "df = df.drop(['id', 'tweet_id', 'polarity', 'subjectivity',\n",
    "       'retweet_count', 'favorite_count', 'device', 'retweeted_status_id',\n",
    "       'lang', 'state', 'inserted_at',\n",
    "       'updated_at', 'tw_user_id', 'latitude', 'longitude'],axis=1)"
   ]
  },
  {
   "cell_type": "code",
   "execution_count": 62,
   "id": "3f9ce86e",
   "metadata": {
    "scrolled": true
   },
   "outputs": [
    {
     "data": {
      "text/html": [
       "<div>\n",
       "<style scoped>\n",
       "    .dataframe tbody tr th:only-of-type {\n",
       "        vertical-align: middle;\n",
       "    }\n",
       "\n",
       "    .dataframe tbody tr th {\n",
       "        vertical-align: top;\n",
       "    }\n",
       "\n",
       "    .dataframe thead th {\n",
       "        text-align: right;\n",
       "    }\n",
       "</style>\n",
       "<table border=\"1\" class=\"dataframe\">\n",
       "  <thead>\n",
       "    <tr style=\"text-align: right;\">\n",
       "      <th></th>\n",
       "      <th>candidate_id</th>\n",
       "      <th>tweet_text</th>\n",
       "      <th>created_at</th>\n",
       "    </tr>\n",
       "  </thead>\n",
       "  <tbody>\n",
       "    <tr>\n",
       "      <th>0</th>\n",
       "      <td>3</td>\n",
       "      <td>Ne farkınız var DAIŞ, El-Kaide, El Nusra, YPG ...</td>\n",
       "      <td>2016-08-30T21:03:29</td>\n",
       "    </tr>\n",
       "    <tr>\n",
       "      <th>1</th>\n",
       "      <td>3</td>\n",
       "      <td>@BarackObama the way you showed up in Louisian...</td>\n",
       "      <td>2016-08-30T21:06:28</td>\n",
       "    </tr>\n",
       "    <tr>\n",
       "      <th>2</th>\n",
       "      <td>3</td>\n",
       "      <td>White house not taking tax avoid seriously! Ap...</td>\n",
       "      <td>2016-08-30T21:09:06</td>\n",
       "    </tr>\n",
       "    <tr>\n",
       "      <th>3</th>\n",
       "      <td>2</td>\n",
       "      <td>politico: .realDonaldTrump, HillaryClinton ple...</td>\n",
       "      <td>2016-08-30T22:20:26</td>\n",
       "    </tr>\n",
       "    <tr>\n",
       "      <th>4</th>\n",
       "      <td>1</td>\n",
       "      <td>She's over due by 250 days. https://t.co/IfOO9...</td>\n",
       "      <td>2016-08-30T22:20:33</td>\n",
       "    </tr>\n",
       "  </tbody>\n",
       "</table>\n",
       "</div>"
      ],
      "text/plain": [
       "   candidate_id                                         tweet_text  \\\n",
       "0             3  Ne farkınız var DAIŞ, El-Kaide, El Nusra, YPG ...   \n",
       "1             3  @BarackObama the way you showed up in Louisian...   \n",
       "2             3  White house not taking tax avoid seriously! Ap...   \n",
       "3             2  politico: .realDonaldTrump, HillaryClinton ple...   \n",
       "4             1  She's over due by 250 days. https://t.co/IfOO9...   \n",
       "\n",
       "            created_at  \n",
       "0  2016-08-30T21:03:29  \n",
       "1  2016-08-30T21:06:28  \n",
       "2  2016-08-30T21:09:06  \n",
       "3  2016-08-30T22:20:26  \n",
       "4  2016-08-30T22:20:33  "
      ]
     },
     "execution_count": 62,
     "metadata": {},
     "output_type": "execute_result"
    }
   ],
   "source": [
    "df.head()"
   ]
  },
  {
   "cell_type": "code",
   "execution_count": 63,
   "id": "7f8e53e0",
   "metadata": {},
   "outputs": [],
   "source": [
    "# get posts only before 8th of November 2016 - this is the day of the 2016 U.S. Presidential election\n",
    "df = df[df['created_at'] <= '2016-11-08']"
   ]
  },
  {
   "cell_type": "code",
   "execution_count": 64,
   "id": "56cc11fc",
   "metadata": {
    "scrolled": true
   },
   "outputs": [
    {
     "data": {
      "text/html": [
       "<div>\n",
       "<style scoped>\n",
       "    .dataframe tbody tr th:only-of-type {\n",
       "        vertical-align: middle;\n",
       "    }\n",
       "\n",
       "    .dataframe tbody tr th {\n",
       "        vertical-align: top;\n",
       "    }\n",
       "\n",
       "    .dataframe thead th {\n",
       "        text-align: right;\n",
       "    }\n",
       "</style>\n",
       "<table border=\"1\" class=\"dataframe\">\n",
       "  <thead>\n",
       "    <tr style=\"text-align: right;\">\n",
       "      <th></th>\n",
       "      <th>candidate_id</th>\n",
       "      <th>tweet_text</th>\n",
       "      <th>created_at</th>\n",
       "    </tr>\n",
       "  </thead>\n",
       "  <tbody>\n",
       "    <tr>\n",
       "      <th>99719</th>\n",
       "      <td>2</td>\n",
       "      <td>I'm not against immigration, I'm against ILLEG...</td>\n",
       "      <td>2016-09-01T18:54:01</td>\n",
       "    </tr>\n",
       "    <tr>\n",
       "      <th>99720</th>\n",
       "      <td>2</td>\n",
       "      <td>@DJT4PresMAGA @moralesdc @realDonaldTrump\\nSur...</td>\n",
       "      <td>2016-09-01T18:54:16</td>\n",
       "    </tr>\n",
       "    <tr>\n",
       "      <th>99732</th>\n",
       "      <td>2</td>\n",
       "      <td>BIEN CABRÓN https://t.co/PDZjLqndTN</td>\n",
       "      <td>2016-09-01T20:35:15</td>\n",
       "    </tr>\n",
       "    <tr>\n",
       "      <th>99753</th>\n",
       "      <td>2</td>\n",
       "      <td>We don't get news, we get propaganda from the ...</td>\n",
       "      <td>2016-09-01T18:54:01</td>\n",
       "    </tr>\n",
       "    <tr>\n",
       "      <th>99754</th>\n",
       "      <td>1</td>\n",
       "      <td>HillaryClinton lleva delantera y va a ganar......</td>\n",
       "      <td>2016-09-01T18:54:16</td>\n",
       "    </tr>\n",
       "    <tr>\n",
       "      <th>99786</th>\n",
       "      <td>1</td>\n",
       "      <td>@jdistaso @Hillary_HQ @BernieSanders @HillaryC...</td>\n",
       "      <td>2016-09-01T18:54:01</td>\n",
       "    </tr>\n",
       "    <tr>\n",
       "      <th>99787</th>\n",
       "      <td>2</td>\n",
       "      <td>HillaryClinton lleva delantera y va a ganar......</td>\n",
       "      <td>2016-09-01T18:54:16</td>\n",
       "    </tr>\n",
       "    <tr>\n",
       "      <th>99819</th>\n",
       "      <td>1</td>\n",
       "      <td>.@HillaryClinton, The Podesta Group, and Makin...</td>\n",
       "      <td>2016-09-01T18:54:01</td>\n",
       "    </tr>\n",
       "    <tr>\n",
       "      <th>99820</th>\n",
       "      <td>1</td>\n",
       "      <td>@Reagan_Girl @HillaryClinton some people just ...</td>\n",
       "      <td>2016-09-01T18:54:16</td>\n",
       "    </tr>\n",
       "    <tr>\n",
       "      <th>99851</th>\n",
       "      <td>1</td>\n",
       "      <td>@jamieleecurtis @HillaryClinton @realDonaldTru...</td>\n",
       "      <td>2016-09-01T18:54:02</td>\n",
       "    </tr>\n",
       "    <tr>\n",
       "      <th>99852</th>\n",
       "      <td>1</td>\n",
       "      <td>The transformation is now complete. \\n#Hillary...</td>\n",
       "      <td>2016-09-01T18:54:16</td>\n",
       "    </tr>\n",
       "    <tr>\n",
       "      <th>99885</th>\n",
       "      <td>2</td>\n",
       "      <td>@jamieleecurtis @HillaryClinton @realDonaldTru...</td>\n",
       "      <td>2016-09-01T18:54:02</td>\n",
       "    </tr>\n",
       "    <tr>\n",
       "      <th>99886</th>\n",
       "      <td>3</td>\n",
       "      <td>@BarackObama @fhollande @YasmineMadjour oh for...</td>\n",
       "      <td>2016-09-01T18:54:17</td>\n",
       "    </tr>\n",
       "    <tr>\n",
       "      <th>99917</th>\n",
       "      <td>1</td>\n",
       "      <td>@SupremacistSaid @HillaryClinton How is it a c...</td>\n",
       "      <td>2016-09-01T18:54:02</td>\n",
       "    </tr>\n",
       "    <tr>\n",
       "      <th>99918</th>\n",
       "      <td>1</td>\n",
       "      <td>Republicans don't want a pathway to citizenshi...</td>\n",
       "      <td>2016-09-01T18:54:18</td>\n",
       "    </tr>\n",
       "    <tr>\n",
       "      <th>99951</th>\n",
       "      <td>1</td>\n",
       "      <td>@asamjulian @HillaryClinton Are you now saying...</td>\n",
       "      <td>2016-09-01T18:54:02</td>\n",
       "    </tr>\n",
       "    <tr>\n",
       "      <th>99952</th>\n",
       "      <td>2</td>\n",
       "      <td>@AlbertoMDelgado Dios no escucha mentiroso que...</td>\n",
       "      <td>2016-09-01T18:54:18</td>\n",
       "    </tr>\n",
       "    <tr>\n",
       "      <th>99983</th>\n",
       "      <td>2</td>\n",
       "      <td>@Breaking911 Well its a start , and with @real...</td>\n",
       "      <td>2016-09-01T18:54:02</td>\n",
       "    </tr>\n",
       "    <tr>\n",
       "      <th>99984</th>\n",
       "      <td>2</td>\n",
       "      <td>@realDonaldTrump @seanhannity Pls refuse to do...</td>\n",
       "      <td>2016-09-01T18:54:18</td>\n",
       "    </tr>\n",
       "    <tr>\n",
       "      <th>99995</th>\n",
       "      <td>2</td>\n",
       "      <td>@realDonaldTrump https://t.co/13kXC4QNqQ</td>\n",
       "      <td>2016-09-01T20:46:31</td>\n",
       "    </tr>\n",
       "  </tbody>\n",
       "</table>\n",
       "</div>"
      ],
      "text/plain": [
       "       candidate_id                                         tweet_text  \\\n",
       "99719             2  I'm not against immigration, I'm against ILLEG...   \n",
       "99720             2  @DJT4PresMAGA @moralesdc @realDonaldTrump\\nSur...   \n",
       "99732             2                BIEN CABRÓN https://t.co/PDZjLqndTN   \n",
       "99753             2  We don't get news, we get propaganda from the ...   \n",
       "99754             1  HillaryClinton lleva delantera y va a ganar......   \n",
       "99786             1  @jdistaso @Hillary_HQ @BernieSanders @HillaryC...   \n",
       "99787             2  HillaryClinton lleva delantera y va a ganar......   \n",
       "99819             1  .@HillaryClinton, The Podesta Group, and Makin...   \n",
       "99820             1  @Reagan_Girl @HillaryClinton some people just ...   \n",
       "99851             1  @jamieleecurtis @HillaryClinton @realDonaldTru...   \n",
       "99852             1  The transformation is now complete. \\n#Hillary...   \n",
       "99885             2  @jamieleecurtis @HillaryClinton @realDonaldTru...   \n",
       "99886             3  @BarackObama @fhollande @YasmineMadjour oh for...   \n",
       "99917             1  @SupremacistSaid @HillaryClinton How is it a c...   \n",
       "99918             1  Republicans don't want a pathway to citizenshi...   \n",
       "99951             1  @asamjulian @HillaryClinton Are you now saying...   \n",
       "99952             2  @AlbertoMDelgado Dios no escucha mentiroso que...   \n",
       "99983             2  @Breaking911 Well its a start , and with @real...   \n",
       "99984             2  @realDonaldTrump @seanhannity Pls refuse to do...   \n",
       "99995             2           @realDonaldTrump https://t.co/13kXC4QNqQ   \n",
       "\n",
       "                created_at  \n",
       "99719  2016-09-01T18:54:01  \n",
       "99720  2016-09-01T18:54:16  \n",
       "99732  2016-09-01T20:35:15  \n",
       "99753  2016-09-01T18:54:01  \n",
       "99754  2016-09-01T18:54:16  \n",
       "99786  2016-09-01T18:54:01  \n",
       "99787  2016-09-01T18:54:16  \n",
       "99819  2016-09-01T18:54:01  \n",
       "99820  2016-09-01T18:54:16  \n",
       "99851  2016-09-01T18:54:02  \n",
       "99852  2016-09-01T18:54:16  \n",
       "99885  2016-09-01T18:54:02  \n",
       "99886  2016-09-01T18:54:17  \n",
       "99917  2016-09-01T18:54:02  \n",
       "99918  2016-09-01T18:54:18  \n",
       "99951  2016-09-01T18:54:02  \n",
       "99952  2016-09-01T18:54:18  \n",
       "99983  2016-09-01T18:54:02  \n",
       "99984  2016-09-01T18:54:18  \n",
       "99995  2016-09-01T20:46:31  "
      ]
     },
     "execution_count": 64,
     "metadata": {},
     "output_type": "execute_result"
    }
   ],
   "source": [
    "df.tail(20)"
   ]
  },
  {
   "cell_type": "code",
   "execution_count": 65,
   "id": "546a89e3",
   "metadata": {},
   "outputs": [],
   "source": [
    "# drop empty rows\n",
    "df = df.dropna()"
   ]
  },
  {
   "cell_type": "code",
   "execution_count": 66,
   "id": "d76e9079",
   "metadata": {
    "execution": {
     "iopub.execute_input": "2022-09-09T09:00:07.16507Z",
     "iopub.status.busy": "2022-09-09T09:00:07.164326Z",
     "iopub.status.idle": "2022-09-09T09:00:07.174983Z",
     "shell.execute_reply": "2022-09-09T09:00:07.174155Z",
     "shell.execute_reply.started": "2022-09-09T09:00:07.165024Z"
    }
   },
   "outputs": [],
   "source": [
    "def cleantext(text):\n",
    "    text = re.sub(r'@[A-Za-z0-9]+','', text) #remove mentions\n",
    "    text = re.sub(r'#','', text) #remove hash\n",
    "    text = re.sub(r'https?:\\/\\/\\S+', '', text) #remove hyperlink\n",
    "    text = re.sub('\\s+', ' ', text) #remove new line char\n",
    "    text = re.sub(\"\\'\", \"\", text) #remove single quotes\n",
    "    \n",
    "    return text"
   ]
  },
  {
   "cell_type": "code",
   "execution_count": 67,
   "id": "e270a1d4",
   "metadata": {
    "execution": {
     "iopub.execute_input": "2022-09-09T09:00:07.179297Z",
     "iopub.status.busy": "2022-09-09T09:00:07.178689Z",
     "iopub.status.idle": "2022-09-09T09:00:07.425542Z",
     "shell.execute_reply": "2022-09-09T09:00:07.424354Z",
     "shell.execute_reply.started": "2022-09-09T09:00:07.179246Z"
    }
   },
   "outputs": [],
   "source": [
    "df[\"tweet_text\"] = df[\"tweet_text\"].apply(cleantext)"
   ]
  },
  {
   "cell_type": "code",
   "execution_count": 68,
   "id": "7fcb5b36",
   "metadata": {
    "execution": {
     "iopub.execute_input": "2022-09-09T09:00:07.427869Z",
     "iopub.status.busy": "2022-09-09T09:00:07.426898Z",
     "iopub.status.idle": "2022-09-09T09:00:07.438219Z",
     "shell.execute_reply": "2022-09-09T09:00:07.437294Z",
     "shell.execute_reply.started": "2022-09-09T09:00:07.427831Z"
    }
   },
   "outputs": [
    {
     "data": {
      "text/plain": [
       "0     Ne farkınız var DAIŞ, El-Kaide, El Nusra, YPG ...\n",
       "1                the way you showed up in Louisiana ???\n",
       "2     White house not taking tax avoid seriously! Ap...\n",
       "3     politico: .realDonaldTrump, HillaryClinton ple...\n",
       "4                           Shes over due by 250 days. \n",
       "5     Eight Jamaicans selected for ’s young leaders’...\n",
       "7      can we just report the results after Election...\n",
       "8     BarackObama Obama Obama commutes sentences for...\n",
       "10                                      _ass_Bastard 😂😂\n",
       "12                            Trumpsters are all fools.\n",
       "13     \"And I see your VOTES,\" sez HILLARY who only ...\n",
       "17    Let me s*ck ur d1ldo 👏 😘 Look my top tweet :* ...\n",
       "18    _Baldasaro I guess calling for the murder of h...\n",
       "19                                    _ES _es _OEA2015 \n",
       "20     _Comics you lie like a Democrat. He never ref...\n",
       "Name: tweet_text, dtype: object"
      ]
     },
     "execution_count": 68,
     "metadata": {},
     "output_type": "execute_result"
    }
   ],
   "source": [
    "df[\"tweet_text\"].head(15)"
   ]
  },
  {
   "cell_type": "code",
   "execution_count": 69,
   "id": "18d7b74e",
   "metadata": {
    "execution": {
     "iopub.execute_input": "2022-09-09T09:00:07.440403Z",
     "iopub.status.busy": "2022-09-09T09:00:07.439585Z",
     "iopub.status.idle": "2022-09-09T09:00:07.744549Z",
     "shell.execute_reply": "2022-09-09T09:00:07.743383Z",
     "shell.execute_reply.started": "2022-09-09T09:00:07.440368Z"
    }
   },
   "outputs": [],
   "source": [
    "import string\n",
    "df[\"tweet_text\"] = df[\"tweet_text\"].apply(lambda wrd:[ltrs.lower() for ltrs in wrd if ltrs not in string.punctuation])"
   ]
  },
  {
   "cell_type": "code",
   "execution_count": 70,
   "id": "087a233c",
   "metadata": {
    "execution": {
     "iopub.execute_input": "2022-09-09T09:00:07.746864Z",
     "iopub.status.busy": "2022-09-09T09:00:07.746154Z",
     "iopub.status.idle": "2022-09-09T09:00:07.802555Z",
     "shell.execute_reply": "2022-09-09T09:00:07.801437Z",
     "shell.execute_reply.started": "2022-09-09T09:00:07.746817Z"
    }
   },
   "outputs": [],
   "source": [
    "df[\"tweet_text\"] = df[\"tweet_text\"].apply(lambda wrd: ''.join(wrd))"
   ]
  },
  {
   "cell_type": "code",
   "execution_count": 71,
   "id": "29ae2276",
   "metadata": {
    "execution": {
     "iopub.execute_input": "2022-09-09T09:00:07.808285Z",
     "iopub.status.busy": "2022-09-09T09:00:07.807851Z",
     "iopub.status.idle": "2022-09-09T09:00:07.819531Z",
     "shell.execute_reply": "2022-09-09T09:00:07.818126Z",
     "shell.execute_reply.started": "2022-09-09T09:00:07.808249Z"
    }
   },
   "outputs": [
    {
     "data": {
      "text/plain": [
       "0        ne farkınız var daiş elkaide el nusra ypg ve p...\n",
       "1                      the way you showed up in louisiana \n",
       "2        white house not taking tax avoid seriously app...\n",
       "3        politico realdonaldtrump hillaryclinton pledge...\n",
       "4                               shes over due by 250 days \n",
       "                               ...                        \n",
       "99951     are you now saying that you were in bed with ...\n",
       "99952     dios no escucha mentiroso que de proposito de...\n",
       "99983     well its a start  and with as our potus well ...\n",
       "99984     pls refuse to do forum trap demand loud n cle...\n",
       "99995                                                     \n",
       "Name: tweet_text, Length: 44333, dtype: object"
      ]
     },
     "execution_count": 71,
     "metadata": {},
     "output_type": "execute_result"
    }
   ],
   "source": [
    "df[\"tweet_text\"]"
   ]
  },
  {
   "cell_type": "code",
   "execution_count": 72,
   "id": "272c9a66",
   "metadata": {
    "execution": {
     "iopub.execute_input": "2022-09-09T09:00:07.823056Z",
     "iopub.status.busy": "2022-09-09T09:00:07.821978Z",
     "iopub.status.idle": "2022-09-09T09:00:08.988595Z",
     "shell.execute_reply": "2022-09-09T09:00:08.987471Z",
     "shell.execute_reply.started": "2022-09-09T09:00:07.823004Z"
    }
   },
   "outputs": [],
   "source": [
    "from nltk.corpus import stopwords"
   ]
  },
  {
   "cell_type": "code",
   "execution_count": 73,
   "id": "76927f93",
   "metadata": {
    "execution": {
     "iopub.execute_input": "2022-09-09T09:00:08.991071Z",
     "iopub.status.busy": "2022-09-09T09:00:08.990548Z",
     "iopub.status.idle": "2022-09-09T09:00:09.056177Z",
     "shell.execute_reply": "2022-09-09T09:00:09.054893Z",
     "shell.execute_reply.started": "2022-09-09T09:00:08.991023Z"
    }
   },
   "outputs": [
    {
     "name": "stderr",
     "output_type": "stream",
     "text": [
      "/var/folders/2z/g8ydpyhx10zg0sz4jqvhznj00000gn/T/ipykernel_18771/3398030308.py:1: FutureWarning: The behavior of `series[i:j]` with an integer-dtype index is deprecated. In a future version, this will be treated as *label-based* indexing, consistent with e.g. `series[i]` lookups. To retain the old behavior, use `series.iloc[i:j]`. To get the future behavior, use `series.loc[i:j]`.\n",
      "  df[\"tweet_text\"][:50] = df[\"tweet_text\"][:50].apply(lambda x: ' '.join([word for word in x.split() if word not in stopwords.words(\"english\")]))\n",
      "/var/folders/2z/g8ydpyhx10zg0sz4jqvhznj00000gn/T/ipykernel_18771/3398030308.py:1: SettingWithCopyWarning: \n",
      "A value is trying to be set on a copy of a slice from a DataFrame\n",
      "\n",
      "See the caveats in the documentation: https://pandas.pydata.org/pandas-docs/stable/user_guide/indexing.html#returning-a-view-versus-a-copy\n",
      "  df[\"tweet_text\"][:50] = df[\"tweet_text\"][:50].apply(lambda x: ' '.join([word for word in x.split() if word not in stopwords.words(\"english\")]))\n"
     ]
    }
   ],
   "source": [
    "df[\"tweet_text\"][:50] = df[\"tweet_text\"][:50].apply(lambda x: ' '.join([word for word in x.split() if word not in stopwords.words(\"english\")]))"
   ]
  },
  {
   "cell_type": "code",
   "execution_count": 74,
   "id": "6dbbd032",
   "metadata": {
    "execution": {
     "iopub.execute_input": "2022-09-09T09:00:09.059255Z",
     "iopub.status.busy": "2022-09-09T09:00:09.058335Z",
     "iopub.status.idle": "2022-09-09T09:00:09.069475Z",
     "shell.execute_reply": "2022-09-09T09:00:09.068273Z",
     "shell.execute_reply.started": "2022-09-09T09:00:09.059207Z"
    }
   },
   "outputs": [
    {
     "data": {
      "text/plain": [
       "0        ne farkınız var daiş elkaide el nusra ypg pkkd...\n",
       "1                                     way showed louisiana\n",
       "2        white house taking tax avoid seriously apple d...\n",
       "3        politico realdonaldtrump hillaryclinton pledge...\n",
       "4                                        shes due 250 days\n",
       "                               ...                        \n",
       "99951     are you now saying that you were in bed with ...\n",
       "99952     dios no escucha mentiroso que de proposito de...\n",
       "99983     well its a start  and with as our potus well ...\n",
       "99984     pls refuse to do forum trap demand loud n cle...\n",
       "99995                                                     \n",
       "Name: tweet_text, Length: 44333, dtype: object"
      ]
     },
     "execution_count": 74,
     "metadata": {},
     "output_type": "execute_result"
    }
   ],
   "source": [
    "df[\"tweet_text\"]"
   ]
  },
  {
   "cell_type": "code",
   "execution_count": 75,
   "id": "8aaa6c49",
   "metadata": {
    "execution": {
     "iopub.execute_input": "2022-09-09T09:00:09.072239Z",
     "iopub.status.busy": "2022-09-09T09:00:09.071329Z",
     "iopub.status.idle": "2022-09-09T09:00:09.413651Z",
     "shell.execute_reply": "2022-09-09T09:00:09.41248Z",
     "shell.execute_reply.started": "2022-09-09T09:00:09.072186Z"
    }
   },
   "outputs": [],
   "source": [
    "import gensim\n",
    "def sent_to_words(sentences):\n",
    "    for sentence in sentences:\n",
    "        yield(gensim.utils.simple_preprocess(str(sentence),     deacc=True))"
   ]
  },
  {
   "cell_type": "code",
   "execution_count": 76,
   "id": "808f875d",
   "metadata": {
    "execution": {
     "iopub.execute_input": "2022-09-09T09:00:09.41635Z",
     "iopub.status.busy": "2022-09-09T09:00:09.415488Z",
     "iopub.status.idle": "2022-09-09T09:00:09.422767Z",
     "shell.execute_reply": "2022-09-09T09:00:09.421795Z",
     "shell.execute_reply.started": "2022-09-09T09:00:09.416298Z"
    }
   },
   "outputs": [],
   "source": [
    "from nltk.tokenize.treebank import TreebankWordDetokenizer\n",
    "def detokenize(text):\n",
    "    return TreebankWordDetokenizer().detokenize(text)"
   ]
  },
  {
   "cell_type": "code",
   "execution_count": 77,
   "id": "a1a36e4e",
   "metadata": {
    "execution": {
     "iopub.execute_input": "2022-09-09T09:00:09.425272Z",
     "iopub.status.busy": "2022-09-09T09:00:09.424177Z",
     "iopub.status.idle": "2022-09-09T09:00:10.316815Z",
     "shell.execute_reply": "2022-09-09T09:00:10.315653Z",
     "shell.execute_reply.started": "2022-09-09T09:00:09.425217Z"
    }
   },
   "outputs": [],
   "source": [
    "temp = []\n",
    "data_to_list = df[\"tweet_text\"].values.tolist()\n",
    "for i in range(len(data_to_list)):\n",
    "    temp.append(data_to_list[i])\n",
    "data_wordslem = list(sent_to_words(temp))"
   ]
  },
  {
   "cell_type": "markdown",
   "id": "91d9abae",
   "metadata": {},
   "source": [
    "Using Lemmatizer instead of stemming. Lemmatizer is preffered over stemming. Lemmatizer find the root word whereas Stemmizer shorten the word. For Example, word 'Caring' -> Lemmatizer -> 'Care' WHEREAS 'Caring' -> Stemming -> 'Car'"
   ]
  },
  {
   "cell_type": "code",
   "execution_count": 78,
   "id": "ec196ca6",
   "metadata": {
    "execution": {
     "iopub.execute_input": "2022-09-09T09:00:10.319493Z",
     "iopub.status.busy": "2022-09-09T09:00:10.318647Z",
     "iopub.status.idle": "2022-09-09T09:00:10.32462Z",
     "shell.execute_reply": "2022-09-09T09:00:10.323542Z",
     "shell.execute_reply.started": "2022-09-09T09:00:10.319446Z"
    }
   },
   "outputs": [],
   "source": [
    "import nltk\n",
    "lemmatizer = nltk.stem.WordNetLemmatizer()"
   ]
  },
  {
   "cell_type": "code",
   "execution_count": 79,
   "id": "fc1ff42f",
   "metadata": {
    "execution": {
     "iopub.execute_input": "2022-09-09T09:01:21.987316Z",
     "iopub.status.busy": "2022-09-09T09:01:21.986918Z",
     "iopub.status.idle": "2022-09-09T09:01:22.723412Z",
     "shell.execute_reply": "2022-09-09T09:01:22.722186Z",
     "shell.execute_reply.started": "2022-09-09T09:01:21.987284Z"
    }
   },
   "outputs": [
    {
     "name": "stderr",
     "output_type": "stream",
     "text": [
      "[nltk_data] Downloading package omw-1.4 to\n",
      "[nltk_data]     /Users/jurajsimkovic/nltk_data...\n",
      "[nltk_data]   Package omw-1.4 is already up-to-date!\n"
     ]
    },
    {
     "data": {
      "text/plain": [
       "True"
      ]
     },
     "execution_count": 79,
     "metadata": {},
     "output_type": "execute_result"
    }
   ],
   "source": [
    "nltk.download('omw-1.4')"
   ]
  },
  {
   "cell_type": "code",
   "execution_count": 80,
   "id": "13c82161",
   "metadata": {
    "execution": {
     "iopub.execute_input": "2022-09-09T09:01:24.865957Z",
     "iopub.status.busy": "2022-09-09T09:01:24.865526Z",
     "iopub.status.idle": "2022-09-09T09:01:27.744684Z",
     "shell.execute_reply": "2022-09-09T09:01:27.743543Z",
     "shell.execute_reply.started": "2022-09-09T09:01:24.86592Z"
    }
   },
   "outputs": [],
   "source": [
    "for i in range(len(data_wordslem)):\n",
    "    for j in range(len(data_wordslem[i])):\n",
    "        data_wordslem[i][j] = lemmatizer.lemmatize(data_wordslem[i][j],pos=\"v\")"
   ]
  },
  {
   "cell_type": "code",
   "execution_count": 81,
   "id": "b43365b3",
   "metadata": {
    "execution": {
     "iopub.execute_input": "2022-09-09T09:01:28.974053Z",
     "iopub.status.busy": "2022-09-09T09:01:28.973661Z",
     "iopub.status.idle": "2022-09-09T09:01:30.693285Z",
     "shell.execute_reply": "2022-09-09T09:01:30.691937Z",
     "shell.execute_reply.started": "2022-09-09T09:01:28.974022Z"
    },
    "scrolled": true
   },
   "outputs": [
    {
     "name": "stdout",
     "output_type": "stream",
     "text": [
      "['ne farkınız var dais elkaide el nusra ypg pkkdan hepsine silah veriyorsunuz', 'way show louisiana', 'white house take tax avoid seriously apple disgust appletax', 'politico realdonaldtrump hillaryclinton pledge pause campaign getty', 'shes due days']\n"
     ]
    }
   ],
   "source": [
    "data = []\n",
    "for i in range(len(data_wordslem)):\n",
    "    data.append(detokenize(data_wordslem[i]))\n",
    "print(data[:5])"
   ]
  },
  {
   "cell_type": "code",
   "execution_count": 82,
   "id": "2ff21f89",
   "metadata": {
    "scrolled": true
   },
   "outputs": [
    {
     "name": "stdout",
     "output_type": "stream",
     "text": [
      "['ne farkınız var dais elkaide el nusra ypg pkkdan hepsine silah veriyorsunuz', 'way show louisiana', 'white house take tax avoid seriously apple disgust appletax', 'politico realdonaldtrump hillaryclinton pledge pause campaign getty', 'shes due days', 'eight jamaicans select young leaders initiative jaminate', 'report result election day poll dont mean anything election corrupt liar', 'barackobama obama obama commute sentence federal prisoners president barac uniteblue tcot', 'assbastard', 'trumpsters fool', 'see vote sez hillary care money power andhillary', 'let sck ur ldo look top tweet wh re', 'baldasaro guess call murder upside', 'es es oea', 'comics lie like democrat never refuse need put rush irs', 'keep real', 'rt rocknkarma realdonaldtrump fit president congratulations clean bill health hillaryclinton hide', 'clinton trump sorry sorry', 'trumptrain', 'senate leaders job do join thousands remind via', 'get five buck trump tweet something stupid anway', 'dont', 'trump ideal sex slave', 'trump asshole taste like must love', 'love', 'surrogate apology tweetg cartoon clinton blackface apology necessary burn right', 'prolife', 'old man better take note wc felds find loophole booooo takers self mind think life', 'wrong', 'say whaaaaat', 'keep real', 'rt rocknkarma realdonaldtrump fit president congratulations clean bill health hillaryclinton hide', 'nra teaparty congress lol', 'exactly', 'grand marshall israeli parade mean know israel right', 'want really dont think ability', 'senate leaders job do join thousands remind via', 'prayers important speech tomorrow', 'half breed ok let', 'hrc landslide fukin nazi scumbag', 'dumb youre allow lose credibility horrible piece dumb', 'jfc', 'maye', 'es sera por siempre la peor desgracia', 'usted lo da es verguenza obama preocupese esos gente color estan asecinando esos policias son su color', 'since question veracity last quote truth margaret sanger', 'vote', 'browno ey sure pal sort en', 'unreal omg rapeculture simply cannot believe sitroom stoptrump', 'concise precise']\n"
     ]
    }
   ],
   "source": [
    "print(data[:50])"
   ]
  },
  {
   "cell_type": "code",
   "execution_count": 83,
   "id": "0f0fde15",
   "metadata": {},
   "outputs": [
    {
     "data": {
      "text/html": [
       "<div>\n",
       "<style scoped>\n",
       "    .dataframe tbody tr th:only-of-type {\n",
       "        vertical-align: middle;\n",
       "    }\n",
       "\n",
       "    .dataframe tbody tr th {\n",
       "        vertical-align: top;\n",
       "    }\n",
       "\n",
       "    .dataframe thead th {\n",
       "        text-align: right;\n",
       "    }\n",
       "</style>\n",
       "<table border=\"1\" class=\"dataframe\">\n",
       "  <thead>\n",
       "    <tr style=\"text-align: right;\">\n",
       "      <th></th>\n",
       "      <th>candidate_id</th>\n",
       "      <th>tweet_text</th>\n",
       "      <th>created_at</th>\n",
       "    </tr>\n",
       "  </thead>\n",
       "  <tbody>\n",
       "    <tr>\n",
       "      <th>0</th>\n",
       "      <td>3</td>\n",
       "      <td>ne farkınız var daiş elkaide el nusra ypg pkkd...</td>\n",
       "      <td>2016-08-30T21:03:29</td>\n",
       "    </tr>\n",
       "    <tr>\n",
       "      <th>1</th>\n",
       "      <td>3</td>\n",
       "      <td>way showed louisiana</td>\n",
       "      <td>2016-08-30T21:06:28</td>\n",
       "    </tr>\n",
       "    <tr>\n",
       "      <th>2</th>\n",
       "      <td>3</td>\n",
       "      <td>white house taking tax avoid seriously apple d...</td>\n",
       "      <td>2016-08-30T21:09:06</td>\n",
       "    </tr>\n",
       "    <tr>\n",
       "      <th>3</th>\n",
       "      <td>2</td>\n",
       "      <td>politico realdonaldtrump hillaryclinton pledge...</td>\n",
       "      <td>2016-08-30T22:20:26</td>\n",
       "    </tr>\n",
       "    <tr>\n",
       "      <th>4</th>\n",
       "      <td>1</td>\n",
       "      <td>shes due 250 days</td>\n",
       "      <td>2016-08-30T22:20:33</td>\n",
       "    </tr>\n",
       "  </tbody>\n",
       "</table>\n",
       "</div>"
      ],
      "text/plain": [
       "   candidate_id                                         tweet_text  \\\n",
       "0             3  ne farkınız var daiş elkaide el nusra ypg pkkd...   \n",
       "1             3                               way showed louisiana   \n",
       "2             3  white house taking tax avoid seriously apple d...   \n",
       "3             2  politico realdonaldtrump hillaryclinton pledge...   \n",
       "4             1                                  shes due 250 days   \n",
       "\n",
       "            created_at  \n",
       "0  2016-08-30T21:03:29  \n",
       "1  2016-08-30T21:06:28  \n",
       "2  2016-08-30T21:09:06  \n",
       "3  2016-08-30T22:20:26  \n",
       "4  2016-08-30T22:20:33  "
      ]
     },
     "execution_count": 83,
     "metadata": {},
     "output_type": "execute_result"
    }
   ],
   "source": [
    "df.head()"
   ]
  },
  {
   "cell_type": "code",
   "execution_count": 84,
   "id": "91be6a5e",
   "metadata": {
    "scrolled": true
   },
   "outputs": [
    {
     "data": {
      "text/html": [
       "<div>\n",
       "<style scoped>\n",
       "    .dataframe tbody tr th:only-of-type {\n",
       "        vertical-align: middle;\n",
       "    }\n",
       "\n",
       "    .dataframe tbody tr th {\n",
       "        vertical-align: top;\n",
       "    }\n",
       "\n",
       "    .dataframe thead th {\n",
       "        text-align: right;\n",
       "    }\n",
       "</style>\n",
       "<table border=\"1\" class=\"dataframe\">\n",
       "  <thead>\n",
       "    <tr style=\"text-align: right;\">\n",
       "      <th></th>\n",
       "      <th>candidate_id</th>\n",
       "      <th>tweet_text</th>\n",
       "      <th>created_at</th>\n",
       "      <th>data</th>\n",
       "    </tr>\n",
       "  </thead>\n",
       "  <tbody>\n",
       "    <tr>\n",
       "      <th>0</th>\n",
       "      <td>3</td>\n",
       "      <td>ne farkınız var daiş elkaide el nusra ypg pkkd...</td>\n",
       "      <td>2016-08-30T21:03:29</td>\n",
       "      <td>ne farkınız var dais elkaide el nusra ypg pkkd...</td>\n",
       "    </tr>\n",
       "    <tr>\n",
       "      <th>1</th>\n",
       "      <td>3</td>\n",
       "      <td>way showed louisiana</td>\n",
       "      <td>2016-08-30T21:06:28</td>\n",
       "      <td>way show louisiana</td>\n",
       "    </tr>\n",
       "    <tr>\n",
       "      <th>2</th>\n",
       "      <td>3</td>\n",
       "      <td>white house taking tax avoid seriously apple d...</td>\n",
       "      <td>2016-08-30T21:09:06</td>\n",
       "      <td>white house take tax avoid seriously apple dis...</td>\n",
       "    </tr>\n",
       "    <tr>\n",
       "      <th>3</th>\n",
       "      <td>2</td>\n",
       "      <td>politico realdonaldtrump hillaryclinton pledge...</td>\n",
       "      <td>2016-08-30T22:20:26</td>\n",
       "      <td>politico realdonaldtrump hillaryclinton pledge...</td>\n",
       "    </tr>\n",
       "    <tr>\n",
       "      <th>4</th>\n",
       "      <td>1</td>\n",
       "      <td>shes due 250 days</td>\n",
       "      <td>2016-08-30T22:20:33</td>\n",
       "      <td>shes due days</td>\n",
       "    </tr>\n",
       "    <tr>\n",
       "      <th>...</th>\n",
       "      <td>...</td>\n",
       "      <td>...</td>\n",
       "      <td>...</td>\n",
       "      <td>...</td>\n",
       "    </tr>\n",
       "    <tr>\n",
       "      <th>99951</th>\n",
       "      <td>1</td>\n",
       "      <td>are you now saying that you were in bed with ...</td>\n",
       "      <td>2016-09-01T18:54:02</td>\n",
       "      <td>be you now say that you be in bed with hillary...</td>\n",
       "    </tr>\n",
       "    <tr>\n",
       "      <th>99952</th>\n",
       "      <td>2</td>\n",
       "      <td>dios no escucha mentiroso que de proposito de...</td>\n",
       "      <td>2016-09-01T18:54:18</td>\n",
       "      <td>dios no escucha mentiroso que de proposito def...</td>\n",
       "    </tr>\n",
       "    <tr>\n",
       "      <th>99983</th>\n",
       "      <td>2</td>\n",
       "      <td>well its a start  and with as our potus well ...</td>\n",
       "      <td>2016-09-01T18:54:02</td>\n",
       "      <td>well its start and with as our potus well be d...</td>\n",
       "    </tr>\n",
       "    <tr>\n",
       "      <th>99984</th>\n",
       "      <td>2</td>\n",
       "      <td>pls refuse to do forum trap demand loud n cle...</td>\n",
       "      <td>2016-09-01T18:54:18</td>\n",
       "      <td>pls refuse to do forum trap demand loud clear ...</td>\n",
       "    </tr>\n",
       "    <tr>\n",
       "      <th>99995</th>\n",
       "      <td>2</td>\n",
       "      <td></td>\n",
       "      <td>2016-09-01T20:46:31</td>\n",
       "      <td></td>\n",
       "    </tr>\n",
       "  </tbody>\n",
       "</table>\n",
       "<p>44333 rows × 4 columns</p>\n",
       "</div>"
      ],
      "text/plain": [
       "       candidate_id                                         tweet_text  \\\n",
       "0                 3  ne farkınız var daiş elkaide el nusra ypg pkkd...   \n",
       "1                 3                               way showed louisiana   \n",
       "2                 3  white house taking tax avoid seriously apple d...   \n",
       "3                 2  politico realdonaldtrump hillaryclinton pledge...   \n",
       "4                 1                                  shes due 250 days   \n",
       "...             ...                                                ...   \n",
       "99951             1   are you now saying that you were in bed with ...   \n",
       "99952             2   dios no escucha mentiroso que de proposito de...   \n",
       "99983             2   well its a start  and with as our potus well ...   \n",
       "99984             2   pls refuse to do forum trap demand loud n cle...   \n",
       "99995             2                                                      \n",
       "\n",
       "                created_at                                               data  \n",
       "0      2016-08-30T21:03:29  ne farkınız var dais elkaide el nusra ypg pkkd...  \n",
       "1      2016-08-30T21:06:28                                 way show louisiana  \n",
       "2      2016-08-30T21:09:06  white house take tax avoid seriously apple dis...  \n",
       "3      2016-08-30T22:20:26  politico realdonaldtrump hillaryclinton pledge...  \n",
       "4      2016-08-30T22:20:33                                      shes due days  \n",
       "...                    ...                                                ...  \n",
       "99951  2016-09-01T18:54:02  be you now say that you be in bed with hillary...  \n",
       "99952  2016-09-01T18:54:18  dios no escucha mentiroso que de proposito def...  \n",
       "99983  2016-09-01T18:54:02  well its start and with as our potus well be d...  \n",
       "99984  2016-09-01T18:54:18  pls refuse to do forum trap demand loud clear ...  \n",
       "99995  2016-09-01T20:46:31                                                     \n",
       "\n",
       "[44333 rows x 4 columns]"
      ]
     },
     "execution_count": 84,
     "metadata": {},
     "output_type": "execute_result"
    }
   ],
   "source": [
    "# add new cleaned column to dataframe\n",
    "df[\"data\"] = data\n",
    "df"
   ]
  },
  {
   "cell_type": "code",
   "execution_count": 85,
   "id": "b590540b",
   "metadata": {
    "scrolled": false
   },
   "outputs": [
    {
     "name": "stdout",
     "output_type": "stream",
     "text": [
      "[[   0    0    0 ...    0 1902  200]\n",
      " [   0    0    0 ...  145  116 1405]\n",
      " [   0    0    0 ...  828 1684  737]\n",
      " ...\n",
      " [   0    0    0 ...    2  152 2092]\n",
      " [   0    0    0 ...  138 3213 3010]\n",
      " [   0    0    0 ...    0    0    0]]\n"
     ]
    }
   ],
   "source": [
    "max_words = 5000\n",
    "max_len = 200\n",
    "\n",
    "tokenizer = Tokenizer(num_words=max_words)\n",
    "tokenizer.fit_on_texts(data)\n",
    "sequences = tokenizer.texts_to_sequences(data)\n",
    "tweets = pad_sequences(sequences, maxlen=max_len)\n",
    "print(tweets)"
   ]
  },
  {
   "cell_type": "code",
   "execution_count": 86,
   "id": "604ce27e",
   "metadata": {},
   "outputs": [
    {
     "data": {
      "text/plain": [
       "(44333, 4)"
      ]
     },
     "execution_count": 86,
     "metadata": {},
     "output_type": "execute_result"
    }
   ],
   "source": [
    "df.shape"
   ]
  },
  {
   "cell_type": "code",
   "execution_count": 42,
   "id": "221a7d47",
   "metadata": {},
   "outputs": [
    {
     "name": "stdout",
     "output_type": "stream",
     "text": [
      "202/202 [==============================] - 3s 8ms/step\n"
     ]
    }
   ],
   "source": [
    "# apply the model\n",
    "#predictions = loaded_model.predict(tweets)"
   ]
  },
  {
   "cell_type": "code",
   "execution_count": 87,
   "id": "967cdb58",
   "metadata": {},
   "outputs": [],
   "source": [
    "sentiment = ['Neutral','Negative','Positive']"
   ]
  },
  {
   "cell_type": "code",
   "execution_count": 88,
   "id": "7e701448",
   "metadata": {
    "scrolled": true
   },
   "outputs": [
    {
     "name": "stdout",
     "output_type": "stream",
     "text": [
      "1/1 [==============================] - 1s 893ms/step\n"
     ]
    },
    {
     "data": {
      "text/plain": [
       "'Neutral'"
      ]
     },
     "execution_count": 88,
     "metadata": {},
     "output_type": "execute_result"
    }
   ],
   "source": [
    "sequence = tokenizer.texts_to_sequences(['I go to gym daily'])\n",
    "test = pad_sequences(sequence, maxlen=max_len)\n",
    "sentiment[np.around(loaded_model.predict(test), decimals=0).argmax(axis=1)[0]]"
   ]
  },
  {
   "cell_type": "code",
   "execution_count": 89,
   "id": "f0439893",
   "metadata": {},
   "outputs": [],
   "source": [
    "def sentiment_analysis(data):\n",
    "    sentiment_storage = []\n",
    "    for d in data:\n",
    "        sequence = tokenizer.texts_to_sequences([d])        \n",
    "        test = pad_sequences(sequence, maxlen=max_len)\n",
    "        sentiment_storage.append(sentiment[np.around(loaded_model.predict(test), decimals=0).argmax(axis=1)[0]])\n",
    "    return sentiment_storage"
   ]
  },
  {
   "cell_type": "code",
   "execution_count": 90,
   "id": "977e30e6",
   "metadata": {},
   "outputs": [
    {
     "name": "stdout",
     "output_type": "stream",
     "text": [
      "ne farkınız var dais elkaide el nusra ypg pkkdan hepsine silah veriyorsunuz\n",
      "-----------------\n",
      "way show louisiana\n",
      "-----------------\n",
      "white house take tax avoid seriously apple disgust appletax\n",
      "-----------------\n",
      "politico realdonaldtrump hillaryclinton pledge pause campaign getty\n",
      "-----------------\n",
      "shes due days\n",
      "-----------------\n"
     ]
    }
   ],
   "source": [
    "for d in data[:5]:\n",
    "    print(d)\n",
    "    print(\"-----------------\")"
   ]
  },
  {
   "cell_type": "code",
   "execution_count": 97,
   "id": "ae66be54",
   "metadata": {
    "scrolled": true
   },
   "outputs": [
    {
     "name": "stdout",
     "output_type": "stream",
     "text": [
      "1/1 [==============================] - 0s 27ms/step\n",
      "1/1 [==============================] - 0s 24ms/step\n",
      "1/1 [==============================] - 0s 25ms/step\n",
      "1/1 [==============================] - 0s 24ms/step\n",
      "1/1 [==============================] - 0s 24ms/step\n",
      "1/1 [==============================] - 0s 24ms/step\n",
      "1/1 [==============================] - 0s 24ms/step\n",
      "1/1 [==============================] - 0s 27ms/step\n",
      "1/1 [==============================] - 0s 24ms/step\n",
      "1/1 [==============================] - 0s 24ms/step\n",
      "1/1 [==============================] - 0s 24ms/step\n",
      "1/1 [==============================] - 0s 25ms/step\n",
      "1/1 [==============================] - 0s 24ms/step\n",
      "1/1 [==============================] - 0s 26ms/step\n",
      "1/1 [==============================] - 0s 24ms/step\n"
     ]
    }
   ],
   "source": [
    "#predicted_sentiment = sentiment_analysis(data[:15])"
   ]
  },
  {
   "cell_type": "code",
   "execution_count": 92,
   "id": "b7c230c5",
   "metadata": {},
   "outputs": [],
   "source": [
    "# filter by candidates - select only Donald Trump and Hillary Clinton\n",
    "\n",
    "# Hillary Clinton\n",
    "HC = df[df[\"candidate_id\"] == 1]\n",
    "\n",
    "# Donald Trump\n",
    "DT = df[df[\"candidate_id\"] == 2]"
   ]
  },
  {
   "cell_type": "code",
   "execution_count": 100,
   "id": "ac617cc6",
   "metadata": {
    "scrolled": true
   },
   "outputs": [
    {
     "data": {
      "text/html": [
       "<div>\n",
       "<style scoped>\n",
       "    .dataframe tbody tr th:only-of-type {\n",
       "        vertical-align: middle;\n",
       "    }\n",
       "\n",
       "    .dataframe tbody tr th {\n",
       "        vertical-align: top;\n",
       "    }\n",
       "\n",
       "    .dataframe thead th {\n",
       "        text-align: right;\n",
       "    }\n",
       "</style>\n",
       "<table border=\"1\" class=\"dataframe\">\n",
       "  <thead>\n",
       "    <tr style=\"text-align: right;\">\n",
       "      <th></th>\n",
       "      <th>candidate_id</th>\n",
       "      <th>tweet_text</th>\n",
       "      <th>created_at</th>\n",
       "      <th>data</th>\n",
       "    </tr>\n",
       "  </thead>\n",
       "  <tbody>\n",
       "    <tr>\n",
       "      <th>3</th>\n",
       "      <td>2</td>\n",
       "      <td>politico realdonaldtrump hillaryclinton pledge...</td>\n",
       "      <td>2016-08-30T22:20:26</td>\n",
       "      <td>politico realdonaldtrump hillaryclinton pledge...</td>\n",
       "    </tr>\n",
       "    <tr>\n",
       "      <th>10</th>\n",
       "      <td>2</td>\n",
       "      <td>assbastard 😂😂</td>\n",
       "      <td>2016-08-30T22:21:22</td>\n",
       "      <td>assbastard</td>\n",
       "    </tr>\n",
       "    <tr>\n",
       "      <th>12</th>\n",
       "      <td>2</td>\n",
       "      <td>trumpsters fools</td>\n",
       "      <td>2016-08-30T22:21:41</td>\n",
       "      <td>trumpsters fool</td>\n",
       "    </tr>\n",
       "    <tr>\n",
       "      <th>17</th>\n",
       "      <td>2</td>\n",
       "      <td>let sck ur d1ldo 👏 😘 look top tweet wh0re</td>\n",
       "      <td>2016-08-30T22:22:23</td>\n",
       "      <td>let sck ur ldo look top tweet wh re</td>\n",
       "    </tr>\n",
       "    <tr>\n",
       "      <th>20</th>\n",
       "      <td>2</td>\n",
       "      <td>comics lie like democrat never refused need pu...</td>\n",
       "      <td>2016-08-30T22:22:46</td>\n",
       "      <td>comics lie like democrat never refuse need put...</td>\n",
       "    </tr>\n",
       "    <tr>\n",
       "      <th>24</th>\n",
       "      <td>2</td>\n",
       "      <td>035 keeps real</td>\n",
       "      <td>2016-08-30T22:23:20</td>\n",
       "      <td>keep real</td>\n",
       "    </tr>\n",
       "    <tr>\n",
       "      <th>26</th>\n",
       "      <td>2</td>\n",
       "      <td>clinton trump sorry sorry</td>\n",
       "      <td>2016-08-30T22:23:34</td>\n",
       "      <td>clinton trump sorry sorry</td>\n",
       "    </tr>\n",
       "    <tr>\n",
       "      <th>28</th>\n",
       "      <td>2</td>\n",
       "      <td>werenotgonnatakeitanymore trumptrain makeameri...</td>\n",
       "      <td>2016-08-30T22:23:47</td>\n",
       "      <td>trumptrain</td>\n",
       "    </tr>\n",
       "    <tr>\n",
       "      <th>30</th>\n",
       "      <td>2</td>\n",
       "      <td>got five bucks trump tweets something stupid a...</td>\n",
       "      <td>2016-08-30T22:23:59</td>\n",
       "      <td>get five buck trump tweet something stupid anway</td>\n",
       "    </tr>\n",
       "    <tr>\n",
       "      <th>46</th>\n",
       "      <td>2</td>\n",
       "      <td>trumps ideal sex slave</td>\n",
       "      <td>2016-08-30T22:20:33</td>\n",
       "      <td>trump ideal sex slave</td>\n",
       "    </tr>\n",
       "    <tr>\n",
       "      <th>51</th>\n",
       "      <td>2</td>\n",
       "      <td>trumps asshole taste like must love</td>\n",
       "      <td>2016-08-30T22:21:13</td>\n",
       "      <td>trump asshole taste like must love</td>\n",
       "    </tr>\n",
       "    <tr>\n",
       "      <th>59</th>\n",
       "      <td>2</td>\n",
       "      <td>wrong</td>\n",
       "      <td>2016-08-30T22:22:23</td>\n",
       "      <td>wrong</td>\n",
       "    </tr>\n",
       "    <tr>\n",
       "      <th>67</th>\n",
       "      <td>2</td>\n",
       "      <td>rt rocknkarma realdonaldtrump fit president co...</td>\n",
       "      <td>2016-08-30T22:23:27</td>\n",
       "      <td>rt rocknkarma realdonaldtrump fit president co...</td>\n",
       "    </tr>\n",
       "    <tr>\n",
       "      <th>69</th>\n",
       "      <td>2</td>\n",
       "      <td>exactly</td>\n",
       "      <td>2016-08-30T22:23:41</td>\n",
       "      <td>exactly</td>\n",
       "    </tr>\n",
       "    <tr>\n",
       "      <th>70</th>\n",
       "      <td>2</td>\n",
       "      <td>grand marshall israeli parade means knows isra...</td>\n",
       "      <td>2016-08-30T22:23:47</td>\n",
       "      <td>grand marshall israeli parade mean know israel...</td>\n",
       "    </tr>\n",
       "  </tbody>\n",
       "</table>\n",
       "</div>"
      ],
      "text/plain": [
       "    candidate_id                                         tweet_text  \\\n",
       "3              2  politico realdonaldtrump hillaryclinton pledge...   \n",
       "10             2                                      assbastard 😂😂   \n",
       "12             2                                   trumpsters fools   \n",
       "17             2          let sck ur d1ldo 👏 😘 look top tweet wh0re   \n",
       "20             2  comics lie like democrat never refused need pu...   \n",
       "24             2                                     035 keeps real   \n",
       "26             2                          clinton trump sorry sorry   \n",
       "28             2  werenotgonnatakeitanymore trumptrain makeameri...   \n",
       "30             2  got five bucks trump tweets something stupid a...   \n",
       "46             2                             trumps ideal sex slave   \n",
       "51             2                trumps asshole taste like must love   \n",
       "59             2                                              wrong   \n",
       "67             2  rt rocknkarma realdonaldtrump fit president co...   \n",
       "69             2                                            exactly   \n",
       "70             2  grand marshall israeli parade means knows isra...   \n",
       "\n",
       "             created_at                                               data  \n",
       "3   2016-08-30T22:20:26  politico realdonaldtrump hillaryclinton pledge...  \n",
       "10  2016-08-30T22:21:22                                         assbastard  \n",
       "12  2016-08-30T22:21:41                                    trumpsters fool  \n",
       "17  2016-08-30T22:22:23                let sck ur ldo look top tweet wh re  \n",
       "20  2016-08-30T22:22:46  comics lie like democrat never refuse need put...  \n",
       "24  2016-08-30T22:23:20                                          keep real  \n",
       "26  2016-08-30T22:23:34                          clinton trump sorry sorry  \n",
       "28  2016-08-30T22:23:47                                         trumptrain  \n",
       "30  2016-08-30T22:23:59   get five buck trump tweet something stupid anway  \n",
       "46  2016-08-30T22:20:33                              trump ideal sex slave  \n",
       "51  2016-08-30T22:21:13                 trump asshole taste like must love  \n",
       "59  2016-08-30T22:22:23                                              wrong  \n",
       "67  2016-08-30T22:23:27  rt rocknkarma realdonaldtrump fit president co...  \n",
       "69  2016-08-30T22:23:41                                            exactly  \n",
       "70  2016-08-30T22:23:47  grand marshall israeli parade mean know israel...  "
      ]
     },
     "execution_count": 100,
     "metadata": {},
     "output_type": "execute_result"
    }
   ],
   "source": [
    "DT.head(15)"
   ]
  },
  {
   "cell_type": "code",
   "execution_count": 94,
   "id": "9081d992",
   "metadata": {},
   "outputs": [
    {
     "data": {
      "text/plain": [
       "(14177, 4)"
      ]
     },
     "execution_count": 94,
     "metadata": {},
     "output_type": "execute_result"
    }
   ],
   "source": [
    "HC.shape"
   ]
  },
  {
   "cell_type": "code",
   "execution_count": 95,
   "id": "4681c05a",
   "metadata": {},
   "outputs": [
    {
     "data": {
      "text/plain": [
       "(25891, 4)"
      ]
     },
     "execution_count": 95,
     "metadata": {},
     "output_type": "execute_result"
    }
   ],
   "source": [
    "DT.shape"
   ]
  },
  {
   "cell_type": "code",
   "execution_count": 98,
   "id": "bb665ad0",
   "metadata": {
    "scrolled": true
   },
   "outputs": [
    {
     "data": {
      "text/plain": [
       "['Negative',\n",
       " 'Neutral',\n",
       " 'Neutral',\n",
       " 'Neutral',\n",
       " 'Neutral',\n",
       " 'Neutral',\n",
       " 'Neutral',\n",
       " 'Neutral',\n",
       " 'Neutral',\n",
       " 'Positive',\n",
       " 'Neutral',\n",
       " 'Neutral',\n",
       " 'Neutral',\n",
       " 'Negative',\n",
       " 'Neutral']"
      ]
     },
     "execution_count": 98,
     "metadata": {},
     "output_type": "execute_result"
    }
   ],
   "source": [
    "predicted_sentiment"
   ]
  },
  {
   "cell_type": "code",
   "execution_count": null,
   "id": "43702deb",
   "metadata": {
    "scrolled": true
   },
   "outputs": [],
   "source": [
    "# This took a very long time (45min - 1hr). It predicted the sentiment of each\n",
    "# of the approximately 6600 Twitter posts.\n",
    "\n",
    "predicted_sentiment_hillary = sentiment_analysis(data)"
   ]
  },
  {
   "cell_type": "code",
   "execution_count": 154,
   "id": "09df7336",
   "metadata": {},
   "outputs": [],
   "source": [
    "text_handle[\"predicted_sentiment\"] = predicted_sentiment"
   ]
  },
  {
   "cell_type": "code",
   "execution_count": 159,
   "id": "e5e94881",
   "metadata": {
    "scrolled": false
   },
   "outputs": [
    {
     "data": {
      "text/html": [
       "<div>\n",
       "<style scoped>\n",
       "    .dataframe tbody tr th:only-of-type {\n",
       "        vertical-align: middle;\n",
       "    }\n",
       "\n",
       "    .dataframe tbody tr th {\n",
       "        vertical-align: top;\n",
       "    }\n",
       "\n",
       "    .dataframe thead th {\n",
       "        text-align: right;\n",
       "    }\n",
       "</style>\n",
       "<table border=\"1\" class=\"dataframe\">\n",
       "  <thead>\n",
       "    <tr style=\"text-align: right;\">\n",
       "      <th></th>\n",
       "      <th>handle</th>\n",
       "      <th>text</th>\n",
       "      <th>data</th>\n",
       "      <th>predicted_sentiment</th>\n",
       "    </tr>\n",
       "  </thead>\n",
       "  <tbody>\n",
       "    <tr>\n",
       "      <th>0</th>\n",
       "      <td>HillaryClinton</td>\n",
       "      <td>The question election: Who put plans action ma...</td>\n",
       "      <td>the question election who put plan action make...</td>\n",
       "      <td>Neutral</td>\n",
       "    </tr>\n",
       "    <tr>\n",
       "      <th>1</th>\n",
       "      <td>HillaryClinton</td>\n",
       "      <td>Last night, Donald Trump said paying taxes \"sm...</td>\n",
       "      <td>last night donald trump say pay tax smart you ...</td>\n",
       "      <td>Neutral</td>\n",
       "    </tr>\n",
       "    <tr>\n",
       "      <th>2</th>\n",
       "      <td>HillaryClinton</td>\n",
       "      <td>Couldnt proud . Her vision command last nights...</td>\n",
       "      <td>couldnt proud her vision command last nights d...</td>\n",
       "      <td>Neutral</td>\n",
       "    </tr>\n",
       "    <tr>\n",
       "      <th>3</th>\n",
       "      <td>HillaryClinton</td>\n",
       "      <td>If stand together, theres nothing cant do. Mak...</td>\n",
       "      <td>if stand together theres nothing cant do make ...</td>\n",
       "      <td>Neutral</td>\n",
       "    </tr>\n",
       "    <tr>\n",
       "      <th>4</th>\n",
       "      <td>HillaryClinton</td>\n",
       "      <td>Both candidates asked theyd confront racial in...</td>\n",
       "      <td>both candidates ask theyd confront racial inju...</td>\n",
       "      <td>Negative</td>\n",
       "    </tr>\n",
       "    <tr>\n",
       "      <th>...</th>\n",
       "      <td>...</td>\n",
       "      <td>...</td>\n",
       "      <td>...</td>\n",
       "      <td>...</td>\n",
       "    </tr>\n",
       "    <tr>\n",
       "      <th>6439</th>\n",
       "      <td>realDonaldTrump</td>\n",
       "      <td>\": My Facebook Groups are all voting TRUMP /40...</td>\n",
       "      <td>my facebook group be all vote trump people great</td>\n",
       "      <td>Positive</td>\n",
       "    </tr>\n",
       "    <tr>\n",
       "      <th>6440</th>\n",
       "      <td>realDonaldTrump</td>\n",
       "      <td>\": watched lowell mass speech. Awesome. Great ...</td>\n",
       "      <td>watch lowell mass speech awesome great crowd m...</td>\n",
       "      <td>Neutral</td>\n",
       "    </tr>\n",
       "    <tr>\n",
       "      <th>6441</th>\n",
       "      <td>realDonaldTrump</td>\n",
       "      <td>\"_lol: Iowa key endorsement for Cant wait for ...</td>\n",
       "      <td>iowa key endorsement for cant wait for the iow...</td>\n",
       "      <td>Neutral</td>\n",
       "    </tr>\n",
       "    <tr>\n",
       "      <th>6442</th>\n",
       "      <td>realDonaldTrump</td>\n",
       "      <td>\": Minimizing dependency on China is crucial.O...</td>\n",
       "      <td>minimize dependency on china be crucial only t...</td>\n",
       "      <td>Positive</td>\n",
       "    </tr>\n",
       "    <tr>\n",
       "      <th>6443</th>\n",
       "      <td>realDonaldTrump</td>\n",
       "      <td>\": Donald get big business back and MAKE AMERI...</td>\n",
       "      <td>donald get big business back and make america ...</td>\n",
       "      <td>Neutral</td>\n",
       "    </tr>\n",
       "  </tbody>\n",
       "</table>\n",
       "<p>6444 rows × 4 columns</p>\n",
       "</div>"
      ],
      "text/plain": [
       "               handle                                               text  \\\n",
       "0      HillaryClinton  The question election: Who put plans action ma...   \n",
       "1      HillaryClinton  Last night, Donald Trump said paying taxes \"sm...   \n",
       "2      HillaryClinton  Couldnt proud . Her vision command last nights...   \n",
       "3      HillaryClinton  If stand together, theres nothing cant do. Mak...   \n",
       "4      HillaryClinton  Both candidates asked theyd confront racial in...   \n",
       "...               ...                                                ...   \n",
       "6439  realDonaldTrump  \": My Facebook Groups are all voting TRUMP /40...   \n",
       "6440  realDonaldTrump  \": watched lowell mass speech. Awesome. Great ...   \n",
       "6441  realDonaldTrump  \"_lol: Iowa key endorsement for Cant wait for ...   \n",
       "6442  realDonaldTrump  \": Minimizing dependency on China is crucial.O...   \n",
       "6443  realDonaldTrump  \": Donald get big business back and MAKE AMERI...   \n",
       "\n",
       "                                                   data predicted_sentiment  \n",
       "0     the question election who put plan action make...             Neutral  \n",
       "1     last night donald trump say pay tax smart you ...             Neutral  \n",
       "2     couldnt proud her vision command last nights d...             Neutral  \n",
       "3     if stand together theres nothing cant do make ...             Neutral  \n",
       "4     both candidates ask theyd confront racial inju...            Negative  \n",
       "...                                                 ...                 ...  \n",
       "6439   my facebook group be all vote trump people great            Positive  \n",
       "6440  watch lowell mass speech awesome great crowd m...             Neutral  \n",
       "6441  iowa key endorsement for cant wait for the iow...             Neutral  \n",
       "6442  minimize dependency on china be crucial only t...            Positive  \n",
       "6443  donald get big business back and make america ...             Neutral  \n",
       "\n",
       "[6444 rows x 4 columns]"
      ]
     },
     "execution_count": 159,
     "metadata": {},
     "output_type": "execute_result"
    }
   ],
   "source": [
    "text_handle"
   ]
  },
  {
   "cell_type": "markdown",
   "id": "8bcbeec9",
   "metadata": {},
   "source": [
    "# Visualize the results"
   ]
  },
  {
   "cell_type": "code",
   "execution_count": 170,
   "id": "26bb8965",
   "metadata": {
    "scrolled": false
   },
   "outputs": [
    {
     "data": {
      "text/html": [
       "<div>\n",
       "<style scoped>\n",
       "    .dataframe tbody tr th:only-of-type {\n",
       "        vertical-align: middle;\n",
       "    }\n",
       "\n",
       "    .dataframe tbody tr th {\n",
       "        vertical-align: top;\n",
       "    }\n",
       "\n",
       "    .dataframe thead th {\n",
       "        text-align: right;\n",
       "    }\n",
       "</style>\n",
       "<table border=\"1\" class=\"dataframe\">\n",
       "  <thead>\n",
       "    <tr style=\"text-align: right;\">\n",
       "      <th></th>\n",
       "      <th>handle</th>\n",
       "      <th>text</th>\n",
       "      <th>data</th>\n",
       "      <th>predicted_sentiment</th>\n",
       "    </tr>\n",
       "  </thead>\n",
       "  <tbody>\n",
       "    <tr>\n",
       "      <th>32</th>\n",
       "      <td>HillaryClinton</td>\n",
       "      <td>“Donald criticized preparing debate. And know ...</td>\n",
       "      <td>donald criticize prepare debate and know else ...</td>\n",
       "      <td>Positive</td>\n",
       "    </tr>\n",
       "    <tr>\n",
       "      <th>38</th>\n",
       "      <td>HillaryClinton</td>\n",
       "      <td>\"She gained massive amount weight...it real pr...</td>\n",
       "      <td>she gain massive amount weight it real problem...</td>\n",
       "      <td>Positive</td>\n",
       "    </tr>\n",
       "    <tr>\n",
       "      <th>51</th>\n",
       "      <td>HillaryClinton</td>\n",
       "      <td>Trump on Alicia, 1996: \"Miss Piggy.\" This morn...</td>\n",
       "      <td>trump on alicia miss piggy this morning she ga...</td>\n",
       "      <td>Positive</td>\n",
       "    </tr>\n",
       "    <tr>\n",
       "      <th>67</th>\n",
       "      <td>HillaryClinton</td>\n",
       "      <td>43 days left. Let’s go win this thing: DebateN...</td>\n",
       "      <td>days leave let go win this thing debatenight</td>\n",
       "      <td>Positive</td>\n",
       "    </tr>\n",
       "    <tr>\n",
       "      <th>74</th>\n",
       "      <td>HillaryClinton</td>\n",
       "      <td>Hillary Clinton did what she needed to do:</td>\n",
       "      <td>hillary clinton do what she need to do</td>\n",
       "      <td>Positive</td>\n",
       "    </tr>\n",
       "    <tr>\n",
       "      <th>...</th>\n",
       "      <td>...</td>\n",
       "      <td>...</td>\n",
       "      <td>...</td>\n",
       "      <td>...</td>\n",
       "    </tr>\n",
       "    <tr>\n",
       "      <th>4785</th>\n",
       "      <td>HillaryClinton</td>\n",
       "      <td>Trump saying awful things about women isnt the...</td>\n",
       "      <td>trump say awful things about women isnt the mo...</td>\n",
       "      <td>Positive</td>\n",
       "    </tr>\n",
       "    <tr>\n",
       "      <th>4801</th>\n",
       "      <td>HillaryClinton</td>\n",
       "      <td>. Reflects On s Passing w/ Prince HillaryClinton</td>\n",
       "      <td>reflect on pass prince hillaryclinton</td>\n",
       "      <td>Positive</td>\n",
       "    </tr>\n",
       "    <tr>\n",
       "      <th>4816</th>\n",
       "      <td>HillaryClinton</td>\n",
       "      <td>Thank you, New York. Lets go win this nominati...</td>\n",
       "      <td>thank you new york let go win this nomination</td>\n",
       "      <td>Positive</td>\n",
       "    </tr>\n",
       "    <tr>\n",
       "      <th>4839</th>\n",
       "      <td>HillaryClinton</td>\n",
       "      <td>It’s about lifting each other up, not tearing ...</td>\n",
       "      <td>it about lift each other up not tear each othe...</td>\n",
       "      <td>Positive</td>\n",
       "    </tr>\n",
       "    <tr>\n",
       "      <th>4856</th>\n",
       "      <td>HillaryClinton</td>\n",
       "      <td>Just a few hours left to vote in the NY primar...</td>\n",
       "      <td>just few hours leave to vote in the ny primary...</td>\n",
       "      <td>Positive</td>\n",
       "    </tr>\n",
       "  </tbody>\n",
       "</table>\n",
       "<p>252 rows × 4 columns</p>\n",
       "</div>"
      ],
      "text/plain": [
       "              handle                                               text  \\\n",
       "32    HillaryClinton  “Donald criticized preparing debate. And know ...   \n",
       "38    HillaryClinton  \"She gained massive amount weight...it real pr...   \n",
       "51    HillaryClinton  Trump on Alicia, 1996: \"Miss Piggy.\" This morn...   \n",
       "67    HillaryClinton  43 days left. Let’s go win this thing: DebateN...   \n",
       "74    HillaryClinton        Hillary Clinton did what she needed to do:    \n",
       "...              ...                                                ...   \n",
       "4785  HillaryClinton  Trump saying awful things about women isnt the...   \n",
       "4801  HillaryClinton  . Reflects On s Passing w/ Prince HillaryClinton    \n",
       "4816  HillaryClinton  Thank you, New York. Lets go win this nominati...   \n",
       "4839  HillaryClinton  It’s about lifting each other up, not tearing ...   \n",
       "4856  HillaryClinton  Just a few hours left to vote in the NY primar...   \n",
       "\n",
       "                                                   data predicted_sentiment  \n",
       "32    donald criticize prepare debate and know else ...            Positive  \n",
       "38    she gain massive amount weight it real problem...            Positive  \n",
       "51    trump on alicia miss piggy this morning she ga...            Positive  \n",
       "67         days leave let go win this thing debatenight            Positive  \n",
       "74               hillary clinton do what she need to do            Positive  \n",
       "...                                                 ...                 ...  \n",
       "4785  trump say awful things about women isnt the mo...            Positive  \n",
       "4801              reflect on pass prince hillaryclinton            Positive  \n",
       "4816      thank you new york let go win this nomination            Positive  \n",
       "4839  it about lift each other up not tear each othe...            Positive  \n",
       "4856  just few hours leave to vote in the ny primary...            Positive  \n",
       "\n",
       "[252 rows x 4 columns]"
      ]
     },
     "execution_count": 170,
     "metadata": {},
     "output_type": "execute_result"
    }
   ],
   "source": [
    "hillary_positive_sentiment = text_handle[(text_handle['handle'] == 'HillaryClinton') & (text_handle['predicted_sentiment'] == 'Positive')]\n",
    "hillary_positive_sentiment"
   ]
  },
  {
   "cell_type": "code",
   "execution_count": 175,
   "id": "1b2a9634",
   "metadata": {},
   "outputs": [],
   "source": [
    "# group by each candidate and each sentiment\n",
    "hillary_negative_sentiment = text_handle[(text_handle['handle'] == 'HillaryClinton') & (text_handle['predicted_sentiment'] == 'Negative')]\n",
    "hillary_neutral_sentiment = text_handle[(text_handle['handle'] == 'HillaryClinton') & (text_handle['predicted_sentiment'] == 'Neutral')]\n",
    "trump_negative_sentiment = text_handle[(text_handle['handle'] == 'realDonaldTrump') & (text_handle['predicted_sentiment'] == 'Negative')]\n",
    "trump_positive_sentiment = text_handle[(text_handle['handle'] == 'realDonaldTrump') & (text_handle['predicted_sentiment'] == 'Positive')]\n",
    "trump_neutral_sentiment = text_handle[(text_handle['handle'] == 'realDonaldTrump') & (text_handle['predicted_sentiment'] == 'Neutral')]"
   ]
  },
  {
   "cell_type": "code",
   "execution_count": 178,
   "id": "046f2660",
   "metadata": {},
   "outputs": [
    {
     "data": {
      "text/plain": [
       "Text(0.5, 1.0, 'Polarity of posts of each candidate')"
      ]
     },
     "execution_count": 178,
     "metadata": {},
     "output_type": "execute_result"
    },
    {
     "data": {
      "image/png": "[encoded data removed]",
      "text/plain": [
       "<Figure size 1000x600 with 1 Axes>"
      ]
     },
     "metadata": {},
     "output_type": "display_data"
    }
   ],
   "source": [
    "# Create a bar chart\n",
    "fig, ax = plt.subplots(figsize=(10, 6))\n",
    "\n",
    "# Plotting bars for Hillary Clinton\n",
    "bar_width = 0.2\n",
    "bar_positions_hillary = range(1, 4)\n",
    "ax.bar([p - bar_width for p in bar_positions_hillary], [len(hillary_positive_sentiment), len(hillary_negative_sentiment), len(hillary_neutral_sentiment)], width=bar_width, label='Hillary Clinton', color='blue')\n",
    "\n",
    "# Plotting bars for Donald Trump\n",
    "bar_positions_trump = range(1, 4)\n",
    "ax.bar([p + bar_width for p in bar_positions_trump], [len(trump_positive_sentiment), len(trump_negative_sentiment), len(trump_neutral_sentiment)], width=bar_width, label='Donald Trump', color='red')\n",
    "\n",
    "# Set labels and title\n",
    "ax.set_xticks([p for p in bar_positions_hillary])\n",
    "ax.set_xticklabels(['Positive', 'Negative', 'Neutral'])\n",
    "ax.set_ylabel('Count')\n",
    "ax.set_title('Polarity of posts of each candidate')"
   ]
  },
  {
   "cell_type": "code",
   "execution_count": null,
   "id": "db803db8",
   "metadata": {},
   "outputs": [],
   "source": []
  },
  {
   "cell_type": "code",
   "execution_count": null,
   "id": "4cd5d3e5",
   "metadata": {},
   "outputs": [],
   "source": []
  }
 ],
 "metadata": {
  "kernelspec": {
   "display_name": "Python 3 (ipykernel)",
   "language": "python",
   "name": "python3"
  },
  "language_info": {
   "codemirror_mode": {
    "name": "ipython",
    "version": 3
   },
   "file_extension": ".py",
   "mimetype": "text/x-python",
   "name": "python",
   "nbconvert_exporter": "python",
   "pygments_lexer": "ipython3",
   "version": "3.10.8"
  }
 },
 "nbformat": 4,
 "nbformat_minor": 5
}
