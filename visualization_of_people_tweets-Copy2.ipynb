{
 "cells": [
  {
   "cell_type": "code",
   "execution_count": 4,
   "id": "13ffdf3f",
   "metadata": {},
   "outputs": [],
   "source": [
    "import tensorflow as tf\n",
    "import pandas as pd\n",
    "import regex as re\n",
    "from keras.preprocessing.text import Tokenizer\n",
    "from keras_preprocessing.sequence import pad_sequences\n",
    "from keras import regularizers\n",
    "import numpy as np"
   ]
  },
  {
   "cell_type": "code",
   "execution_count": 5,
   "id": "ec2d835e",
   "metadata": {},
   "outputs": [],
   "source": [
    "# Load the saved model\n",
    "loaded_model = tf.keras.models.load_model(\"/Users/lubicasimkovicova/Desktop/Bachelorthesis---Sentiment-Analysis-with-Deep-Learning-main-2/model\")"
   ]
  },
  {
   "cell_type": "code",
   "execution_count": 6,
   "id": "56ed9600",
   "metadata": {},
   "outputs": [],
   "source": [
    "# import tweets from Clinton and Trump\n",
    "df = pd.read_csv('/Users/lubicasimkovicova/Desktop/Bachelorthesis---Sentiment-Analysis-with-Deep-Learning-main-2/2016_us_election_tweets_100k.csv')"
   ]
  },
  {
   "cell_type": "code",
   "execution_count": 7,
   "id": "dee01109",
   "metadata": {
    "scrolled": true
   },
   "outputs": [
    {
     "data": {
      "text/html": [
       "<div>\n",
       "<style scoped>\n",
       "    .dataframe tbody tr th:only-of-type {\n",
       "        vertical-align: middle;\n",
       "    }\n",
       "\n",
       "    .dataframe tbody tr th {\n",
       "        vertical-align: top;\n",
       "    }\n",
       "\n",
       "    .dataframe thead th {\n",
       "        text-align: right;\n",
       "    }\n",
       "</style>\n",
       "<table border=\"1\" class=\"dataframe\">\n",
       "  <thead>\n",
       "    <tr style=\"text-align: right;\">\n",
       "      <th></th>\n",
       "      <th>id</th>\n",
       "      <th>candidate_id</th>\n",
       "      <th>tweet_id</th>\n",
       "      <th>polarity</th>\n",
       "      <th>subjectivity</th>\n",
       "      <th>retweet_count</th>\n",
       "      <th>favorite_count</th>\n",
       "      <th>device</th>\n",
       "      <th>retweeted_status_id</th>\n",
       "      <th>lang</th>\n",
       "      <th>state</th>\n",
       "      <th>tweet_text</th>\n",
       "      <th>created_at</th>\n",
       "      <th>inserted_at</th>\n",
       "      <th>updated_at</th>\n",
       "      <th>tw_user_id</th>\n",
       "      <th>latitude</th>\n",
       "      <th>longitude</th>\n",
       "    </tr>\n",
       "  </thead>\n",
       "  <tbody>\n",
       "    <tr>\n",
       "      <th>0</th>\n",
       "      <td>57486</td>\n",
       "      <td>3</td>\n",
       "      <td>770728672433143808</td>\n",
       "      <td>0.000000</td>\n",
       "      <td>0.000000</td>\n",
       "      <td>0</td>\n",
       "      <td>0</td>\n",
       "      <td>1</td>\n",
       "      <td>NaN</td>\n",
       "      <td>tr</td>\n",
       "      <td>NaN</td>\n",
       "      <td>Ne farkınız var DAIŞ, El-Kaide, El Nusra, YPG ...</td>\n",
       "      <td>2016-08-30T21:03:29</td>\n",
       "      <td>2016-08-30T21:03:29</td>\n",
       "      <td>2016-08-30T21:03:29</td>\n",
       "      <td>NaN</td>\n",
       "      <td>NaN</td>\n",
       "      <td>NaN</td>\n",
       "    </tr>\n",
       "    <tr>\n",
       "      <th>1</th>\n",
       "      <td>57536</td>\n",
       "      <td>3</td>\n",
       "      <td>770729424207618048</td>\n",
       "      <td>0.000000</td>\n",
       "      <td>0.000000</td>\n",
       "      <td>0</td>\n",
       "      <td>0</td>\n",
       "      <td>1</td>\n",
       "      <td>NaN</td>\n",
       "      <td>en</td>\n",
       "      <td>NaN</td>\n",
       "      <td>@BarackObama the way you showed up in Louisian...</td>\n",
       "      <td>2016-08-30T21:06:28</td>\n",
       "      <td>2016-08-30T21:06:29</td>\n",
       "      <td>2016-08-30T21:06:29</td>\n",
       "      <td>NaN</td>\n",
       "      <td>NaN</td>\n",
       "      <td>NaN</td>\n",
       "    </tr>\n",
       "    <tr>\n",
       "      <th>2</th>\n",
       "      <td>57586</td>\n",
       "      <td>3</td>\n",
       "      <td>770730086978977796</td>\n",
       "      <td>-0.472222</td>\n",
       "      <td>0.555556</td>\n",
       "      <td>0</td>\n",
       "      <td>0</td>\n",
       "      <td>1</td>\n",
       "      <td>NaN</td>\n",
       "      <td>en</td>\n",
       "      <td>NaN</td>\n",
       "      <td>White house not taking tax avoid seriously! Ap...</td>\n",
       "      <td>2016-08-30T21:09:06</td>\n",
       "      <td>2016-08-30T21:09:07</td>\n",
       "      <td>2016-08-30T21:09:07</td>\n",
       "      <td>NaN</td>\n",
       "      <td>NaN</td>\n",
       "      <td>NaN</td>\n",
       "    </tr>\n",
       "    <tr>\n",
       "      <th>3</th>\n",
       "      <td>57632</td>\n",
       "      <td>2</td>\n",
       "      <td>770748036972773376</td>\n",
       "      <td>0.000000</td>\n",
       "      <td>0.000000</td>\n",
       "      <td>0</td>\n",
       "      <td>0</td>\n",
       "      <td>0</td>\n",
       "      <td>NaN</td>\n",
       "      <td>en</td>\n",
       "      <td>NaN</td>\n",
       "      <td>politico: .realDonaldTrump, HillaryClinton ple...</td>\n",
       "      <td>2016-08-30T22:20:26</td>\n",
       "      <td>2016-08-30T22:20:26</td>\n",
       "      <td>2016-08-30T22:20:26</td>\n",
       "      <td>NaN</td>\n",
       "      <td>NaN</td>\n",
       "      <td>NaN</td>\n",
       "    </tr>\n",
       "    <tr>\n",
       "      <th>4</th>\n",
       "      <td>57682</td>\n",
       "      <td>1</td>\n",
       "      <td>770748065531723778</td>\n",
       "      <td>-0.125000</td>\n",
       "      <td>0.375000</td>\n",
       "      <td>0</td>\n",
       "      <td>0</td>\n",
       "      <td>5</td>\n",
       "      <td>NaN</td>\n",
       "      <td>en</td>\n",
       "      <td>NaN</td>\n",
       "      <td>She's over due by 250 days. https://t.co/IfOO9...</td>\n",
       "      <td>2016-08-30T22:20:33</td>\n",
       "      <td>2016-08-30T22:20:33</td>\n",
       "      <td>2016-08-30T22:20:33</td>\n",
       "      <td>NaN</td>\n",
       "      <td>NaN</td>\n",
       "      <td>NaN</td>\n",
       "    </tr>\n",
       "  </tbody>\n",
       "</table>\n",
       "</div>"
      ],
      "text/plain": [
       "      id  candidate_id            tweet_id  polarity  subjectivity  \\\n",
       "0  57486             3  770728672433143808  0.000000      0.000000   \n",
       "1  57536             3  770729424207618048  0.000000      0.000000   \n",
       "2  57586             3  770730086978977796 -0.472222      0.555556   \n",
       "3  57632             2  770748036972773376  0.000000      0.000000   \n",
       "4  57682             1  770748065531723778 -0.125000      0.375000   \n",
       "\n",
       "   retweet_count  favorite_count  device  retweeted_status_id lang state  \\\n",
       "0              0               0       1                  NaN   tr   NaN   \n",
       "1              0               0       1                  NaN   en   NaN   \n",
       "2              0               0       1                  NaN   en   NaN   \n",
       "3              0               0       0                  NaN   en   NaN   \n",
       "4              0               0       5                  NaN   en   NaN   \n",
       "\n",
       "                                          tweet_text           created_at  \\\n",
       "0  Ne farkınız var DAIŞ, El-Kaide, El Nusra, YPG ...  2016-08-30T21:03:29   \n",
       "1  @BarackObama the way you showed up in Louisian...  2016-08-30T21:06:28   \n",
       "2  White house not taking tax avoid seriously! Ap...  2016-08-30T21:09:06   \n",
       "3  politico: .realDonaldTrump, HillaryClinton ple...  2016-08-30T22:20:26   \n",
       "4  She's over due by 250 days. https://t.co/IfOO9...  2016-08-30T22:20:33   \n",
       "\n",
       "           inserted_at           updated_at  tw_user_id  latitude  longitude  \n",
       "0  2016-08-30T21:03:29  2016-08-30T21:03:29         NaN       NaN        NaN  \n",
       "1  2016-08-30T21:06:29  2016-08-30T21:06:29         NaN       NaN        NaN  \n",
       "2  2016-08-30T21:09:07  2016-08-30T21:09:07         NaN       NaN        NaN  \n",
       "3  2016-08-30T22:20:26  2016-08-30T22:20:26         NaN       NaN        NaN  \n",
       "4  2016-08-30T22:20:33  2016-08-30T22:20:33         NaN       NaN        NaN  "
      ]
     },
     "execution_count": 7,
     "metadata": {},
     "output_type": "execute_result"
    }
   ],
   "source": [
    "df.head()"
   ]
  },
  {
   "cell_type": "code",
   "execution_count": 8,
   "id": "37cfa26d",
   "metadata": {},
   "outputs": [
    {
     "data": {
      "text/plain": [
       "(100000, 18)"
      ]
     },
     "execution_count": 8,
     "metadata": {},
     "output_type": "execute_result"
    }
   ],
   "source": [
    "df.shape"
   ]
  },
  {
   "cell_type": "code",
   "execution_count": 9,
   "id": "13b6f2d3",
   "metadata": {},
   "outputs": [
    {
     "data": {
      "text/plain": [
       "Index(['id', 'candidate_id', 'tweet_id', 'polarity', 'subjectivity',\n",
       "       'retweet_count', 'favorite_count', 'device', 'retweeted_status_id',\n",
       "       'lang', 'state', 'tweet_text', 'created_at', 'inserted_at',\n",
       "       'updated_at', 'tw_user_id', 'latitude', 'longitude'],\n",
       "      dtype='object')"
      ]
     },
     "execution_count": 9,
     "metadata": {},
     "output_type": "execute_result"
    }
   ],
   "source": [
    "df.columns"
   ]
  },
  {
   "cell_type": "code",
   "execution_count": 10,
   "id": "5eb75913",
   "metadata": {},
   "outputs": [],
   "source": [
    "# get only text and candidate_id\n",
    "df = df.drop(['id', 'tweet_id', 'polarity', 'subjectivity',\n",
    "       'retweet_count', 'favorite_count', 'device', 'retweeted_status_id',\n",
    "       'lang', 'state', 'inserted_at',\n",
    "       'updated_at', 'tw_user_id', 'latitude', 'longitude'],axis=1)"
   ]
  },
  {
   "cell_type": "code",
   "execution_count": 11,
   "id": "3f9ce86e",
   "metadata": {
    "scrolled": true
   },
   "outputs": [
    {
     "data": {
      "text/html": [
       "<div>\n",
       "<style scoped>\n",
       "    .dataframe tbody tr th:only-of-type {\n",
       "        vertical-align: middle;\n",
       "    }\n",
       "\n",
       "    .dataframe tbody tr th {\n",
       "        vertical-align: top;\n",
       "    }\n",
       "\n",
       "    .dataframe thead th {\n",
       "        text-align: right;\n",
       "    }\n",
       "</style>\n",
       "<table border=\"1\" class=\"dataframe\">\n",
       "  <thead>\n",
       "    <tr style=\"text-align: right;\">\n",
       "      <th></th>\n",
       "      <th>candidate_id</th>\n",
       "      <th>tweet_text</th>\n",
       "      <th>created_at</th>\n",
       "    </tr>\n",
       "  </thead>\n",
       "  <tbody>\n",
       "    <tr>\n",
       "      <th>0</th>\n",
       "      <td>3</td>\n",
       "      <td>Ne farkınız var DAIŞ, El-Kaide, El Nusra, YPG ...</td>\n",
       "      <td>2016-08-30T21:03:29</td>\n",
       "    </tr>\n",
       "    <tr>\n",
       "      <th>1</th>\n",
       "      <td>3</td>\n",
       "      <td>@BarackObama the way you showed up in Louisian...</td>\n",
       "      <td>2016-08-30T21:06:28</td>\n",
       "    </tr>\n",
       "    <tr>\n",
       "      <th>2</th>\n",
       "      <td>3</td>\n",
       "      <td>White house not taking tax avoid seriously! Ap...</td>\n",
       "      <td>2016-08-30T21:09:06</td>\n",
       "    </tr>\n",
       "    <tr>\n",
       "      <th>3</th>\n",
       "      <td>2</td>\n",
       "      <td>politico: .realDonaldTrump, HillaryClinton ple...</td>\n",
       "      <td>2016-08-30T22:20:26</td>\n",
       "    </tr>\n",
       "    <tr>\n",
       "      <th>4</th>\n",
       "      <td>1</td>\n",
       "      <td>She's over due by 250 days. https://t.co/IfOO9...</td>\n",
       "      <td>2016-08-30T22:20:33</td>\n",
       "    </tr>\n",
       "  </tbody>\n",
       "</table>\n",
       "</div>"
      ],
      "text/plain": [
       "   candidate_id                                         tweet_text  \\\n",
       "0             3  Ne farkınız var DAIŞ, El-Kaide, El Nusra, YPG ...   \n",
       "1             3  @BarackObama the way you showed up in Louisian...   \n",
       "2             3  White house not taking tax avoid seriously! Ap...   \n",
       "3             2  politico: .realDonaldTrump, HillaryClinton ple...   \n",
       "4             1  She's over due by 250 days. https://t.co/IfOO9...   \n",
       "\n",
       "            created_at  \n",
       "0  2016-08-30T21:03:29  \n",
       "1  2016-08-30T21:06:28  \n",
       "2  2016-08-30T21:09:06  \n",
       "3  2016-08-30T22:20:26  \n",
       "4  2016-08-30T22:20:33  "
      ]
     },
     "execution_count": 11,
     "metadata": {},
     "output_type": "execute_result"
    }
   ],
   "source": [
    "df.head()"
   ]
  },
  {
   "cell_type": "code",
   "execution_count": 12,
   "id": "2a088632-e76a-49ea-b766-90441d44f5e7",
   "metadata": {
    "scrolled": true
   },
   "outputs": [
    {
     "data": {
      "text/plain": [
       "array(['2016-08-30T21:03:29', '2016-08-30T21:06:28',\n",
       "       '2016-08-30T21:09:06', ..., '2017-02-17T12:49:25',\n",
       "       '2017-02-17T12:49:36', '2016-09-01T20:46:31'], dtype=object)"
      ]
     },
     "execution_count": 12,
     "metadata": {},
     "output_type": "execute_result"
    }
   ],
   "source": [
    "df.created_at.unique()"
   ]
  },
  {
   "cell_type": "code",
   "execution_count": 13,
   "id": "19829843-3889-4e87-a48d-aaaa2685db1f",
   "metadata": {},
   "outputs": [],
   "source": [
    "df3 = df"
   ]
  },
  {
   "cell_type": "code",
   "execution_count": 14,
   "id": "56cc11fc",
   "metadata": {
    "scrolled": true
   },
   "outputs": [
    {
     "data": {
      "text/html": [
       "<div>\n",
       "<style scoped>\n",
       "    .dataframe tbody tr th:only-of-type {\n",
       "        vertical-align: middle;\n",
       "    }\n",
       "\n",
       "    .dataframe tbody tr th {\n",
       "        vertical-align: top;\n",
       "    }\n",
       "\n",
       "    .dataframe thead th {\n",
       "        text-align: right;\n",
       "    }\n",
       "</style>\n",
       "<table border=\"1\" class=\"dataframe\">\n",
       "  <thead>\n",
       "    <tr style=\"text-align: right;\">\n",
       "      <th></th>\n",
       "      <th>candidate_id</th>\n",
       "      <th>tweet_text</th>\n",
       "      <th>created_at</th>\n",
       "    </tr>\n",
       "  </thead>\n",
       "  <tbody>\n",
       "    <tr>\n",
       "      <th>99980</th>\n",
       "      <td>2</td>\n",
       "      <td>There was a time during the election where @Mo...</td>\n",
       "      <td>2017-02-17T14:11:41</td>\n",
       "    </tr>\n",
       "    <tr>\n",
       "      <th>99981</th>\n",
       "      <td>2</td>\n",
       "      <td>@MrsScottBaio @SpeakerRyan @realDonaldTrump 😂😂😂</td>\n",
       "      <td>2017-02-17T14:11:54</td>\n",
       "    </tr>\n",
       "    <tr>\n",
       "      <th>99982</th>\n",
       "      <td>2</td>\n",
       "      <td>@realDonaldTrump https://t.co/8EJvwsZ4u3</td>\n",
       "      <td>2017-02-17T14:11:59</td>\n",
       "    </tr>\n",
       "    <tr>\n",
       "      <th>99983</th>\n",
       "      <td>2</td>\n",
       "      <td>@Breaking911 Well its a start , and with @real...</td>\n",
       "      <td>2016-09-01T18:54:02</td>\n",
       "    </tr>\n",
       "    <tr>\n",
       "      <th>99984</th>\n",
       "      <td>2</td>\n",
       "      <td>@realDonaldTrump @seanhannity Pls refuse to do...</td>\n",
       "      <td>2016-09-01T18:54:18</td>\n",
       "    </tr>\n",
       "    <tr>\n",
       "      <th>99985</th>\n",
       "      <td>2</td>\n",
       "      <td>@realDonaldTrump  So thankful your are our Pre...</td>\n",
       "      <td>2017-02-17T12:47:17</td>\n",
       "    </tr>\n",
       "    <tr>\n",
       "      <th>99986</th>\n",
       "      <td>2</td>\n",
       "      <td>@IngrahamAngle @Morning_Joe @realDonaldTrump h...</td>\n",
       "      <td>2017-02-17T12:47:20</td>\n",
       "    </tr>\n",
       "    <tr>\n",
       "      <th>99987</th>\n",
       "      <td>2</td>\n",
       "      <td>@realDonaldTrump @liliantintori @marcorubio ht...</td>\n",
       "      <td>2017-02-17T12:47:24</td>\n",
       "    </tr>\n",
       "    <tr>\n",
       "      <th>99988</th>\n",
       "      <td>2</td>\n",
       "      <td>@realDonaldTrump you are an embarrassment. Lea...</td>\n",
       "      <td>2017-02-17T12:47:26</td>\n",
       "    </tr>\n",
       "    <tr>\n",
       "      <th>99989</th>\n",
       "      <td>2</td>\n",
       "      <td>Maybe he isn't so crazy. https://t.co/K7XId7cPcT</td>\n",
       "      <td>2017-02-17T12:47:37</td>\n",
       "    </tr>\n",
       "    <tr>\n",
       "      <th>99990</th>\n",
       "      <td>2</td>\n",
       "      <td>@RiskyLiberal @realDonaldTrump @MagicMetalNinj...</td>\n",
       "      <td>2017-02-17T12:47:42</td>\n",
       "    </tr>\n",
       "    <tr>\n",
       "      <th>99991</th>\n",
       "      <td>2</td>\n",
       "      <td>@realDonaldTrump You are a horrible leader but...</td>\n",
       "      <td>2017-02-17T12:47:50</td>\n",
       "    </tr>\n",
       "    <tr>\n",
       "      <th>99992</th>\n",
       "      <td>2</td>\n",
       "      <td>@realDonaldTrump if you were in pumping iron, ...</td>\n",
       "      <td>2017-02-17T12:48:00</td>\n",
       "    </tr>\n",
       "    <tr>\n",
       "      <th>99993</th>\n",
       "      <td>2</td>\n",
       "      <td>@realDonaldTrump What caused this great commot...</td>\n",
       "      <td>2017-02-17T12:48:04</td>\n",
       "    </tr>\n",
       "    <tr>\n",
       "      <th>99994</th>\n",
       "      <td>2</td>\n",
       "      <td>\"The news is fake because so much of the news ...</td>\n",
       "      <td>2017-02-17T12:48:10</td>\n",
       "    </tr>\n",
       "    <tr>\n",
       "      <th>99995</th>\n",
       "      <td>2</td>\n",
       "      <td>@realDonaldTrump https://t.co/13kXC4QNqQ</td>\n",
       "      <td>2016-09-01T20:46:31</td>\n",
       "    </tr>\n",
       "    <tr>\n",
       "      <th>99996</th>\n",
       "      <td>2</td>\n",
       "      <td>@realDonaldTrump At least he's on record denyi...</td>\n",
       "      <td>2017-02-17T12:48:13</td>\n",
       "    </tr>\n",
       "    <tr>\n",
       "      <th>99997</th>\n",
       "      <td>2</td>\n",
       "      <td>@WrathJames @dapperlaughs @Rc4trum @realDonald...</td>\n",
       "      <td>2017-02-17T12:48:23</td>\n",
       "    </tr>\n",
       "    <tr>\n",
       "      <th>99998</th>\n",
       "      <td>2</td>\n",
       "      <td>@realDonaldTrump Great</td>\n",
       "      <td>2017-02-17T12:48:29</td>\n",
       "    </tr>\n",
       "    <tr>\n",
       "      <th>99999</th>\n",
       "      <td>2</td>\n",
       "      <td>@realDonaldTrump they are not out to get you.</td>\n",
       "      <td>2017-02-17T12:48:31</td>\n",
       "    </tr>\n",
       "  </tbody>\n",
       "</table>\n",
       "</div>"
      ],
      "text/plain": [
       "       candidate_id                                         tweet_text  \\\n",
       "99980             2  There was a time during the election where @Mo...   \n",
       "99981             2    @MrsScottBaio @SpeakerRyan @realDonaldTrump 😂😂😂   \n",
       "99982             2           @realDonaldTrump https://t.co/8EJvwsZ4u3   \n",
       "99983             2  @Breaking911 Well its a start , and with @real...   \n",
       "99984             2  @realDonaldTrump @seanhannity Pls refuse to do...   \n",
       "99985             2  @realDonaldTrump  So thankful your are our Pre...   \n",
       "99986             2  @IngrahamAngle @Morning_Joe @realDonaldTrump h...   \n",
       "99987             2  @realDonaldTrump @liliantintori @marcorubio ht...   \n",
       "99988             2  @realDonaldTrump you are an embarrassment. Lea...   \n",
       "99989             2   Maybe he isn't so crazy. https://t.co/K7XId7cPcT   \n",
       "99990             2  @RiskyLiberal @realDonaldTrump @MagicMetalNinj...   \n",
       "99991             2  @realDonaldTrump You are a horrible leader but...   \n",
       "99992             2  @realDonaldTrump if you were in pumping iron, ...   \n",
       "99993             2  @realDonaldTrump What caused this great commot...   \n",
       "99994             2  \"The news is fake because so much of the news ...   \n",
       "99995             2           @realDonaldTrump https://t.co/13kXC4QNqQ   \n",
       "99996             2  @realDonaldTrump At least he's on record denyi...   \n",
       "99997             2  @WrathJames @dapperlaughs @Rc4trum @realDonald...   \n",
       "99998             2                             @realDonaldTrump Great   \n",
       "99999             2      @realDonaldTrump they are not out to get you.   \n",
       "\n",
       "                created_at  \n",
       "99980  2017-02-17T14:11:41  \n",
       "99981  2017-02-17T14:11:54  \n",
       "99982  2017-02-17T14:11:59  \n",
       "99983  2016-09-01T18:54:02  \n",
       "99984  2016-09-01T18:54:18  \n",
       "99985  2017-02-17T12:47:17  \n",
       "99986  2017-02-17T12:47:20  \n",
       "99987  2017-02-17T12:47:24  \n",
       "99988  2017-02-17T12:47:26  \n",
       "99989  2017-02-17T12:47:37  \n",
       "99990  2017-02-17T12:47:42  \n",
       "99991  2017-02-17T12:47:50  \n",
       "99992  2017-02-17T12:48:00  \n",
       "99993  2017-02-17T12:48:04  \n",
       "99994  2017-02-17T12:48:10  \n",
       "99995  2016-09-01T20:46:31  \n",
       "99996  2017-02-17T12:48:13  \n",
       "99997  2017-02-17T12:48:23  \n",
       "99998  2017-02-17T12:48:29  \n",
       "99999  2017-02-17T12:48:31  "
      ]
     },
     "execution_count": 14,
     "metadata": {},
     "output_type": "execute_result"
    }
   ],
   "source": [
    "df.tail(20)"
   ]
  },
  {
   "cell_type": "code",
   "execution_count": 15,
   "id": "546a89e3",
   "metadata": {},
   "outputs": [],
   "source": [
    "# drop empty rows\n",
    "df = df.dropna()"
   ]
  },
  {
   "cell_type": "code",
   "execution_count": 16,
   "id": "d76e9079",
   "metadata": {},
   "outputs": [],
   "source": [
    "def cleantext(text):\n",
    "    text = re.sub(r'@[A-Za-z0-9]+','', text) #remove mentions\n",
    "    text = re.sub(r'#','', text) #remove hash\n",
    "    text = re.sub(r'https?:\\/\\/\\S+', '', text) #remove hyperlink\n",
    "    text = re.sub('\\s+', ' ', text) #remove new line char\n",
    "    text = re.sub(\"\\'\", \"\", text) #remove single quotes\n",
    "    \n",
    "    return text"
   ]
  },
  {
   "cell_type": "code",
   "execution_count": 17,
   "id": "e270a1d4",
   "metadata": {},
   "outputs": [
    {
     "name": "stderr",
     "output_type": "stream",
     "text": [
      "/var/folders/f3/mm9q96zs15z04wqzkzssq_k80000gn/T/ipykernel_3840/2994995719.py:1: SettingWithCopyWarning: \n",
      "A value is trying to be set on a copy of a slice from a DataFrame.\n",
      "Try using .loc[row_indexer,col_indexer] = value instead\n",
      "\n",
      "See the caveats in the documentation: https://pandas.pydata.org/pandas-docs/stable/user_guide/indexing.html#returning-a-view-versus-a-copy\n",
      "  df[\"tweet_text\"] = df[\"tweet_text\"].apply(cleantext)\n"
     ]
    }
   ],
   "source": [
    "df[\"tweet_text\"] = df[\"tweet_text\"].apply(cleantext)"
   ]
  },
  {
   "cell_type": "code",
   "execution_count": 18,
   "id": "7fcb5b36",
   "metadata": {},
   "outputs": [
    {
     "data": {
      "text/plain": [
       "0     Ne farkınız var DAIŞ, El-Kaide, El Nusra, YPG ...\n",
       "1                the way you showed up in Louisiana ???\n",
       "2     White house not taking tax avoid seriously! Ap...\n",
       "3     politico: .realDonaldTrump, HillaryClinton ple...\n",
       "4                           Shes over due by 250 days. \n",
       "5     Eight Jamaicans selected for ’s young leaders’...\n",
       "7      can we just report the results after Election...\n",
       "8     BarackObama Obama Obama commutes sentences for...\n",
       "10                                      _ass_Bastard 😂😂\n",
       "12                            Trumpsters are all fools.\n",
       "13     \"And I see your VOTES,\" sez HILLARY who only ...\n",
       "17    Let me s*ck ur d1ldo 👏 😘 Look my top tweet :* ...\n",
       "18    _Baldasaro I guess calling for the murder of h...\n",
       "19                                    _ES _es _OEA2015 \n",
       "20     _Comics you lie like a Democrat. He never ref...\n",
       "Name: tweet_text, dtype: object"
      ]
     },
     "execution_count": 18,
     "metadata": {},
     "output_type": "execute_result"
    }
   ],
   "source": [
    "df[\"tweet_text\"].head(15)"
   ]
  },
  {
   "cell_type": "code",
   "execution_count": 19,
   "id": "18d7b74e",
   "metadata": {},
   "outputs": [
    {
     "name": "stderr",
     "output_type": "stream",
     "text": [
      "/var/folders/f3/mm9q96zs15z04wqzkzssq_k80000gn/T/ipykernel_3840/458263558.py:2: SettingWithCopyWarning: \n",
      "A value is trying to be set on a copy of a slice from a DataFrame.\n",
      "Try using .loc[row_indexer,col_indexer] = value instead\n",
      "\n",
      "See the caveats in the documentation: https://pandas.pydata.org/pandas-docs/stable/user_guide/indexing.html#returning-a-view-versus-a-copy\n",
      "  df[\"tweet_text\"] = df[\"tweet_text\"].apply(lambda wrd:[ltrs.lower() for ltrs in wrd if ltrs not in string.punctuation])\n"
     ]
    }
   ],
   "source": [
    "import string\n",
    "df[\"tweet_text\"] = df[\"tweet_text\"].apply(lambda wrd:[ltrs.lower() for ltrs in wrd if ltrs not in string.punctuation])"
   ]
  },
  {
   "cell_type": "code",
   "execution_count": 20,
   "id": "087a233c",
   "metadata": {},
   "outputs": [
    {
     "name": "stderr",
     "output_type": "stream",
     "text": [
      "/var/folders/f3/mm9q96zs15z04wqzkzssq_k80000gn/T/ipykernel_3840/1643266762.py:1: SettingWithCopyWarning: \n",
      "A value is trying to be set on a copy of a slice from a DataFrame.\n",
      "Try using .loc[row_indexer,col_indexer] = value instead\n",
      "\n",
      "See the caveats in the documentation: https://pandas.pydata.org/pandas-docs/stable/user_guide/indexing.html#returning-a-view-versus-a-copy\n",
      "  df[\"tweet_text\"] = df[\"tweet_text\"].apply(lambda wrd: ''.join(wrd))\n"
     ]
    }
   ],
   "source": [
    "df[\"tweet_text\"] = df[\"tweet_text\"].apply(lambda wrd: ''.join(wrd))"
   ]
  },
  {
   "cell_type": "code",
   "execution_count": 21,
   "id": "29ae2276",
   "metadata": {},
   "outputs": [
    {
     "data": {
      "text/plain": [
       "0        ne farkınız var daiş elkaide el nusra ypg ve p...\n",
       "1                      the way you showed up in louisiana \n",
       "2        white house not taking tax avoid seriously app...\n",
       "3        politico realdonaldtrump hillaryclinton pledge...\n",
       "4                               shes over due by 250 days \n",
       "                               ...                        \n",
       "99995                                                     \n",
       "99996     at least hes on record denying all russian in...\n",
       "99997                         youre not helping yourself 😂\n",
       "99998                                                great\n",
       "99999                          they are not out to get you\n",
       "Name: tweet_text, Length: 55393, dtype: object"
      ]
     },
     "execution_count": 21,
     "metadata": {},
     "output_type": "execute_result"
    }
   ],
   "source": [
    "df[\"tweet_text\"]"
   ]
  },
  {
   "cell_type": "code",
   "execution_count": 22,
   "id": "272c9a66",
   "metadata": {},
   "outputs": [],
   "source": [
    "from nltk.corpus import stopwords"
   ]
  },
  {
   "cell_type": "code",
   "execution_count": 23,
   "id": "885080e9-3e9d-4668-9a85-99d373396748",
   "metadata": {},
   "outputs": [
    {
     "name": "stderr",
     "output_type": "stream",
     "text": [
      "[nltk_data] Downloading package stopwords to\n",
      "[nltk_data]     /Users/lubicasimkovicova/nltk_data...\n",
      "[nltk_data]   Package stopwords is already up-to-date!\n"
     ]
    },
    {
     "data": {
      "text/plain": [
       "True"
      ]
     },
     "execution_count": 23,
     "metadata": {},
     "output_type": "execute_result"
    }
   ],
   "source": [
    "import nltk\n",
    "nltk.download('stopwords')"
   ]
  },
  {
   "cell_type": "code",
   "execution_count": 24,
   "id": "76927f93",
   "metadata": {},
   "outputs": [
    {
     "name": "stderr",
     "output_type": "stream",
     "text": [
      "/var/folders/f3/mm9q96zs15z04wqzkzssq_k80000gn/T/ipykernel_3840/3398030308.py:1: SettingWithCopyWarning: \n",
      "A value is trying to be set on a copy of a slice from a DataFrame\n",
      "\n",
      "See the caveats in the documentation: https://pandas.pydata.org/pandas-docs/stable/user_guide/indexing.html#returning-a-view-versus-a-copy\n",
      "  df[\"tweet_text\"][:50] = df[\"tweet_text\"][:50].apply(lambda x: ' '.join([word for word in x.split() if word not in stopwords.words(\"english\")]))\n"
     ]
    }
   ],
   "source": [
    "df[\"tweet_text\"][:50] = df[\"tweet_text\"][:50].apply(lambda x: ' '.join([word for word in x.split() if word not in stopwords.words(\"english\")]))"
   ]
  },
  {
   "cell_type": "code",
   "execution_count": 25,
   "id": "6dbbd032",
   "metadata": {},
   "outputs": [
    {
     "data": {
      "text/plain": [
       "0        ne farkınız var daiş elkaide el nusra ypg pkkd...\n",
       "1                                     way showed louisiana\n",
       "2        white house taking tax avoid seriously apple d...\n",
       "3        politico realdonaldtrump hillaryclinton pledge...\n",
       "4                                        shes due 250 days\n",
       "                               ...                        \n",
       "99995                                                     \n",
       "99996     at least hes on record denying all russian in...\n",
       "99997                         youre not helping yourself 😂\n",
       "99998                                                great\n",
       "99999                          they are not out to get you\n",
       "Name: tweet_text, Length: 55393, dtype: object"
      ]
     },
     "execution_count": 25,
     "metadata": {},
     "output_type": "execute_result"
    }
   ],
   "source": [
    "df[\"tweet_text\"]"
   ]
  },
  {
   "cell_type": "code",
   "execution_count": 26,
   "id": "8aaa6c49",
   "metadata": {},
   "outputs": [],
   "source": [
    "import gensim\n",
    "def sent_to_words(sentences):\n",
    "    for sentence in sentences:\n",
    "        yield(gensim.utils.simple_preprocess(str(sentence),     deacc=True))"
   ]
  },
  {
   "cell_type": "code",
   "execution_count": 27,
   "id": "808f875d",
   "metadata": {},
   "outputs": [],
   "source": [
    "from nltk.tokenize.treebank import TreebankWordDetokenizer\n",
    "def detokenize(text):\n",
    "    return TreebankWordDetokenizer().detokenize(text)"
   ]
  },
  {
   "cell_type": "code",
   "execution_count": 28,
   "id": "a1a36e4e",
   "metadata": {},
   "outputs": [],
   "source": [
    "temp = []\n",
    "data_to_list = df[\"tweet_text\"].values.tolist()\n",
    "for i in range(len(data_to_list)):\n",
    "    temp.append(data_to_list[i])\n",
    "data_wordslem = list(sent_to_words(temp))"
   ]
  },
  {
   "cell_type": "markdown",
   "id": "91d9abae",
   "metadata": {},
   "source": [
    "Using Lemmatizer instead of stemming. Lemmatizer is preffered over stemming. Lemmatizer find the root word whereas Stemmizer shorten the word. For Example, word 'Caring' -> Lemmatizer -> 'Care' WHEREAS 'Caring' -> Stemming -> 'Car'"
   ]
  },
  {
   "cell_type": "code",
   "execution_count": 29,
   "id": "ec196ca6",
   "metadata": {},
   "outputs": [],
   "source": [
    "import nltk\n",
    "lemmatizer = nltk.stem.WordNetLemmatizer()"
   ]
  },
  {
   "cell_type": "code",
   "execution_count": 30,
   "id": "fc1ff42f",
   "metadata": {},
   "outputs": [
    {
     "name": "stderr",
     "output_type": "stream",
     "text": [
      "[nltk_data] Downloading package omw-1.4 to\n",
      "[nltk_data]     /Users/lubicasimkovicova/nltk_data...\n",
      "[nltk_data]   Package omw-1.4 is already up-to-date!\n"
     ]
    },
    {
     "data": {
      "text/plain": [
       "True"
      ]
     },
     "execution_count": 30,
     "metadata": {},
     "output_type": "execute_result"
    }
   ],
   "source": [
    "nltk.download('omw-1.4')"
   ]
  },
  {
   "cell_type": "code",
   "execution_count": 31,
   "id": "31b0092c-3e53-4f51-9ffc-67fb848e5979",
   "metadata": {},
   "outputs": [
    {
     "name": "stderr",
     "output_type": "stream",
     "text": [
      "[nltk_data] Downloading package wordnet to\n",
      "[nltk_data]     /Users/lubicasimkovicova/nltk_data...\n",
      "[nltk_data]   Package wordnet is already up-to-date!\n"
     ]
    },
    {
     "data": {
      "text/plain": [
       "True"
      ]
     },
     "execution_count": 31,
     "metadata": {},
     "output_type": "execute_result"
    }
   ],
   "source": [
    "nltk.download('wordnet')"
   ]
  },
  {
   "cell_type": "code",
   "execution_count": 32,
   "id": "13c82161",
   "metadata": {},
   "outputs": [],
   "source": [
    "for i in range(len(data_wordslem)):\n",
    "    for j in range(len(data_wordslem[i])):\n",
    "        data_wordslem[i][j] = lemmatizer.lemmatize(data_wordslem[i][j],pos=\"v\")"
   ]
  },
  {
   "cell_type": "code",
   "execution_count": 33,
   "id": "b43365b3",
   "metadata": {
    "scrolled": true
   },
   "outputs": [
    {
     "name": "stdout",
     "output_type": "stream",
     "text": [
      "['ne farkınız var dais elkaide el nusra ypg pkkdan hepsine silah veriyorsunuz', 'way show louisiana', 'white house take tax avoid seriously apple disgust appletax', 'politico realdonaldtrump hillaryclinton pledge pause campaign getty', 'shes due days']\n"
     ]
    }
   ],
   "source": [
    "data = []\n",
    "for i in range(len(data_wordslem)):\n",
    "    data.append(detokenize(data_wordslem[i]))\n",
    "print(data[:5])"
   ]
  },
  {
   "cell_type": "code",
   "execution_count": 34,
   "id": "2ff21f89",
   "metadata": {
    "scrolled": true
   },
   "outputs": [
    {
     "name": "stdout",
     "output_type": "stream",
     "text": [
      "['ne farkınız var dais elkaide el nusra ypg pkkdan hepsine silah veriyorsunuz', 'way show louisiana', 'white house take tax avoid seriously apple disgust appletax', 'politico realdonaldtrump hillaryclinton pledge pause campaign getty', 'shes due days', 'eight jamaicans select young leaders initiative jaminate', 'report result election day poll dont mean anything election corrupt liar', 'barackobama obama obama commute sentence federal prisoners president barac uniteblue tcot', 'assbastard', 'trumpsters fool', 'see vote sez hillary care money power andhillary', 'let sck ur ldo look top tweet wh re', 'baldasaro guess call murder upside', 'es es oea', 'comics lie like democrat never refuse need put rush irs', 'keep real', 'rt rocknkarma realdonaldtrump fit president congratulations clean bill health hillaryclinton hide', 'clinton trump sorry sorry', 'trumptrain', 'senate leaders job do join thousands remind via', 'get five buck trump tweet something stupid anway', 'dont', 'trump ideal sex slave', 'trump asshole taste like must love', 'love', 'surrogate apology tweetg cartoon clinton blackface apology necessary burn right', 'prolife', 'old man better take note wc felds find loophole booooo takers self mind think life', 'wrong', 'say whaaaaat', 'keep real', 'rt rocknkarma realdonaldtrump fit president congratulations clean bill health hillaryclinton hide', 'nra teaparty congress lol', 'exactly', 'grand marshall israeli parade mean know israel right', 'want really dont think ability', 'senate leaders job do join thousands remind via', 'prayers important speech tomorrow', 'half breed ok let', 'hrc landslide fukin nazi scumbag', 'dumb youre allow lose credibility horrible piece dumb', 'jfc', 'maye', 'es sera por siempre la peor desgracia', 'usted lo da es verguenza obama preocupese esos gente color estan asecinando esos policias son su color', 'since question veracity last quote truth margaret sanger', 'vote', 'browno ey sure pal sort en', 'unreal omg rapeculture simply cannot believe sitroom stoptrump', 'concise precise']\n"
     ]
    }
   ],
   "source": [
    "print(data[:50])"
   ]
  },
  {
   "cell_type": "code",
   "execution_count": 35,
   "id": "0f0fde15",
   "metadata": {},
   "outputs": [
    {
     "data": {
      "text/html": [
       "<div>\n",
       "<style scoped>\n",
       "    .dataframe tbody tr th:only-of-type {\n",
       "        vertical-align: middle;\n",
       "    }\n",
       "\n",
       "    .dataframe tbody tr th {\n",
       "        vertical-align: top;\n",
       "    }\n",
       "\n",
       "    .dataframe thead th {\n",
       "        text-align: right;\n",
       "    }\n",
       "</style>\n",
       "<table border=\"1\" class=\"dataframe\">\n",
       "  <thead>\n",
       "    <tr style=\"text-align: right;\">\n",
       "      <th></th>\n",
       "      <th>candidate_id</th>\n",
       "      <th>tweet_text</th>\n",
       "      <th>created_at</th>\n",
       "    </tr>\n",
       "  </thead>\n",
       "  <tbody>\n",
       "    <tr>\n",
       "      <th>0</th>\n",
       "      <td>3</td>\n",
       "      <td>ne farkınız var daiş elkaide el nusra ypg pkkd...</td>\n",
       "      <td>2016-08-30T21:03:29</td>\n",
       "    </tr>\n",
       "    <tr>\n",
       "      <th>1</th>\n",
       "      <td>3</td>\n",
       "      <td>way showed louisiana</td>\n",
       "      <td>2016-08-30T21:06:28</td>\n",
       "    </tr>\n",
       "    <tr>\n",
       "      <th>2</th>\n",
       "      <td>3</td>\n",
       "      <td>white house taking tax avoid seriously apple d...</td>\n",
       "      <td>2016-08-30T21:09:06</td>\n",
       "    </tr>\n",
       "    <tr>\n",
       "      <th>3</th>\n",
       "      <td>2</td>\n",
       "      <td>politico realdonaldtrump hillaryclinton pledge...</td>\n",
       "      <td>2016-08-30T22:20:26</td>\n",
       "    </tr>\n",
       "    <tr>\n",
       "      <th>4</th>\n",
       "      <td>1</td>\n",
       "      <td>shes due 250 days</td>\n",
       "      <td>2016-08-30T22:20:33</td>\n",
       "    </tr>\n",
       "  </tbody>\n",
       "</table>\n",
       "</div>"
      ],
      "text/plain": [
       "   candidate_id                                         tweet_text  \\\n",
       "0             3  ne farkınız var daiş elkaide el nusra ypg pkkd...   \n",
       "1             3                               way showed louisiana   \n",
       "2             3  white house taking tax avoid seriously apple d...   \n",
       "3             2  politico realdonaldtrump hillaryclinton pledge...   \n",
       "4             1                                  shes due 250 days   \n",
       "\n",
       "            created_at  \n",
       "0  2016-08-30T21:03:29  \n",
       "1  2016-08-30T21:06:28  \n",
       "2  2016-08-30T21:09:06  \n",
       "3  2016-08-30T22:20:26  \n",
       "4  2016-08-30T22:20:33  "
      ]
     },
     "execution_count": 35,
     "metadata": {},
     "output_type": "execute_result"
    }
   ],
   "source": [
    "df.head()"
   ]
  },
  {
   "cell_type": "code",
   "execution_count": 36,
   "id": "91be6a5e",
   "metadata": {
    "scrolled": true
   },
   "outputs": [
    {
     "name": "stderr",
     "output_type": "stream",
     "text": [
      "/var/folders/f3/mm9q96zs15z04wqzkzssq_k80000gn/T/ipykernel_3840/3539159861.py:2: SettingWithCopyWarning: \n",
      "A value is trying to be set on a copy of a slice from a DataFrame.\n",
      "Try using .loc[row_indexer,col_indexer] = value instead\n",
      "\n",
      "See the caveats in the documentation: https://pandas.pydata.org/pandas-docs/stable/user_guide/indexing.html#returning-a-view-versus-a-copy\n",
      "  df[\"data\"] = data\n"
     ]
    },
    {
     "data": {
      "text/html": [
       "<div>\n",
       "<style scoped>\n",
       "    .dataframe tbody tr th:only-of-type {\n",
       "        vertical-align: middle;\n",
       "    }\n",
       "\n",
       "    .dataframe tbody tr th {\n",
       "        vertical-align: top;\n",
       "    }\n",
       "\n",
       "    .dataframe thead th {\n",
       "        text-align: right;\n",
       "    }\n",
       "</style>\n",
       "<table border=\"1\" class=\"dataframe\">\n",
       "  <thead>\n",
       "    <tr style=\"text-align: right;\">\n",
       "      <th></th>\n",
       "      <th>candidate_id</th>\n",
       "      <th>tweet_text</th>\n",
       "      <th>created_at</th>\n",
       "      <th>data</th>\n",
       "    </tr>\n",
       "  </thead>\n",
       "  <tbody>\n",
       "    <tr>\n",
       "      <th>0</th>\n",
       "      <td>3</td>\n",
       "      <td>ne farkınız var daiş elkaide el nusra ypg pkkd...</td>\n",
       "      <td>2016-08-30T21:03:29</td>\n",
       "      <td>ne farkınız var dais elkaide el nusra ypg pkkd...</td>\n",
       "    </tr>\n",
       "    <tr>\n",
       "      <th>1</th>\n",
       "      <td>3</td>\n",
       "      <td>way showed louisiana</td>\n",
       "      <td>2016-08-30T21:06:28</td>\n",
       "      <td>way show louisiana</td>\n",
       "    </tr>\n",
       "    <tr>\n",
       "      <th>2</th>\n",
       "      <td>3</td>\n",
       "      <td>white house taking tax avoid seriously apple d...</td>\n",
       "      <td>2016-08-30T21:09:06</td>\n",
       "      <td>white house take tax avoid seriously apple dis...</td>\n",
       "    </tr>\n",
       "    <tr>\n",
       "      <th>3</th>\n",
       "      <td>2</td>\n",
       "      <td>politico realdonaldtrump hillaryclinton pledge...</td>\n",
       "      <td>2016-08-30T22:20:26</td>\n",
       "      <td>politico realdonaldtrump hillaryclinton pledge...</td>\n",
       "    </tr>\n",
       "    <tr>\n",
       "      <th>4</th>\n",
       "      <td>1</td>\n",
       "      <td>shes due 250 days</td>\n",
       "      <td>2016-08-30T22:20:33</td>\n",
       "      <td>shes due days</td>\n",
       "    </tr>\n",
       "    <tr>\n",
       "      <th>...</th>\n",
       "      <td>...</td>\n",
       "      <td>...</td>\n",
       "      <td>...</td>\n",
       "      <td>...</td>\n",
       "    </tr>\n",
       "    <tr>\n",
       "      <th>99995</th>\n",
       "      <td>2</td>\n",
       "      <td></td>\n",
       "      <td>2016-09-01T20:46:31</td>\n",
       "      <td></td>\n",
       "    </tr>\n",
       "    <tr>\n",
       "      <th>99996</th>\n",
       "      <td>2</td>\n",
       "      <td>at least hes on record denying all russian in...</td>\n",
       "      <td>2017-02-17T12:48:13</td>\n",
       "      <td>at least hes on record deny all russian involv...</td>\n",
       "    </tr>\n",
       "    <tr>\n",
       "      <th>99997</th>\n",
       "      <td>2</td>\n",
       "      <td>youre not helping yourself 😂</td>\n",
       "      <td>2017-02-17T12:48:23</td>\n",
       "      <td>youre not help yourself</td>\n",
       "    </tr>\n",
       "    <tr>\n",
       "      <th>99998</th>\n",
       "      <td>2</td>\n",
       "      <td>great</td>\n",
       "      <td>2017-02-17T12:48:29</td>\n",
       "      <td>great</td>\n",
       "    </tr>\n",
       "    <tr>\n",
       "      <th>99999</th>\n",
       "      <td>2</td>\n",
       "      <td>they are not out to get you</td>\n",
       "      <td>2017-02-17T12:48:31</td>\n",
       "      <td>they be not out to get you</td>\n",
       "    </tr>\n",
       "  </tbody>\n",
       "</table>\n",
       "<p>55393 rows × 4 columns</p>\n",
       "</div>"
      ],
      "text/plain": [
       "       candidate_id                                         tweet_text  \\\n",
       "0                 3  ne farkınız var daiş elkaide el nusra ypg pkkd...   \n",
       "1                 3                               way showed louisiana   \n",
       "2                 3  white house taking tax avoid seriously apple d...   \n",
       "3                 2  politico realdonaldtrump hillaryclinton pledge...   \n",
       "4                 1                                  shes due 250 days   \n",
       "...             ...                                                ...   \n",
       "99995             2                                                      \n",
       "99996             2   at least hes on record denying all russian in...   \n",
       "99997             2                       youre not helping yourself 😂   \n",
       "99998             2                                              great   \n",
       "99999             2                        they are not out to get you   \n",
       "\n",
       "                created_at                                               data  \n",
       "0      2016-08-30T21:03:29  ne farkınız var dais elkaide el nusra ypg pkkd...  \n",
       "1      2016-08-30T21:06:28                                 way show louisiana  \n",
       "2      2016-08-30T21:09:06  white house take tax avoid seriously apple dis...  \n",
       "3      2016-08-30T22:20:26  politico realdonaldtrump hillaryclinton pledge...  \n",
       "4      2016-08-30T22:20:33                                      shes due days  \n",
       "...                    ...                                                ...  \n",
       "99995  2016-09-01T20:46:31                                                     \n",
       "99996  2017-02-17T12:48:13  at least hes on record deny all russian involv...  \n",
       "99997  2017-02-17T12:48:23                            youre not help yourself  \n",
       "99998  2017-02-17T12:48:29                                              great  \n",
       "99999  2017-02-17T12:48:31                         they be not out to get you  \n",
       "\n",
       "[55393 rows x 4 columns]"
      ]
     },
     "execution_count": 36,
     "metadata": {},
     "output_type": "execute_result"
    }
   ],
   "source": [
    "# add new cleaned column to dataframe\n",
    "df[\"data\"] = data\n",
    "df"
   ]
  },
  {
   "cell_type": "code",
   "execution_count": 37,
   "id": "b590540b",
   "metadata": {},
   "outputs": [
    {
     "name": "stdout",
     "output_type": "stream",
     "text": [
      "[[   0    0    0 ...    0 2068  237]\n",
      " [   0    0    0 ...  144  123 1621]\n",
      " [   0    0    0 ...  625 1823  737]\n",
      " ...\n",
      " [   0    0    0 ...   16  131  308]\n",
      " [   0    0    0 ...    0    0   77]\n",
      " [   0    0    0 ...    3   22    4]]\n"
     ]
    }
   ],
   "source": [
    "max_words = 5000\n",
    "max_len = 200\n",
    "\n",
    "tokenizer = Tokenizer(num_words=max_words)\n",
    "tokenizer.fit_on_texts(data)\n",
    "sequences = tokenizer.texts_to_sequences(data)\n",
    "tweets = pad_sequences(sequences, maxlen=max_len)\n",
    "print(tweets)"
   ]
  },
  {
   "cell_type": "code",
   "execution_count": 38,
   "id": "604ce27e",
   "metadata": {},
   "outputs": [
    {
     "data": {
      "text/plain": [
       "(55393, 4)"
      ]
     },
     "execution_count": 38,
     "metadata": {},
     "output_type": "execute_result"
    }
   ],
   "source": [
    "df.shape"
   ]
  },
  {
   "cell_type": "code",
   "execution_count": 39,
   "id": "967cdb58",
   "metadata": {},
   "outputs": [],
   "source": [
    "sentiment = ['Neutral','Negative','Positive']"
   ]
  },
  {
   "cell_type": "code",
   "execution_count": 40,
   "id": "7e701448",
   "metadata": {},
   "outputs": [
    {
     "name": "stdout",
     "output_type": "stream",
     "text": [
      "1/1 [==============================] - 0s 259ms/step\n"
     ]
    },
    {
     "data": {
      "text/plain": [
       "'Positive'"
      ]
     },
     "execution_count": 40,
     "metadata": {},
     "output_type": "execute_result"
    }
   ],
   "source": [
    "sequence = tokenizer.texts_to_sequences(['I go to gym daily'])\n",
    "test = pad_sequences(sequence, maxlen=max_len)\n",
    "sentiment[np.around(loaded_model.predict(test), decimals=0).argmax(axis=1)[0]]"
   ]
  },
  {
   "cell_type": "code",
   "execution_count": 41,
   "id": "81198326-4bad-4234-81d4-2083e86e3bea",
   "metadata": {},
   "outputs": [],
   "source": [
    "def sentiment_analysis2(data):\n",
    "    sentiment_storage = []\n",
    "    for d in data:\n",
    "        sequence = tokenizer.texts_to_sequences([d])        \n",
    "        test = pad_sequences(sequence, maxlen=max_len)\n",
    "        prediction = loaded_model.predict(test, verbose=0)\n",
    "        sentiment_label = sentiment[np.argmax(prediction)]\n",
    "        sentiment_storage.append(sentiment_label)\n",
    "\n",
    "    return sentiment_storage"
   ]
  },
  {
   "cell_type": "code",
   "execution_count": 42,
   "id": "b7c230c5",
   "metadata": {},
   "outputs": [],
   "source": [
    "# filter by candidates - select only Donald Trump and Hillary Clinton\n",
    "\n",
    "# Hillary Clinton\n",
    "HC = df[df[\"candidate_id\"] == 1]\n",
    "\n",
    "# Donald Trump\n",
    "DT = df[df[\"candidate_id\"] == 2]"
   ]
  },
  {
   "cell_type": "code",
   "execution_count": 43,
   "id": "ac617cc6",
   "metadata": {
    "scrolled": true
   },
   "outputs": [
    {
     "data": {
      "text/html": [
       "<div>\n",
       "<style scoped>\n",
       "    .dataframe tbody tr th:only-of-type {\n",
       "        vertical-align: middle;\n",
       "    }\n",
       "\n",
       "    .dataframe tbody tr th {\n",
       "        vertical-align: top;\n",
       "    }\n",
       "\n",
       "    .dataframe thead th {\n",
       "        text-align: right;\n",
       "    }\n",
       "</style>\n",
       "<table border=\"1\" class=\"dataframe\">\n",
       "  <thead>\n",
       "    <tr style=\"text-align: right;\">\n",
       "      <th></th>\n",
       "      <th>candidate_id</th>\n",
       "      <th>tweet_text</th>\n",
       "      <th>created_at</th>\n",
       "      <th>data</th>\n",
       "    </tr>\n",
       "  </thead>\n",
       "  <tbody>\n",
       "    <tr>\n",
       "      <th>3</th>\n",
       "      <td>2</td>\n",
       "      <td>politico realdonaldtrump hillaryclinton pledge...</td>\n",
       "      <td>2016-08-30T22:20:26</td>\n",
       "      <td>politico realdonaldtrump hillaryclinton pledge...</td>\n",
       "    </tr>\n",
       "    <tr>\n",
       "      <th>10</th>\n",
       "      <td>2</td>\n",
       "      <td>assbastard 😂😂</td>\n",
       "      <td>2016-08-30T22:21:22</td>\n",
       "      <td>assbastard</td>\n",
       "    </tr>\n",
       "    <tr>\n",
       "      <th>12</th>\n",
       "      <td>2</td>\n",
       "      <td>trumpsters fools</td>\n",
       "      <td>2016-08-30T22:21:41</td>\n",
       "      <td>trumpsters fool</td>\n",
       "    </tr>\n",
       "    <tr>\n",
       "      <th>17</th>\n",
       "      <td>2</td>\n",
       "      <td>let sck ur d1ldo 👏 😘 look top tweet wh0re</td>\n",
       "      <td>2016-08-30T22:22:23</td>\n",
       "      <td>let sck ur ldo look top tweet wh re</td>\n",
       "    </tr>\n",
       "    <tr>\n",
       "      <th>20</th>\n",
       "      <td>2</td>\n",
       "      <td>comics lie like democrat never refused need pu...</td>\n",
       "      <td>2016-08-30T22:22:46</td>\n",
       "      <td>comics lie like democrat never refuse need put...</td>\n",
       "    </tr>\n",
       "    <tr>\n",
       "      <th>24</th>\n",
       "      <td>2</td>\n",
       "      <td>035 keeps real</td>\n",
       "      <td>2016-08-30T22:23:20</td>\n",
       "      <td>keep real</td>\n",
       "    </tr>\n",
       "    <tr>\n",
       "      <th>26</th>\n",
       "      <td>2</td>\n",
       "      <td>clinton trump sorry sorry</td>\n",
       "      <td>2016-08-30T22:23:34</td>\n",
       "      <td>clinton trump sorry sorry</td>\n",
       "    </tr>\n",
       "    <tr>\n",
       "      <th>28</th>\n",
       "      <td>2</td>\n",
       "      <td>werenotgonnatakeitanymore trumptrain makeameri...</td>\n",
       "      <td>2016-08-30T22:23:47</td>\n",
       "      <td>trumptrain</td>\n",
       "    </tr>\n",
       "    <tr>\n",
       "      <th>30</th>\n",
       "      <td>2</td>\n",
       "      <td>got five bucks trump tweets something stupid a...</td>\n",
       "      <td>2016-08-30T22:23:59</td>\n",
       "      <td>get five buck trump tweet something stupid anway</td>\n",
       "    </tr>\n",
       "    <tr>\n",
       "      <th>46</th>\n",
       "      <td>2</td>\n",
       "      <td>trumps ideal sex slave</td>\n",
       "      <td>2016-08-30T22:20:33</td>\n",
       "      <td>trump ideal sex slave</td>\n",
       "    </tr>\n",
       "    <tr>\n",
       "      <th>51</th>\n",
       "      <td>2</td>\n",
       "      <td>trumps asshole taste like must love</td>\n",
       "      <td>2016-08-30T22:21:13</td>\n",
       "      <td>trump asshole taste like must love</td>\n",
       "    </tr>\n",
       "    <tr>\n",
       "      <th>59</th>\n",
       "      <td>2</td>\n",
       "      <td>wrong</td>\n",
       "      <td>2016-08-30T22:22:23</td>\n",
       "      <td>wrong</td>\n",
       "    </tr>\n",
       "    <tr>\n",
       "      <th>67</th>\n",
       "      <td>2</td>\n",
       "      <td>rt rocknkarma realdonaldtrump fit president co...</td>\n",
       "      <td>2016-08-30T22:23:27</td>\n",
       "      <td>rt rocknkarma realdonaldtrump fit president co...</td>\n",
       "    </tr>\n",
       "    <tr>\n",
       "      <th>69</th>\n",
       "      <td>2</td>\n",
       "      <td>exactly</td>\n",
       "      <td>2016-08-30T22:23:41</td>\n",
       "      <td>exactly</td>\n",
       "    </tr>\n",
       "    <tr>\n",
       "      <th>70</th>\n",
       "      <td>2</td>\n",
       "      <td>grand marshall israeli parade means knows isra...</td>\n",
       "      <td>2016-08-30T22:23:47</td>\n",
       "      <td>grand marshall israeli parade mean know israel...</td>\n",
       "    </tr>\n",
       "  </tbody>\n",
       "</table>\n",
       "</div>"
      ],
      "text/plain": [
       "    candidate_id                                         tweet_text  \\\n",
       "3              2  politico realdonaldtrump hillaryclinton pledge...   \n",
       "10             2                                      assbastard 😂😂   \n",
       "12             2                                   trumpsters fools   \n",
       "17             2          let sck ur d1ldo 👏 😘 look top tweet wh0re   \n",
       "20             2  comics lie like democrat never refused need pu...   \n",
       "24             2                                     035 keeps real   \n",
       "26             2                          clinton trump sorry sorry   \n",
       "28             2  werenotgonnatakeitanymore trumptrain makeameri...   \n",
       "30             2  got five bucks trump tweets something stupid a...   \n",
       "46             2                             trumps ideal sex slave   \n",
       "51             2                trumps asshole taste like must love   \n",
       "59             2                                              wrong   \n",
       "67             2  rt rocknkarma realdonaldtrump fit president co...   \n",
       "69             2                                            exactly   \n",
       "70             2  grand marshall israeli parade means knows isra...   \n",
       "\n",
       "             created_at                                               data  \n",
       "3   2016-08-30T22:20:26  politico realdonaldtrump hillaryclinton pledge...  \n",
       "10  2016-08-30T22:21:22                                         assbastard  \n",
       "12  2016-08-30T22:21:41                                    trumpsters fool  \n",
       "17  2016-08-30T22:22:23                let sck ur ldo look top tweet wh re  \n",
       "20  2016-08-30T22:22:46  comics lie like democrat never refuse need put...  \n",
       "24  2016-08-30T22:23:20                                          keep real  \n",
       "26  2016-08-30T22:23:34                          clinton trump sorry sorry  \n",
       "28  2016-08-30T22:23:47                                         trumptrain  \n",
       "30  2016-08-30T22:23:59   get five buck trump tweet something stupid anway  \n",
       "46  2016-08-30T22:20:33                              trump ideal sex slave  \n",
       "51  2016-08-30T22:21:13                 trump asshole taste like must love  \n",
       "59  2016-08-30T22:22:23                                              wrong  \n",
       "67  2016-08-30T22:23:27  rt rocknkarma realdonaldtrump fit president co...  \n",
       "69  2016-08-30T22:23:41                                            exactly  \n",
       "70  2016-08-30T22:23:47  grand marshall israeli parade mean know israel...  "
      ]
     },
     "execution_count": 43,
     "metadata": {},
     "output_type": "execute_result"
    }
   ],
   "source": [
    "DT.head(15)"
   ]
  },
  {
   "cell_type": "code",
   "execution_count": 44,
   "id": "9081d992",
   "metadata": {},
   "outputs": [
    {
     "data": {
      "text/plain": [
       "(14290, 4)"
      ]
     },
     "execution_count": 44,
     "metadata": {},
     "output_type": "execute_result"
    }
   ],
   "source": [
    "HC.shape"
   ]
  },
  {
   "cell_type": "code",
   "execution_count": 45,
   "id": "4681c05a",
   "metadata": {},
   "outputs": [
    {
     "data": {
      "text/plain": [
       "(36712, 4)"
      ]
     },
     "execution_count": 45,
     "metadata": {},
     "output_type": "execute_result"
    }
   ],
   "source": [
    "DT.shape"
   ]
  },
  {
   "cell_type": "code",
   "execution_count": 46,
   "id": "6b1862b6-a375-4160-8973-54e01e2f9912",
   "metadata": {},
   "outputs": [
    {
     "data": {
      "text/html": [
       "<div>\n",
       "<style scoped>\n",
       "    .dataframe tbody tr th:only-of-type {\n",
       "        vertical-align: middle;\n",
       "    }\n",
       "\n",
       "    .dataframe tbody tr th {\n",
       "        vertical-align: top;\n",
       "    }\n",
       "\n",
       "    .dataframe thead th {\n",
       "        text-align: right;\n",
       "    }\n",
       "</style>\n",
       "<table border=\"1\" class=\"dataframe\">\n",
       "  <thead>\n",
       "    <tr style=\"text-align: right;\">\n",
       "      <th></th>\n",
       "      <th>candidate_id</th>\n",
       "      <th>tweet_text</th>\n",
       "      <th>created_at</th>\n",
       "      <th>data</th>\n",
       "    </tr>\n",
       "  </thead>\n",
       "  <tbody>\n",
       "    <tr>\n",
       "      <th>4</th>\n",
       "      <td>1</td>\n",
       "      <td>shes due 250 days</td>\n",
       "      <td>2016-08-30T22:20:33</td>\n",
       "      <td>shes due days</td>\n",
       "    </tr>\n",
       "    <tr>\n",
       "      <th>7</th>\n",
       "      <td>1</td>\n",
       "      <td>report results election day polls dont mean an...</td>\n",
       "      <td>2016-08-30T22:20:58</td>\n",
       "      <td>report result election day poll dont mean anyt...</td>\n",
       "    </tr>\n",
       "    <tr>\n",
       "      <th>13</th>\n",
       "      <td>1</td>\n",
       "      <td>see votes sez hillary cares money power andhil...</td>\n",
       "      <td>2016-08-30T22:21:49</td>\n",
       "      <td>see vote sez hillary care money power andhillary</td>\n",
       "    </tr>\n",
       "    <tr>\n",
       "      <th>18</th>\n",
       "      <td>1</td>\n",
       "      <td>baldasaro guess calling murder upside 😬</td>\n",
       "      <td>2016-08-30T22:22:31</td>\n",
       "      <td>baldasaro guess call murder upside</td>\n",
       "    </tr>\n",
       "    <tr>\n",
       "      <th>25</th>\n",
       "      <td>1</td>\n",
       "      <td>rt rocknkarma realdonaldtrump fit president co...</td>\n",
       "      <td>2016-08-30T22:23:27</td>\n",
       "      <td>rt rocknkarma realdonaldtrump fit president co...</td>\n",
       "    </tr>\n",
       "    <tr>\n",
       "      <th>52</th>\n",
       "      <td>1</td>\n",
       "      <td>love x 1k</td>\n",
       "      <td>2016-08-30T22:21:22</td>\n",
       "      <td>love</td>\n",
       "    </tr>\n",
       "    <tr>\n",
       "      <th>54</th>\n",
       "      <td>1</td>\n",
       "      <td>surrogate apology 4 tweetg cartoon clinton bla...</td>\n",
       "      <td>2016-08-30T22:21:41</td>\n",
       "      <td>surrogate apology tweetg cartoon clinton black...</td>\n",
       "    </tr>\n",
       "    <tr>\n",
       "      <th>56</th>\n",
       "      <td>1</td>\n",
       "      <td>prolife</td>\n",
       "      <td>2016-08-30T22:21:58</td>\n",
       "      <td>prolife</td>\n",
       "    </tr>\n",
       "    <tr>\n",
       "      <th>58</th>\n",
       "      <td>1</td>\n",
       "      <td>old man better take note wc felds find loophol...</td>\n",
       "      <td>2016-08-30T22:22:12</td>\n",
       "      <td>old man better take note wc felds find loophol...</td>\n",
       "    </tr>\n",
       "    <tr>\n",
       "      <th>62</th>\n",
       "      <td>1</td>\n",
       "      <td>say whaaaaat</td>\n",
       "      <td>2016-08-30T22:22:46</td>\n",
       "      <td>say whaaaaat</td>\n",
       "    </tr>\n",
       "  </tbody>\n",
       "</table>\n",
       "</div>"
      ],
      "text/plain": [
       "    candidate_id                                         tweet_text  \\\n",
       "4              1                                  shes due 250 days   \n",
       "7              1  report results election day polls dont mean an...   \n",
       "13             1  see votes sez hillary cares money power andhil...   \n",
       "18             1            baldasaro guess calling murder upside 😬   \n",
       "25             1  rt rocknkarma realdonaldtrump fit president co...   \n",
       "52             1                                          love x 1k   \n",
       "54             1  surrogate apology 4 tweetg cartoon clinton bla...   \n",
       "56             1                                            prolife   \n",
       "58             1  old man better take note wc felds find loophol...   \n",
       "62             1                                       say whaaaaat   \n",
       "\n",
       "             created_at                                               data  \n",
       "4   2016-08-30T22:20:33                                      shes due days  \n",
       "7   2016-08-30T22:20:58  report result election day poll dont mean anyt...  \n",
       "13  2016-08-30T22:21:49   see vote sez hillary care money power andhillary  \n",
       "18  2016-08-30T22:22:31                 baldasaro guess call murder upside  \n",
       "25  2016-08-30T22:23:27  rt rocknkarma realdonaldtrump fit president co...  \n",
       "52  2016-08-30T22:21:22                                               love  \n",
       "54  2016-08-30T22:21:41  surrogate apology tweetg cartoon clinton black...  \n",
       "56  2016-08-30T22:21:58                                            prolife  \n",
       "58  2016-08-30T22:22:12  old man better take note wc felds find loophol...  \n",
       "62  2016-08-30T22:22:46                                       say whaaaaat  "
      ]
     },
     "execution_count": 46,
     "metadata": {},
     "output_type": "execute_result"
    }
   ],
   "source": [
    "HC.head(10)"
   ]
  },
  {
   "cell_type": "code",
   "execution_count": 47,
   "id": "43702deb",
   "metadata": {
    "scrolled": true
   },
   "outputs": [],
   "source": [
    "# This took a very long time (45min - 1hr). It predicted the sentiment of each\n",
    "# of the approximately 6600 Twitter posts.\n",
    "\n",
    "#predicted_sentiment_hillary = sentiment_analysis2(HC[\"data\"])"
   ]
  },
  {
   "cell_type": "code",
   "execution_count": 48,
   "id": "dc9e8959-50da-49a2-8f9d-bd0174e820b4",
   "metadata": {},
   "outputs": [
    {
     "name": "stderr",
     "output_type": "stream",
     "text": [
      "/var/folders/f3/mm9q96zs15z04wqzkzssq_k80000gn/T/ipykernel_3840/2838040925.py:1: SettingWithCopyWarning: \n",
      "A value is trying to be set on a copy of a slice from a DataFrame.\n",
      "Try using .loc[row_indexer,col_indexer] = value instead\n",
      "\n",
      "See the caveats in the documentation: https://pandas.pydata.org/pandas-docs/stable/user_guide/indexing.html#returning-a-view-versus-a-copy\n",
      "  HC.loc[:, \"predicted_hillary\"] = predicted_sentiment_hillary\n"
     ]
    }
   ],
   "source": [
    "#HC.loc[:, \"predicted_hillary\"] = predicted_sentiment_hillary"
   ]
  },
  {
   "cell_type": "code",
   "execution_count": 49,
   "id": "0672b6cc-d856-4f42-a3f8-dca0093aea52",
   "metadata": {
    "scrolled": true
   },
   "outputs": [
    {
     "data": {
      "text/html": [
       "<div>\n",
       "<style scoped>\n",
       "    .dataframe tbody tr th:only-of-type {\n",
       "        vertical-align: middle;\n",
       "    }\n",
       "\n",
       "    .dataframe tbody tr th {\n",
       "        vertical-align: top;\n",
       "    }\n",
       "\n",
       "    .dataframe thead th {\n",
       "        text-align: right;\n",
       "    }\n",
       "</style>\n",
       "<table border=\"1\" class=\"dataframe\">\n",
       "  <thead>\n",
       "    <tr style=\"text-align: right;\">\n",
       "      <th></th>\n",
       "      <th>candidate_id</th>\n",
       "      <th>tweet_text</th>\n",
       "      <th>created_at</th>\n",
       "      <th>data</th>\n",
       "      <th>predicted_hillary</th>\n",
       "    </tr>\n",
       "  </thead>\n",
       "  <tbody>\n",
       "    <tr>\n",
       "      <th>4</th>\n",
       "      <td>1</td>\n",
       "      <td>shes due 250 days</td>\n",
       "      <td>2016-08-30T22:20:33</td>\n",
       "      <td>shes due days</td>\n",
       "      <td>Negative</td>\n",
       "    </tr>\n",
       "    <tr>\n",
       "      <th>7</th>\n",
       "      <td>1</td>\n",
       "      <td>report results election day polls dont mean an...</td>\n",
       "      <td>2016-08-30T22:20:58</td>\n",
       "      <td>report result election day poll dont mean anyt...</td>\n",
       "      <td>Neutral</td>\n",
       "    </tr>\n",
       "    <tr>\n",
       "      <th>13</th>\n",
       "      <td>1</td>\n",
       "      <td>see votes sez hillary cares money power andhil...</td>\n",
       "      <td>2016-08-30T22:21:49</td>\n",
       "      <td>see vote sez hillary care money power andhillary</td>\n",
       "      <td>Positive</td>\n",
       "    </tr>\n",
       "    <tr>\n",
       "      <th>18</th>\n",
       "      <td>1</td>\n",
       "      <td>baldasaro guess calling murder upside 😬</td>\n",
       "      <td>2016-08-30T22:22:31</td>\n",
       "      <td>baldasaro guess call murder upside</td>\n",
       "      <td>Negative</td>\n",
       "    </tr>\n",
       "    <tr>\n",
       "      <th>25</th>\n",
       "      <td>1</td>\n",
       "      <td>rt rocknkarma realdonaldtrump fit president co...</td>\n",
       "      <td>2016-08-30T22:23:27</td>\n",
       "      <td>rt rocknkarma realdonaldtrump fit president co...</td>\n",
       "      <td>Neutral</td>\n",
       "    </tr>\n",
       "  </tbody>\n",
       "</table>\n",
       "</div>"
      ],
      "text/plain": [
       "    candidate_id                                         tweet_text  \\\n",
       "4              1                                  shes due 250 days   \n",
       "7              1  report results election day polls dont mean an...   \n",
       "13             1  see votes sez hillary cares money power andhil...   \n",
       "18             1            baldasaro guess calling murder upside 😬   \n",
       "25             1  rt rocknkarma realdonaldtrump fit president co...   \n",
       "\n",
       "             created_at                                               data  \\\n",
       "4   2016-08-30T22:20:33                                      shes due days   \n",
       "7   2016-08-30T22:20:58  report result election day poll dont mean anyt...   \n",
       "13  2016-08-30T22:21:49   see vote sez hillary care money power andhillary   \n",
       "18  2016-08-30T22:22:31                 baldasaro guess call murder upside   \n",
       "25  2016-08-30T22:23:27  rt rocknkarma realdonaldtrump fit president co...   \n",
       "\n",
       "   predicted_hillary  \n",
       "4           Negative  \n",
       "7            Neutral  \n",
       "13          Positive  \n",
       "18          Negative  \n",
       "25           Neutral  "
      ]
     },
     "execution_count": 49,
     "metadata": {},
     "output_type": "execute_result"
    }
   ],
   "source": [
    "HC.head()"
   ]
  },
  {
   "cell_type": "code",
   "execution_count": 50,
   "id": "0e48044b-83a2-417c-9ab8-5160765815a6",
   "metadata": {
    "scrolled": true
   },
   "outputs": [],
   "source": [
    "predicted_sentiment_trump = sentiment_analysis2(DT[\"data\"][:1000])"
   ]
  },
  {
   "cell_type": "code",
   "execution_count": 51,
   "id": "09df7336",
   "metadata": {},
   "outputs": [],
   "source": [
    "predicted_sentiment_trump2 = sentiment_analysis2(DT[\"data\"][1000:2000])"
   ]
  },
  {
   "cell_type": "code",
   "execution_count": 52,
   "id": "a0952f7f-4b42-43c8-9dc2-14127b2c952a",
   "metadata": {},
   "outputs": [],
   "source": [
    "predicted_sentiment_trump3 = sentiment_analysis2(DT[\"data\"][2000:3000])"
   ]
  },
  {
   "cell_type": "code",
   "execution_count": 54,
   "id": "2bb4a056-f472-41ae-83e5-c2d87faaca68",
   "metadata": {},
   "outputs": [],
   "source": [
    "predicted_sentiment_trump4 = sentiment_analysis2(DT[\"data\"][3000:4000])"
   ]
  },
  {
   "cell_type": "code",
   "execution_count": 55,
   "id": "2cf0e5eb-d2f5-4e9e-8ed8-ab128f76ba7a",
   "metadata": {},
   "outputs": [],
   "source": [
    "predicted_sentiment_trump5 = sentiment_analysis2(DT[\"data\"][4000:6000])"
   ]
  },
  {
   "cell_type": "code",
   "execution_count": 56,
   "id": "e63b56dc-fddd-4c0b-a564-42b3f64e5fdd",
   "metadata": {
    "scrolled": true
   },
   "outputs": [],
   "source": [
    "predicted_sentiment_trump6 = sentiment_analysis2(DT[\"data\"][6000:8000])"
   ]
  },
  {
   "cell_type": "code",
   "execution_count": 57,
   "id": "299531f0-719b-484a-8911-72cda4e049f2",
   "metadata": {},
   "outputs": [],
   "source": [
    "predicted_sentiment_trump7 = sentiment_analysis2(DT[\"data\"][8000:10000])"
   ]
  },
  {
   "cell_type": "code",
   "execution_count": 58,
   "id": "1862dbb6-b253-4e88-8fea-29f8ab458fe4",
   "metadata": {},
   "outputs": [],
   "source": [
    "predicted_sentiment_trump8 = sentiment_analysis2(DT[\"data\"][10000:12000])"
   ]
  },
  {
   "cell_type": "code",
   "execution_count": 59,
   "id": "7e79bc51-98e9-4f19-8f3e-b8aead3b79ce",
   "metadata": {},
   "outputs": [],
   "source": [
    "predicted_sentiment_trump14 = sentiment_analysis2(DT[\"data\"][12000:14000])"
   ]
  },
  {
   "cell_type": "code",
   "execution_count": 60,
   "id": "6123a9e3-326a-49f9-badb-0db827d4543b",
   "metadata": {},
   "outputs": [],
   "source": [
    "predicted_sentiment_trump9 = sentiment_analysis2(DT[\"data\"][14000:16000])"
   ]
  },
  {
   "cell_type": "code",
   "execution_count": 61,
   "id": "b67ff8d8-720d-44a8-ad2a-dd7164e80e40",
   "metadata": {},
   "outputs": [],
   "source": [
    "predicted_sentiment_trump10 = sentiment_analysis2(DT[\"data\"][16000:18000])"
   ]
  },
  {
   "cell_type": "code",
   "execution_count": 62,
   "id": "efeb6acc-a7d1-4692-acef-cdae075b107b",
   "metadata": {},
   "outputs": [],
   "source": [
    "predicted_sentiment_trump11 = sentiment_analysis2(DT[\"data\"][18000:20000])"
   ]
  },
  {
   "cell_type": "code",
   "execution_count": 63,
   "id": "986e1788-191e-48c3-a51d-f73254d33d1b",
   "metadata": {
    "scrolled": true
   },
   "outputs": [],
   "source": [
    "predicted_sentiment_trump12 = sentiment_analysis2(DT[\"data\"][20000:22000])"
   ]
  },
  {
   "cell_type": "code",
   "execution_count": 64,
   "id": "dc66dd78-09e5-4359-a8f2-9c1390a0d026",
   "metadata": {},
   "outputs": [],
   "source": [
    "predicted_sentiment_trump13 = sentiment_analysis2(DT[\"data\"][22000:])"
   ]
  },
  {
   "cell_type": "code",
   "execution_count": 65,
   "id": "16cdae72-62ed-4da6-9c29-3a87d11ceba5",
   "metadata": {},
   "outputs": [
    {
     "name": "stderr",
     "output_type": "stream",
     "text": [
      "/var/folders/f3/mm9q96zs15z04wqzkzssq_k80000gn/T/ipykernel_3840/691664907.py:2: SettingWithCopyWarning: \n",
      "A value is trying to be set on a copy of a slice from a DataFrame.\n",
      "Try using .loc[row_indexer,col_indexer] = value instead\n",
      "\n",
      "See the caveats in the documentation: https://pandas.pydata.org/pandas-docs/stable/user_guide/indexing.html#returning-a-view-versus-a-copy\n",
      "  DT[\"combined_sentiment_trump\"] = predicted_sentiment_trump + predicted_sentiment_trump2 + predicted_sentiment_trump3 +predicted_sentiment_trump4 + predicted_sentiment_trump5 + predicted_sentiment_trump6 + predicted_sentiment_trump7 + predicted_sentiment_trump8 + predicted_sentiment_trump14+ predicted_sentiment_trump9 + predicted_sentiment_trump10 + predicted_sentiment_trump11 + predicted_sentiment_trump12 + predicted_sentiment_trump13\n"
     ]
    }
   ],
   "source": [
    "# adding all columns together - the order here matters and yes, it should be as following - _+1+2+3+4+5+6+7+8+14+9+10+11+12+13\n",
    "DT[\"combined_sentiment_trump\"] = predicted_sentiment_trump + predicted_sentiment_trump2 + predicted_sentiment_trump3 +predicted_sentiment_trump4 + predicted_sentiment_trump5 + predicted_sentiment_trump6 + predicted_sentiment_trump7 + predicted_sentiment_trump8 + predicted_sentiment_trump14+ predicted_sentiment_trump9 + predicted_sentiment_trump10 + predicted_sentiment_trump11 + predicted_sentiment_trump12 + predicted_sentiment_trump13"
   ]
  },
  {
   "cell_type": "markdown",
   "id": "8bcbeec9",
   "metadata": {},
   "source": [
    "# Visualize the results"
   ]
  },
  {
   "cell_type": "code",
   "execution_count": 147,
   "id": "1b2a9634",
   "metadata": {},
   "outputs": [],
   "source": [
    "# group by each candidate and each sentiment\n",
    "hillary_negative_sentiment = HC[(HC[\"predicted_hillary\"] == \"Negative\") & (HC[\"created_at\"] <= '2016-11-08')]\n",
    "hillary_positive_sentiment = HC[(HC[\"predicted_hillary\"] == \"Positive\") & (HC[\"created_at\"] <= '2016-11-08')]\n",
    "hillary_neutral_sentiment = HC[(HC[\"predicted_hillary\"] == \"Neutral\") & (HC[\"created_at\"] <= '2016-11-08')]\n",
    "trump_negative_sentiment = DT[(DT[\"combined_sentiment_trump\"] == \"Negative\") & (DT[\"created_at\"] <= '2016-11-08')]\n",
    "trump_positive_sentiment = DT[(DT[\"combined_sentiment_trump\"] == \"Positive\") & (DT[\"created_at\"] <= '2016-11-08')]\n",
    "trump_neutral_sentiment = DT[(DT[\"combined_sentiment_trump\"] == \"Neutral\") & (DT[\"created_at\"] <= '2016-11-08')]"
   ]
  },
  {
   "cell_type": "code",
   "execution_count": 148,
   "id": "77d22084-a2e0-462b-af1c-dca1ec4c81cd",
   "metadata": {},
   "outputs": [
    {
     "data": {
      "text/html": [
       "<div>\n",
       "<style scoped>\n",
       "    .dataframe tbody tr th:only-of-type {\n",
       "        vertical-align: middle;\n",
       "    }\n",
       "\n",
       "    .dataframe tbody tr th {\n",
       "        vertical-align: top;\n",
       "    }\n",
       "\n",
       "    .dataframe thead th {\n",
       "        text-align: right;\n",
       "    }\n",
       "</style>\n",
       "<table border=\"1\" class=\"dataframe\">\n",
       "  <thead>\n",
       "    <tr style=\"text-align: right;\">\n",
       "      <th></th>\n",
       "      <th>candidate_id</th>\n",
       "      <th>tweet_text</th>\n",
       "      <th>created_at</th>\n",
       "      <th>data</th>\n",
       "      <th>predicted_hillary</th>\n",
       "    </tr>\n",
       "  </thead>\n",
       "  <tbody>\n",
       "    <tr>\n",
       "      <th>13</th>\n",
       "      <td>1</td>\n",
       "      <td>see votes sez hillary cares money power andhil...</td>\n",
       "      <td>2016-08-30T22:21:49</td>\n",
       "      <td>see vote sez hillary care money power andhillary</td>\n",
       "      <td>Positive</td>\n",
       "    </tr>\n",
       "    <tr>\n",
       "      <th>68</th>\n",
       "      <td>1</td>\n",
       "      <td>nra teaparty congress lol</td>\n",
       "      <td>2016-08-30T22:23:34</td>\n",
       "      <td>nra teaparty congress lol</td>\n",
       "      <td>Positive</td>\n",
       "    </tr>\n",
       "    <tr>\n",
       "      <th>98</th>\n",
       "      <td>1</td>\n",
       "      <td>unreal omg rapeculture simply cannot believe s...</td>\n",
       "      <td>2016-08-30T22:21:06</td>\n",
       "      <td>unreal omg rapeculture simply cannot believe s...</td>\n",
       "      <td>Positive</td>\n",
       "    </tr>\n",
       "    <tr>\n",
       "      <th>127</th>\n",
       "      <td>1</td>\n",
       "      <td>dont give in</td>\n",
       "      <td>2016-08-30T20:50:46</td>\n",
       "      <td>dont give in</td>\n",
       "      <td>Positive</td>\n",
       "    </tr>\n",
       "    <tr>\n",
       "      <th>339</th>\n",
       "      <td>1</td>\n",
       "      <td>needs it badly</td>\n",
       "      <td>2016-08-30T22:23:54</td>\n",
       "      <td>need it badly</td>\n",
       "      <td>Positive</td>\n",
       "    </tr>\n",
       "  </tbody>\n",
       "</table>\n",
       "</div>"
      ],
      "text/plain": [
       "     candidate_id                                         tweet_text  \\\n",
       "13              1  see votes sez hillary cares money power andhil...   \n",
       "68              1                          nra teaparty congress lol   \n",
       "98              1  unreal omg rapeculture simply cannot believe s...   \n",
       "127             1                                     dont give in     \n",
       "339             1                                    needs it badly    \n",
       "\n",
       "              created_at                                               data  \\\n",
       "13   2016-08-30T22:21:49   see vote sez hillary care money power andhillary   \n",
       "68   2016-08-30T22:23:34                          nra teaparty congress lol   \n",
       "98   2016-08-30T22:21:06  unreal omg rapeculture simply cannot believe s...   \n",
       "127  2016-08-30T20:50:46                                       dont give in   \n",
       "339  2016-08-30T22:23:54                                      need it badly   \n",
       "\n",
       "    predicted_hillary  \n",
       "13           Positive  \n",
       "68           Positive  \n",
       "98           Positive  \n",
       "127          Positive  \n",
       "339          Positive  "
      ]
     },
     "execution_count": 148,
     "metadata": {},
     "output_type": "execute_result"
    }
   ],
   "source": [
    "hillary_positive_sentiment.head()"
   ]
  },
  {
   "cell_type": "code",
   "execution_count": 149,
   "id": "089c4955-d271-44ff-a08c-5025f30f3955",
   "metadata": {},
   "outputs": [],
   "source": [
    "import matplotlib.pyplot as plt"
   ]
  },
  {
   "cell_type": "code",
   "execution_count": 144,
   "id": "046f2660",
   "metadata": {},
   "outputs": [
    {
     "data": {
      "text/plain": [
       "Text(0.5, 1.0, 'Polarity of posts of each candidate using a stronger model with trained on 80 epochs')"
      ]
     },
     "execution_count": 144,
     "metadata": {},
     "output_type": "execute_result"
    },
    {
     "data": {
      "image/png": "[encoded data removed]",
      "text/plain": [
       "<Figure size 1000x600 with 1 Axes>"
      ]
     },
     "metadata": {},
     "output_type": "display_data"
    }
   ],
   "source": [
    "# Create a bar chart\n",
    "fig, ax = plt.subplots(figsize=(10, 6))\n",
    "\n",
    "# Plotting bars for Hillary Clinton\n",
    "bar_width = 0.2\n",
    "bar_positions_hillary = range(1, 4)\n",
    "ax.bar([p - bar_width for p in bar_positions_hillary], [len(hillary_positive_sentiment), len(hillary_negative_sentiment), len(hillary_neutral_sentiment)], width=bar_width, label='Hillary Clinton', color='blue')\n",
    "\n",
    "# Plotting bars for Donald Trump\n",
    "bar_positions_trump = range(1, 4)\n",
    "ax.bar([p + bar_width for p in bar_positions_trump], [len(trump_positive_sentiment), len(trump_negative_sentiment), len(trump_neutral_sentiment)], width=bar_width, label='Donald Trump', color='red')\n",
    "\n",
    "# Set labels and title\n",
    "ax.set_xticks([p for p in bar_positions_hillary])\n",
    "ax.set_xticklabels(['Positive', 'Negative', 'Neutral'])\n",
    "ax.set_ylabel('Count')\n",
    "ax.set_title('Polarity of posts of each candidate using a stronger model with trained on 80 epochs')"
   ]
  },
  {
   "cell_type": "code",
   "execution_count": 145,
   "id": "639e7c6d-42c9-4664-bcec-cac2659e5fd4",
   "metadata": {},
   "outputs": [
    {
     "data": {
      "text/plain": [
       "(14290, 5)"
      ]
     },
     "execution_count": 145,
     "metadata": {},
     "output_type": "execute_result"
    }
   ],
   "source": [
    "HC.shape"
   ]
  },
  {
   "cell_type": "code",
   "execution_count": 146,
   "id": "31911b37-fb29-4e50-b4db-e01a48bfc580",
   "metadata": {},
   "outputs": [
    {
     "data": {
      "text/plain": [
       "(36712, 5)"
      ]
     },
     "execution_count": 146,
     "metadata": {},
     "output_type": "execute_result"
    }
   ],
   "source": [
    "DT.shape"
   ]
  },
  {
   "cell_type": "markdown",
   "id": "b8260938-d91a-4430-87ff-a2a658091df7",
   "metadata": {},
   "source": [
    "### Because Trump's dataset is larger by more than 22000 posts in this case, it makes sense to see more data points, or higher bars, in each of Trump's categories."
   ]
  },
  {
   "cell_type": "markdown",
   "id": "f5181830-9f51-40bd-8b96-10b778d514f0",
   "metadata": {},
   "source": [
    "### Now let's create a checkpoint, save the data to a new variable and then randomly delete 22000 rows in order to equalize the dataset and get more realistic results."
   ]
  },
  {
   "cell_type": "code",
   "execution_count": 113,
   "id": "1a034dd1-cea3-4617-9204-b5e4229fa62d",
   "metadata": {},
   "outputs": [],
   "source": [
    "# saving the data to a new variable\n",
    "DT2 = DT"
   ]
  },
  {
   "cell_type": "code",
   "execution_count": 114,
   "id": "6b32c438-4f16-4aef-9ba3-5d2db1d980f8",
   "metadata": {},
   "outputs": [],
   "source": [
    "HC2 = HC"
   ]
  },
  {
   "cell_type": "code",
   "execution_count": 115,
   "id": "fe4dbb5f-4c77-4560-b9f6-5f1d288b67ad",
   "metadata": {
    "scrolled": true
   },
   "outputs": [
    {
     "name": "stdout",
     "output_type": "stream",
     "text": [
      "       candidate_id                                         tweet_text  \\\n",
      "10                2                                      assbastard 😂😂   \n",
      "12                2                                   trumpsters fools   \n",
      "46                2                             trumps ideal sex slave   \n",
      "51                2                trumps asshole taste like must love   \n",
      "59                2                                              wrong   \n",
      "...             ...                                                ...   \n",
      "99988             2   you are an embarrassment learn a few more voc...   \n",
      "99990             2   you say he is unelectable after he is elected...   \n",
      "99991             2   you are a horrible leader but an excellent co...   \n",
      "99993             2   what caused this great commotion motion motio...   \n",
      "99997             2                       youre not helping yourself 😂   \n",
      "\n",
      "                created_at                                               data  \\\n",
      "10     2016-08-30T22:21:22                                         assbastard   \n",
      "12     2016-08-30T22:21:41                                    trumpsters fool   \n",
      "46     2016-08-30T22:20:33                              trump ideal sex slave   \n",
      "51     2016-08-30T22:21:13                 trump asshole taste like must love   \n",
      "59     2016-08-30T22:22:23                                              wrong   \n",
      "...                    ...                                                ...   \n",
      "99988  2017-02-17T12:47:26  you be an embarrassment learn few more vocabul...   \n",
      "99990  2017-02-17T12:47:42  you say he be unelectable after he be elect po...   \n",
      "99991  2017-02-17T12:47:50  you be horrible leader but an excellent compla...   \n",
      "99993  2017-02-17T12:48:04  what cause this great commotion motion motion ...   \n",
      "99997  2017-02-17T12:48:23                            youre not help yourself   \n",
      "\n",
      "      combined_sentiment_trump  \n",
      "10                    Negative  \n",
      "12                     Neutral  \n",
      "46                    Negative  \n",
      "51                    Negative  \n",
      "59                    Negative  \n",
      "...                        ...  \n",
      "99988                  Neutral  \n",
      "99990                  Neutral  \n",
      "99991                 Negative  \n",
      "99993                 Positive  \n",
      "99997                  Neutral  \n",
      "\n",
      "[14290 rows x 5 columns]\n"
     ]
    }
   ],
   "source": [
    "# deleting random rows in order to achieve the same size of datasets\n",
    "\n",
    "# Set a seed for reproducibility\n",
    "np.random.seed(42)\n",
    "\n",
    "# Specify the number of rows to delete\n",
    "num_rows_to_delete = 22422\n",
    "\n",
    "# Check if the DataFrame has enough rows to delete\n",
    "if num_rows_to_delete > len(DT2):\n",
    "    print(\"Error: The number of rows to delete exceeds the total number of rows in the DataFrame.\")\n",
    "else:\n",
    "    # Randomly select rows to delete\n",
    "    rows_to_delete = DT2.sample(n=num_rows_to_delete).index\n",
    "\n",
    "    # Drop the selected rows\n",
    "    DT2 = DT2.drop(index=rows_to_delete)\n",
    "\n",
    "    # Display the resulting DataFrame\n",
    "    print(DT2)"
   ]
  },
  {
   "cell_type": "code",
   "execution_count": 116,
   "id": "04403307-4c6c-44f9-a57f-85351954f5a8",
   "metadata": {},
   "outputs": [],
   "source": [
    "# there are still some space values - this drops the rows\n",
    "DT2 = DT2.dropna(subset=['data'])"
   ]
  },
  {
   "cell_type": "code",
   "execution_count": 117,
   "id": "90ab8294-650b-40e0-a0bc-06413c02121b",
   "metadata": {},
   "outputs": [
    {
     "data": {
      "text/plain": [
       "(14290, 5)"
      ]
     },
     "execution_count": 117,
     "metadata": {},
     "output_type": "execute_result"
    }
   ],
   "source": [
    "DT2.shape"
   ]
  },
  {
   "cell_type": "code",
   "execution_count": 118,
   "id": "c86685df-2aff-4b1e-95bf-5a939429336d",
   "metadata": {
    "scrolled": true
   },
   "outputs": [
    {
     "data": {
      "text/html": [
       "<div>\n",
       "<style scoped>\n",
       "    .dataframe tbody tr th:only-of-type {\n",
       "        vertical-align: middle;\n",
       "    }\n",
       "\n",
       "    .dataframe tbody tr th {\n",
       "        vertical-align: top;\n",
       "    }\n",
       "\n",
       "    .dataframe thead th {\n",
       "        text-align: right;\n",
       "    }\n",
       "</style>\n",
       "<table border=\"1\" class=\"dataframe\">\n",
       "  <thead>\n",
       "    <tr style=\"text-align: right;\">\n",
       "      <th></th>\n",
       "      <th>candidate_id</th>\n",
       "      <th>tweet_text</th>\n",
       "      <th>created_at</th>\n",
       "      <th>data</th>\n",
       "      <th>combined_sentiment_trump</th>\n",
       "    </tr>\n",
       "  </thead>\n",
       "  <tbody>\n",
       "    <tr>\n",
       "      <th>173</th>\n",
       "      <td>2</td>\n",
       "      <td>pence trump on migrants ‘we don’t want them’</td>\n",
       "      <td>2016-08-30T20:50:46</td>\n",
       "      <td>pence trump on migrants we don want them</td>\n",
       "      <td>Positive</td>\n",
       "    </tr>\n",
       "    <tr>\n",
       "      <th>184</th>\n",
       "      <td>2</td>\n",
       "      <td>go trump</td>\n",
       "      <td>2016-08-30T22:20:42</td>\n",
       "      <td>go trump</td>\n",
       "      <td>Positive</td>\n",
       "    </tr>\n",
       "    <tr>\n",
       "      <th>228</th>\n",
       "      <td>2</td>\n",
       "      <td>biafravengennamdikanu commission</td>\n",
       "      <td>2016-08-30T22:20:51</td>\n",
       "      <td>commission</td>\n",
       "      <td>Positive</td>\n",
       "    </tr>\n",
       "    <tr>\n",
       "      <th>330</th>\n",
       "      <td>2</td>\n",
       "      <td>tweets1959</td>\n",
       "      <td>2016-08-30T22:22:48</td>\n",
       "      <td>tweet</td>\n",
       "      <td>Positive</td>\n",
       "    </tr>\n",
       "    <tr>\n",
       "      <th>337</th>\n",
       "      <td>2</td>\n",
       "      <td>lets makehillarybrokeagain join</td>\n",
       "      <td>2016-08-30T22:23:43</td>\n",
       "      <td>let join</td>\n",
       "      <td>Positive</td>\n",
       "    </tr>\n",
       "  </tbody>\n",
       "</table>\n",
       "</div>"
      ],
      "text/plain": [
       "     candidate_id                                      tweet_text  \\\n",
       "173             2   pence trump on migrants ‘we don’t want them’    \n",
       "184             2                                        go trump   \n",
       "228             2              biafravengennamdikanu commission     \n",
       "330             2                                     tweets1959    \n",
       "337             2                lets makehillarybrokeagain join    \n",
       "\n",
       "              created_at                                      data  \\\n",
       "173  2016-08-30T20:50:46  pence trump on migrants we don want them   \n",
       "184  2016-08-30T22:20:42                                  go trump   \n",
       "228  2016-08-30T22:20:51                                commission   \n",
       "330  2016-08-30T22:22:48                                     tweet   \n",
       "337  2016-08-30T22:23:43                                  let join   \n",
       "\n",
       "    combined_sentiment_trump  \n",
       "173                 Positive  \n",
       "184                 Positive  \n",
       "228                 Positive  \n",
       "330                 Positive  \n",
       "337                 Positive  "
      ]
     },
     "execution_count": 118,
     "metadata": {},
     "output_type": "execute_result"
    }
   ],
   "source": [
    "# group for Trump\n",
    "# group by positive, negative and neutral\n",
    "positive_DT = DT2[DT2['combined_sentiment_trump'] == 'Positive']\n",
    "negative_DT = DT2[DT2['combined_sentiment_trump'] == 'Negative']\n",
    "neutral_DT = DT2[DT2['combined_sentiment_trump'] == 'Neutral']\n",
    "\n",
    "# group by created_at and calculate the count for each time point. The .sum() needs to be added as well,\n",
    "# because some posts were posted at the same time second and count for 2.\n",
    "positive_counts_DT = positive_DT.groupby('created_at').size().sum()\n",
    "neutral_counts_DT = neutral_DT.groupby('created_at').size().sum()\n",
    "negative_counts_DT = negative_DT.groupby('created_at').size().sum()\n",
    "\n",
    "positive_DT.head()"
   ]
  },
  {
   "cell_type": "code",
   "execution_count": 119,
   "id": "cacdbe17-9c50-45ae-9454-4a3782481656",
   "metadata": {},
   "outputs": [],
   "source": [
    "# group for Hillary\n",
    "# group by positive, negative and neutral\n",
    "positive_HC = HC2[HC2['predicted_hillary'] == 'Positive']\n",
    "negative_HC = HC2[HC2['predicted_hillary'] == 'Negative']\n",
    "neutral_HC = HC2[HC2['predicted_hillary'] == 'Neutral']\n",
    "\n",
    "# group by created_at and calculate the count for each time point. The .sum() needs to be added as well,\n",
    "# because some posts were posted at the same time second and count for 2.\n",
    "positive_counts_HC = positive_HC.groupby('created_at').size().sum()\n",
    "neutral_counts_HC = neutral_HC.groupby('created_at').size().sum()\n",
    "negative_counts_HC = negative_HC.groupby('created_at').size().sum()"
   ]
  },
  {
   "cell_type": "code",
   "execution_count": 120,
   "id": "133d450c-33fa-4a5a-ad09-b7f113a82cb8",
   "metadata": {},
   "outputs": [],
   "source": [
    "### visualise posts related to each candidate and their positivity"
   ]
  },
  {
   "cell_type": "code",
   "execution_count": 121,
   "id": "e2c4a00a-922f-4dcd-8187-b89d51761ac0",
   "metadata": {},
   "outputs": [
    {
     "data": {
      "text/plain": [
       "Text(0.5, 1.0, 'Polarity of posts of each candidate')"
      ]
     },
     "execution_count": 121,
     "metadata": {},
     "output_type": "execute_result"
    },
    {
     "data": {
      "image/png": "[encoded data removed]",
      "text/plain": [
       "<Figure size 1000x600 with 1 Axes>"
      ]
     },
     "metadata": {},
     "output_type": "display_data"
    }
   ],
   "source": [
    "# Create a bar chart\n",
    "fig, ax = plt.subplots(figsize=(10, 6))\n",
    "\n",
    "# Plotting bars for Hillary Clinton\n",
    "bar_width = 0.2\n",
    "bar_positions_hillary = range(1, 4)\n",
    "ax.bar([p - bar_width for p in bar_positions_hillary], [positive_counts_HC, negative_counts_HC, neutral_counts_HC], width=bar_width, label='Hillary Clinton', color='blue')\n",
    "\n",
    "# Plotting bars for Donald Trump\n",
    "bar_positions_trump = range(1, 4)\n",
    "ax.bar([p + bar_width for p in bar_positions_trump], [positive_counts_DT, negative_counts_DT, neutral_counts_DT], width=bar_width, label='Donald Trump', color='red')\n",
    "\n",
    "# Set labels and title\n",
    "ax.set_xticks([p for p in bar_positions_hillary])\n",
    "ax.set_xticklabels(['Positive', 'Negative', 'Neutral'])\n",
    "ax.set_ylabel('Count')\n",
    "ax.set_title('Polarity of posts of each candidate')"
   ]
  },
  {
   "cell_type": "markdown",
   "id": "61570780-2879-48dd-bbe6-1edc4e86a82d",
   "metadata": {},
   "source": [
    "### Now let's try a comparison of results from February 2017, after the election."
   ]
  },
  {
   "cell_type": "code",
   "execution_count": 122,
   "id": "00258cac-6f47-470a-884d-30325a8f02c6",
   "metadata": {},
   "outputs": [],
   "source": [
    "# group by each candidate and each sentiment - taking only the dates after the election\n",
    "hillary_negative_sentiment = HC[(HC[\"predicted_hillary\"] == \"Negative\") & (HC[\"created_at\"] > '2016-11-08')]\n",
    "hillary_positive_sentiment = HC[(HC[\"predicted_hillary\"] == \"Positive\") & (HC[\"created_at\"] > '2016-11-08')]\n",
    "hillary_neutral_sentiment = HC[(HC[\"predicted_hillary\"] == \"Neutral\") & (HC[\"created_at\"] > '2016-11-08')]\n",
    "trump_negative_sentiment = DT[(DT[\"combined_sentiment_trump\"] == \"Negative\") & (DT[\"created_at\"] > '2016-11-08')]\n",
    "trump_positive_sentiment = DT[(DT[\"combined_sentiment_trump\"] == \"Positive\") & (DT[\"created_at\"] > '2016-11-08')]\n",
    "trump_neutral_sentiment = DT[(DT[\"combined_sentiment_trump\"] == \"Neutral\") & (DT[\"created_at\"] > '2016-11-08')]"
   ]
  },
  {
   "cell_type": "code",
   "execution_count": 123,
   "id": "ceb57c75-0df1-419a-ac10-6e183beb0035",
   "metadata": {},
   "outputs": [],
   "source": [
    "import matplotlib.pyplot as plt"
   ]
  },
  {
   "cell_type": "code",
   "execution_count": 127,
   "id": "31225456-e5e9-4b69-ac9d-ff530085eb65",
   "metadata": {},
   "outputs": [
    {
     "data": {
      "text/plain": [
       "Text(0.5, 1.0, 'Polarity of posts of each candidate using a stronger model with trained on 80 epochs')"
      ]
     },
     "execution_count": 127,
     "metadata": {},
     "output_type": "execute_result"
    },
    {
     "data": {
      "image/png": "[encoded data removed]",
      "text/plain": [
       "<Figure size 1000x600 with 1 Axes>"
      ]
     },
     "metadata": {},
     "output_type": "display_data"
    }
   ],
   "source": [
    "# Create a bar chart\n",
    "fig, ax = plt.subplots(figsize=(10, 6))\n",
    "\n",
    "# Plotting bars for Hillary Clinton\n",
    "bar_width = 0.2\n",
    "bar_positions_hillary = range(1, 4)\n",
    "ax.bar([p - bar_width for p in bar_positions_hillary], [len(hillary_positive_sentiment), len(hillary_negative_sentiment), len(hillary_neutral_sentiment)], width=bar_width, label='Hillary Clinton', color='blue')\n",
    "\n",
    "# Plotting bars for Donald Trump\n",
    "bar_positions_trump = range(1, 4)\n",
    "ax.bar([p + bar_width for p in bar_positions_trump], [len(trump_positive_sentiment), len(trump_negative_sentiment), len(trump_neutral_sentiment)], width=bar_width, label='Donald Trump', color='red')\n",
    "\n",
    "# Set labels and title\n",
    "ax.set_xticks([p for p in bar_positions_hillary])\n",
    "ax.set_xticklabels(['Positive', 'Negative', 'Neutral'])\n",
    "ax.set_ylabel('Count')\n",
    "ax.set_title('Polarity of posts of each candidate using a stronger model with trained on 80 epochs')"
   ]
  },
  {
   "cell_type": "markdown",
   "id": "e5ecbbb5-2fc0-402d-9b28-09d54e4c6bd2",
   "metadata": {},
   "source": [
    "### Because Trump's dataset is larger by more than 22000 posts in this case, it makes sense to see more data points, or higher bars, in each of Trump's categories."
   ]
  },
  {
   "cell_type": "markdown",
   "id": "92cb209b-bfd7-4200-ac87-0686d2046345",
   "metadata": {},
   "source": [
    "### Now let's create a checkpoint, save the data to a new variable and then randomly delete 22000 rows in order to equalize the dataset and get more realistic results."
   ]
  },
  {
   "cell_type": "code",
   "execution_count": 130,
   "id": "8f95f789-d517-4e31-956a-194aaa223b30",
   "metadata": {},
   "outputs": [],
   "source": [
    "# saving the data to a new variable\n",
    "DT2 = DT"
   ]
  },
  {
   "cell_type": "code",
   "execution_count": 131,
   "id": "aa7d8b4c-22da-491d-b336-870d655cc873",
   "metadata": {},
   "outputs": [],
   "source": [
    "HC2 = HC"
   ]
  },
  {
   "cell_type": "code",
   "execution_count": 132,
   "id": "5f05a43a-aad3-4282-a4a2-21d0db033ca6",
   "metadata": {
    "scrolled": true
   },
   "outputs": [
    {
     "name": "stdout",
     "output_type": "stream",
     "text": [
      "       candidate_id                                         tweet_text  \\\n",
      "10                2                                      assbastard 😂😂   \n",
      "12                2                                   trumpsters fools   \n",
      "46                2                             trumps ideal sex slave   \n",
      "51                2                trumps asshole taste like must love   \n",
      "59                2                                              wrong   \n",
      "...             ...                                                ...   \n",
      "99988             2   you are an embarrassment learn a few more voc...   \n",
      "99990             2   you say he is unelectable after he is elected...   \n",
      "99991             2   you are a horrible leader but an excellent co...   \n",
      "99993             2   what caused this great commotion motion motio...   \n",
      "99997             2                       youre not helping yourself 😂   \n",
      "\n",
      "                created_at                                               data  \\\n",
      "10     2016-08-30T22:21:22                                         assbastard   \n",
      "12     2016-08-30T22:21:41                                    trumpsters fool   \n",
      "46     2016-08-30T22:20:33                              trump ideal sex slave   \n",
      "51     2016-08-30T22:21:13                 trump asshole taste like must love   \n",
      "59     2016-08-30T22:22:23                                              wrong   \n",
      "...                    ...                                                ...   \n",
      "99988  2017-02-17T12:47:26  you be an embarrassment learn few more vocabul...   \n",
      "99990  2017-02-17T12:47:42  you say he be unelectable after he be elect po...   \n",
      "99991  2017-02-17T12:47:50  you be horrible leader but an excellent compla...   \n",
      "99993  2017-02-17T12:48:04  what cause this great commotion motion motion ...   \n",
      "99997  2017-02-17T12:48:23                            youre not help yourself   \n",
      "\n",
      "      combined_sentiment_trump  \n",
      "10                    Negative  \n",
      "12                     Neutral  \n",
      "46                    Negative  \n",
      "51                    Negative  \n",
      "59                    Negative  \n",
      "...                        ...  \n",
      "99988                  Neutral  \n",
      "99990                  Neutral  \n",
      "99991                 Negative  \n",
      "99993                 Positive  \n",
      "99997                  Neutral  \n",
      "\n",
      "[14290 rows x 5 columns]\n"
     ]
    }
   ],
   "source": [
    "# deleting random rows in order to achieve the same size of datasets\n",
    "\n",
    "# Set a seed for reproducibility\n",
    "np.random.seed(42)\n",
    "\n",
    "# Specify the number of rows to delete\n",
    "num_rows_to_delete = 22422\n",
    "\n",
    "# Check if the DataFrame has enough rows to delete\n",
    "if num_rows_to_delete > len(DT2):\n",
    "    print(\"Error: The number of rows to delete exceeds the total number of rows in the DataFrame.\")\n",
    "else:\n",
    "    # Randomly select rows to delete\n",
    "    rows_to_delete = DT2.sample(n=num_rows_to_delete).index\n",
    "\n",
    "    # Drop the selected rows\n",
    "    DT2 = DT2.drop(index=rows_to_delete)\n",
    "\n",
    "    # Display the resulting DataFrame\n",
    "    print(DT2)"
   ]
  },
  {
   "cell_type": "code",
   "execution_count": 133,
   "id": "50c09dd1-7079-4ecb-a1d3-c616413102bc",
   "metadata": {},
   "outputs": [],
   "source": [
    "# there are still some space values - this drops the rows\n",
    "DT2 = DT2.dropna(subset=['data'])"
   ]
  },
  {
   "cell_type": "code",
   "execution_count": 134,
   "id": "d8a27771-87f3-45e4-ad80-8ce5d0f6de02",
   "metadata": {},
   "outputs": [
    {
     "data": {
      "text/plain": [
       "(14290, 5)"
      ]
     },
     "execution_count": 134,
     "metadata": {},
     "output_type": "execute_result"
    }
   ],
   "source": [
    "DT2.shape"
   ]
  },
  {
   "cell_type": "code",
   "execution_count": 153,
   "id": "c661fdeb-c9ac-4418-99af-46be868099ad",
   "metadata": {},
   "outputs": [
    {
     "ename": "SyntaxError",
     "evalue": "closing parenthesis ']' does not match opening parenthesis '(' (1570439597.py, line 1)",
     "output_type": "error",
     "traceback": [
      "\u001b[0;36m  Cell \u001b[0;32mIn[153], line 1\u001b[0;36m\u001b[0m\n\u001b[0;31m    hillary_negative_sentiment = HC[(HC[\"predicted_hillary\"] == \"Negative\"]) & (HC[\"created_at\"] > '2016-11-08')]\u001b[0m\n\u001b[0m                                                                          ^\u001b[0m\n\u001b[0;31mSyntaxError\u001b[0m\u001b[0;31m:\u001b[0m closing parenthesis ']' does not match opening parenthesis '('\n"
     ]
    }
   ],
   "source": [
    "hillary_negative_sentiment = HC[(HC[\"predicted_hillary\"] == \"Negative\"]) & (HC[\"created_at\"] > '2016-11-08')]\n",
    "hillary_positive_sentiment = HC[(HC[\"predicted_hillary\"] == \"Positive\"]) & (HC[\"created_at\"] > '2016-11-08')]\n",
    "hillary_neutral_sentiment = HC[(HC[\"predicted_hillary\"] == \"Neutral\"]) & (HC[\"created_at\"] > '2016-11-08')]\n",
    "trump_negative_sentiment = DT[(DT[\"combined_sentiment_trump\"] == \"Negative\"]) & (DT[\"created_at\"] > '2016-11-08')]\n",
    "trump_positive_sentiment = DT[(DT[\"combined_sentiment_trump\"] == \"Positive\"]) & (DT[\"created_at\"] > '2016-11-08')]\n",
    "trump_neutral_sentiment = DT[(DT[\"combined_sentiment_trump\"] == \"Neutral\"]) & (DT[\"created_at\"] > '2016-11-08')]"
   ]
  },
  {
   "cell_type": "code",
   "execution_count": 156,
   "id": "ffe22d75-e9db-4585-a61b-d512ceb9881c",
   "metadata": {
    "scrolled": true
   },
   "outputs": [
    {
     "name": "stderr",
     "output_type": "stream",
     "text": [
      "/var/folders/f3/mm9q96zs15z04wqzkzssq_k80000gn/T/ipykernel_3840/1305964786.py:3: UserWarning: Boolean Series key will be reindexed to match DataFrame index.\n",
      "  positive_DT = DT2[(DT2['combined_sentiment_trump'] == 'Positive') & (DT[\"created_at\"] > '2016-11-08')]\n",
      "/var/folders/f3/mm9q96zs15z04wqzkzssq_k80000gn/T/ipykernel_3840/1305964786.py:4: UserWarning: Boolean Series key will be reindexed to match DataFrame index.\n",
      "  negative_DT = DT2[(DT2['combined_sentiment_trump'] == 'Negative') & (DT[\"created_at\"] > '2016-11-08')]\n",
      "/var/folders/f3/mm9q96zs15z04wqzkzssq_k80000gn/T/ipykernel_3840/1305964786.py:5: UserWarning: Boolean Series key will be reindexed to match DataFrame index.\n",
      "  neutral_DT = DT2[(DT2['combined_sentiment_trump'] == 'Neutral') & (DT[\"created_at\"] > '2016-11-08')]\n"
     ]
    },
    {
     "data": {
      "text/html": [
       "<div>\n",
       "<style scoped>\n",
       "    .dataframe tbody tr th:only-of-type {\n",
       "        vertical-align: middle;\n",
       "    }\n",
       "\n",
       "    .dataframe tbody tr th {\n",
       "        vertical-align: top;\n",
       "    }\n",
       "\n",
       "    .dataframe thead th {\n",
       "        text-align: right;\n",
       "    }\n",
       "</style>\n",
       "<table border=\"1\" class=\"dataframe\">\n",
       "  <thead>\n",
       "    <tr style=\"text-align: right;\">\n",
       "      <th></th>\n",
       "      <th>candidate_id</th>\n",
       "      <th>tweet_text</th>\n",
       "      <th>created_at</th>\n",
       "      <th>data</th>\n",
       "      <th>combined_sentiment_trump</th>\n",
       "    </tr>\n",
       "  </thead>\n",
       "  <tbody>\n",
       "    <tr>\n",
       "      <th>729</th>\n",
       "      <td>2</td>\n",
       "      <td>lol</td>\n",
       "      <td>2017-02-17T11:45:50</td>\n",
       "      <td>lol</td>\n",
       "      <td>Positive</td>\n",
       "    </tr>\n",
       "    <tr>\n",
       "      <th>731</th>\n",
       "      <td>2</td>\n",
       "      <td>stop deligitimizing the media the only one th...</td>\n",
       "      <td>2017-02-17T11:46:01</td>\n",
       "      <td>stop deligitimizing the media the only one tha...</td>\n",
       "      <td>Positive</td>\n",
       "    </tr>\n",
       "    <tr>\n",
       "      <th>774</th>\n",
       "      <td>2</td>\n",
       "      <td>hello d timmy timdog2012</td>\n",
       "      <td>2017-02-17T11:46:17</td>\n",
       "      <td>hello timmy timdog</td>\n",
       "      <td>Positive</td>\n",
       "    </tr>\n",
       "    <tr>\n",
       "      <th>816</th>\n",
       "      <td>2</td>\n",
       "      <td>amen</td>\n",
       "      <td>2017-02-17T11:46:18</td>\n",
       "      <td>amen</td>\n",
       "      <td>Positive</td>\n",
       "    </tr>\n",
       "    <tr>\n",
       "      <th>890</th>\n",
       "      <td>2</td>\n",
       "      <td>u real need to find somewhere to go to cuz tr...</td>\n",
       "      <td>2017-02-17T11:45:54</td>\n",
       "      <td>real need to find somewhere to go to cuz trump...</td>\n",
       "      <td>Positive</td>\n",
       "    </tr>\n",
       "  </tbody>\n",
       "</table>\n",
       "</div>"
      ],
      "text/plain": [
       "     candidate_id                                         tweet_text  \\\n",
       "729             2                                               lol    \n",
       "731             2   stop deligitimizing the media the only one th...   \n",
       "774             2                          hello d timmy timdog2012    \n",
       "816             2                                              amen    \n",
       "890             2   u real need to find somewhere to go to cuz tr...   \n",
       "\n",
       "              created_at                                               data  \\\n",
       "729  2017-02-17T11:45:50                                                lol   \n",
       "731  2017-02-17T11:46:01  stop deligitimizing the media the only one tha...   \n",
       "774  2017-02-17T11:46:17                                 hello timmy timdog   \n",
       "816  2017-02-17T11:46:18                                               amen   \n",
       "890  2017-02-17T11:45:54  real need to find somewhere to go to cuz trump...   \n",
       "\n",
       "    combined_sentiment_trump  \n",
       "729                 Positive  \n",
       "731                 Positive  \n",
       "774                 Positive  \n",
       "816                 Positive  \n",
       "890                 Positive  "
      ]
     },
     "execution_count": 156,
     "metadata": {},
     "output_type": "execute_result"
    }
   ],
   "source": [
    "# group for Trump\n",
    "# group by positive, negative and neutral\n",
    "positive_DT = DT2[(DT2['combined_sentiment_trump'] == 'Positive') & (DT[\"created_at\"] > '2016-11-08')]\n",
    "negative_DT = DT2[(DT2['combined_sentiment_trump'] == 'Negative') & (DT[\"created_at\"] > '2016-11-08')]\n",
    "neutral_DT = DT2[(DT2['combined_sentiment_trump'] == 'Neutral') & (DT[\"created_at\"] > '2016-11-08')]\n",
    "\n",
    "# group by created_at and calculate the count for each time point. The .sum() needs to be added as well,\n",
    "# because some posts were posted at the same time second and count for 2.\n",
    "positive_counts_DT = positive_DT.groupby('created_at').size().sum()\n",
    "neutral_counts_DT = neutral_DT.groupby('created_at').size().sum()\n",
    "negative_counts_DT = negative_DT.groupby('created_at').size().sum()\n",
    "\n",
    "positive_DT.head()"
   ]
  },
  {
   "cell_type": "code",
   "execution_count": 159,
   "id": "1990e52c-4752-400c-a843-7e0401ea3570",
   "metadata": {},
   "outputs": [
    {
     "name": "stderr",
     "output_type": "stream",
     "text": [
      "/var/folders/f3/mm9q96zs15z04wqzkzssq_k80000gn/T/ipykernel_3840/3906462705.py:3: UserWarning: Boolean Series key will be reindexed to match DataFrame index.\n",
      "  positive_HC = HC2[(HC2['predicted_hillary'] == 'Positive') & (DT[\"created_at\"] > '2016-11-08')]\n",
      "/var/folders/f3/mm9q96zs15z04wqzkzssq_k80000gn/T/ipykernel_3840/3906462705.py:4: UserWarning: Boolean Series key will be reindexed to match DataFrame index.\n",
      "  negative_HC = HC2[(HC2['predicted_hillary'] == 'Negative') & (DT[\"created_at\"] > '2016-11-08')]\n",
      "/var/folders/f3/mm9q96zs15z04wqzkzssq_k80000gn/T/ipykernel_3840/3906462705.py:5: UserWarning: Boolean Series key will be reindexed to match DataFrame index.\n",
      "  neutral_HC = HC2[(HC2['predicted_hillary'] == 'Neutral') & (DT[\"created_at\"] > '2016-11-08')]\n"
     ]
    }
   ],
   "source": [
    "# group for Hillary\n",
    "# group by positive, negative and neutral\n",
    "positive_HC = HC2[(HC2['predicted_hillary'] == 'Positive') & (DT[\"created_at\"] > '2016-11-08')]\n",
    "negative_HC = HC2[(HC2['predicted_hillary'] == 'Negative') & (DT[\"created_at\"] > '2016-11-08')]\n",
    "neutral_HC = HC2[(HC2['predicted_hillary'] == 'Neutral') & (DT[\"created_at\"] > '2016-11-08')]\n",
    "\n",
    "# group by created_at and calculate the count for each time point. The .sum() needs to be added as well,\n",
    "# because some posts were posted at the same time second and count for 2.\n",
    "positive_counts_HC = positive_HC.groupby('created_at').size().sum()\n",
    "neutral_counts_HC = neutral_HC.groupby('created_at').size().sum()\n",
    "negative_counts_HC = negative_HC.groupby('created_at').size().sum()"
   ]
  },
  {
   "cell_type": "code",
   "execution_count": 165,
   "id": "3088dac4-08a7-4167-b49b-dff89a03ef5d",
   "metadata": {},
   "outputs": [
    {
     "data": {
      "text/html": [
       "<div>\n",
       "<style scoped>\n",
       "    .dataframe tbody tr th:only-of-type {\n",
       "        vertical-align: middle;\n",
       "    }\n",
       "\n",
       "    .dataframe tbody tr th {\n",
       "        vertical-align: top;\n",
       "    }\n",
       "\n",
       "    .dataframe thead th {\n",
       "        text-align: right;\n",
       "    }\n",
       "</style>\n",
       "<table border=\"1\" class=\"dataframe\">\n",
       "  <thead>\n",
       "    <tr style=\"text-align: right;\">\n",
       "      <th></th>\n",
       "      <th>candidate_id</th>\n",
       "      <th>tweet_text</th>\n",
       "      <th>created_at</th>\n",
       "      <th>data</th>\n",
       "      <th>predicted_hillary</th>\n",
       "    </tr>\n",
       "  </thead>\n",
       "  <tbody>\n",
       "  </tbody>\n",
       "</table>\n",
       "</div>"
      ],
      "text/plain": [
       "Empty DataFrame\n",
       "Columns: [candidate_id, tweet_text, created_at, data, predicted_hillary]\n",
       "Index: []"
      ]
     },
     "execution_count": 165,
     "metadata": {},
     "output_type": "execute_result"
    }
   ],
   "source": [
    "negative_HC.head()"
   ]
  },
  {
   "cell_type": "code",
   "execution_count": 160,
   "id": "13196241-9fa0-4fc8-901f-43b0adcd4b76",
   "metadata": {},
   "outputs": [
    {
     "data": {
      "text/plain": [
       "0"
      ]
     },
     "execution_count": 160,
     "metadata": {},
     "output_type": "execute_result"
    }
   ],
   "source": [
    "neutral_counts_HC"
   ]
  },
  {
   "cell_type": "code",
   "execution_count": 161,
   "id": "34b6c338-282d-41fd-ae55-0d3e37a1b93f",
   "metadata": {},
   "outputs": [],
   "source": [
    "### visualise posts related to each candidate and their positivity"
   ]
  },
  {
   "cell_type": "code",
   "execution_count": 162,
   "id": "df97bcc1-1abd-428e-ac79-91b32427a7ff",
   "metadata": {},
   "outputs": [
    {
     "data": {
      "text/plain": [
       "Text(0.5, 1.0, 'Polarity of posts of each candidate')"
      ]
     },
     "execution_count": 162,
     "metadata": {},
     "output_type": "execute_result"
    },
    {
     "data": {
      "image/png": "[encoded data removed]",
      "text/plain": [
       "<Figure size 1000x600 with 1 Axes>"
      ]
     },
     "metadata": {},
     "output_type": "display_data"
    }
   ],
   "source": [
    "# Create a bar chart\n",
    "fig, ax = plt.subplots(figsize=(10, 6))\n",
    "\n",
    "# Plotting bars for Hillary Clinton\n",
    "bar_width = 0.2\n",
    "bar_positions_hillary = range(1, 4)\n",
    "ax.bar([p - bar_width for p in bar_positions_hillary], [positive_counts_HC, negative_counts_HC, neutral_counts_HC], width=bar_width, label='Hillary Clinton', color='blue')\n",
    "\n",
    "# Plotting bars for Donald Trump\n",
    "bar_positions_trump = range(1, 4)\n",
    "ax.bar([p + bar_width for p in bar_positions_trump], [positive_counts_DT, negative_counts_DT, neutral_counts_DT], width=bar_width, label='Donald Trump', color='red')\n",
    "\n",
    "# Set labels and title\n",
    "ax.set_xticks([p for p in bar_positions_hillary])\n",
    "ax.set_xticklabels(['Positive', 'Negative', 'Neutral'])\n",
    "ax.set_ylabel('Count')\n",
    "ax.set_title('Polarity of posts of each candidate')"
   ]
  },
  {
   "cell_type": "markdown",
   "id": "6afed8bd-00ad-49d2-9834-c5478b2ba344",
   "metadata": {},
   "source": [
    "### Becuause of lack of data in this dataset, it is difficult to make a conclusion, whether the sentiment has changed after the election results."
   ]
  },
  {
   "cell_type": "code",
   "execution_count": null,
   "id": "bc4db3b8-8c74-4b71-b138-3684ff73f6ca",
   "metadata": {},
   "outputs": [],
   "source": []
  }
 ],
 "metadata": {
  "kernelspec": {
   "display_name": "Python 3 (ipykernel)",
   "language": "python",
   "name": "python3"
  },
  "language_info": {
   "codemirror_mode": {
    "name": "ipython",
    "version": 3
   },
   "file_extension": ".py",
   "mimetype": "text/x-python",
   "name": "python",
   "nbconvert_exporter": "python",
   "pygments_lexer": "ipython3",
   "version": "3.9.6"
  }
 },
 "nbformat": 4,
 "nbformat_minor": 5
}
