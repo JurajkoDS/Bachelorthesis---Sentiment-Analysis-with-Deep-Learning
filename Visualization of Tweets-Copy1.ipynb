{
 "cells": [
  {
   "cell_type": "code",
   "execution_count": 1,
   "id": "13ffdf3f",
   "metadata": {},
   "outputs": [
    {
     "name": "stderr",
     "output_type": "stream",
     "text": [
      "/Users/lubicasimkovicova/dev/myvenv/lib/python3.9/site-packages/urllib3/__init__.py:34: NotOpenSSLWarning: urllib3 v2 only supports OpenSSL 1.1.1+, currently the 'ssl' module is compiled with 'LibreSSL 2.8.3'. See: https://github.com/urllib3/urllib3/issues/3020\n",
      "  warnings.warn(\n"
     ]
    }
   ],
   "source": [
    "import tensorflow as tf\n",
    "import pandas as pd\n",
    "import regex as re\n",
    "from keras.preprocessing.text import Tokenizer\n",
    "from keras_preprocessing.sequence import pad_sequences\n",
    "from keras import regularizers\n",
    "import numpy as np"
   ]
  },
  {
   "cell_type": "code",
   "execution_count": 2,
   "id": "ec2d835e",
   "metadata": {},
   "outputs": [],
   "source": [
    "# Load the saved model\n",
    "loaded_model = tf.keras.models.load_model(\"/Users/lubicasimkovicova/Desktop/Bachelorthesis---Sentiment-Analysis-with-Deep-Learning-main-2/model_new\")"
   ]
  },
  {
   "cell_type": "code",
   "execution_count": 3,
   "id": "56ed9600",
   "metadata": {},
   "outputs": [],
   "source": [
    "# import tweets from Clinton and Trump\n",
    "df = pd.read_csv('/Users/lubicasimkovicova/Desktop/Bachelorthesis---Sentiment-Analysis-with-Deep-Learning-main-2/tweets_clinton_trump.csv')"
   ]
  },
  {
   "cell_type": "code",
   "execution_count": 4,
   "id": "dee01109",
   "metadata": {},
   "outputs": [
    {
     "data": {
      "text/html": [
       "<div>\n",
       "<style scoped>\n",
       "    .dataframe tbody tr th:only-of-type {\n",
       "        vertical-align: middle;\n",
       "    }\n",
       "\n",
       "    .dataframe tbody tr th {\n",
       "        vertical-align: top;\n",
       "    }\n",
       "\n",
       "    .dataframe thead th {\n",
       "        text-align: right;\n",
       "    }\n",
       "</style>\n",
       "<table border=\"1\" class=\"dataframe\">\n",
       "  <thead>\n",
       "    <tr style=\"text-align: right;\">\n",
       "      <th></th>\n",
       "      <th>id</th>\n",
       "      <th>handle</th>\n",
       "      <th>text</th>\n",
       "      <th>is_retweet</th>\n",
       "      <th>original_author</th>\n",
       "      <th>time</th>\n",
       "      <th>in_reply_to_screen_name</th>\n",
       "      <th>in_reply_to_status_id</th>\n",
       "      <th>in_reply_to_user_id</th>\n",
       "      <th>is_quote_status</th>\n",
       "      <th>...</th>\n",
       "      <th>place_type</th>\n",
       "      <th>place_country_code</th>\n",
       "      <th>place_country</th>\n",
       "      <th>place_contained_within</th>\n",
       "      <th>place_attributes</th>\n",
       "      <th>place_bounding_box</th>\n",
       "      <th>source_url</th>\n",
       "      <th>truncated</th>\n",
       "      <th>entities</th>\n",
       "      <th>extended_entities</th>\n",
       "    </tr>\n",
       "  </thead>\n",
       "  <tbody>\n",
       "    <tr>\n",
       "      <th>0</th>\n",
       "      <td>780925634159796224</td>\n",
       "      <td>HillaryClinton</td>\n",
       "      <td>The question in this election: Who can put the...</td>\n",
       "      <td>False</td>\n",
       "      <td>NaN</td>\n",
       "      <td>2016-09-28T00:22:34</td>\n",
       "      <td>NaN</td>\n",
       "      <td>NaN</td>\n",
       "      <td>NaN</td>\n",
       "      <td>False</td>\n",
       "      <td>...</td>\n",
       "      <td>NaN</td>\n",
       "      <td>NaN</td>\n",
       "      <td>NaN</td>\n",
       "      <td>NaN</td>\n",
       "      <td>NaN</td>\n",
       "      <td>NaN</td>\n",
       "      <td>https://studio.twitter.com</td>\n",
       "      <td>False</td>\n",
       "      <td>{'media': [{'display_url': 'pic.twitter.com/Xr...</td>\n",
       "      <td>{'media': [{'display_url': 'pic.twitter.com/Xr...</td>\n",
       "    </tr>\n",
       "    <tr>\n",
       "      <th>1</th>\n",
       "      <td>780916180899037184</td>\n",
       "      <td>HillaryClinton</td>\n",
       "      <td>Last night, Donald Trump said not paying taxes...</td>\n",
       "      <td>True</td>\n",
       "      <td>timkaine</td>\n",
       "      <td>2016-09-27T23:45:00</td>\n",
       "      <td>NaN</td>\n",
       "      <td>NaN</td>\n",
       "      <td>NaN</td>\n",
       "      <td>False</td>\n",
       "      <td>...</td>\n",
       "      <td>NaN</td>\n",
       "      <td>NaN</td>\n",
       "      <td>NaN</td>\n",
       "      <td>NaN</td>\n",
       "      <td>NaN</td>\n",
       "      <td>NaN</td>\n",
       "      <td>http://twitter.com</td>\n",
       "      <td>False</td>\n",
       "      <td>{'media': [{'display_url': 'pic.twitter.com/t0...</td>\n",
       "      <td>{'media': [{'display_url': 'pic.twitter.com/t0...</td>\n",
       "    </tr>\n",
       "    <tr>\n",
       "      <th>2</th>\n",
       "      <td>780911564857761793</td>\n",
       "      <td>HillaryClinton</td>\n",
       "      <td>Couldn't be more proud of @HillaryClinton. Her...</td>\n",
       "      <td>True</td>\n",
       "      <td>POTUS</td>\n",
       "      <td>2016-09-27T23:26:40</td>\n",
       "      <td>NaN</td>\n",
       "      <td>NaN</td>\n",
       "      <td>NaN</td>\n",
       "      <td>False</td>\n",
       "      <td>...</td>\n",
       "      <td>NaN</td>\n",
       "      <td>NaN</td>\n",
       "      <td>NaN</td>\n",
       "      <td>NaN</td>\n",
       "      <td>NaN</td>\n",
       "      <td>NaN</td>\n",
       "      <td>https://about.twitter.com/products/tweetdeck</td>\n",
       "      <td>False</td>\n",
       "      <td>{'user_mentions': [{'id_str': '1536791610', 'n...</td>\n",
       "      <td>NaN</td>\n",
       "    </tr>\n",
       "    <tr>\n",
       "      <th>3</th>\n",
       "      <td>780907038650068994</td>\n",
       "      <td>HillaryClinton</td>\n",
       "      <td>If we stand together, there's nothing we can't...</td>\n",
       "      <td>False</td>\n",
       "      <td>NaN</td>\n",
       "      <td>2016-09-27T23:08:41</td>\n",
       "      <td>NaN</td>\n",
       "      <td>NaN</td>\n",
       "      <td>NaN</td>\n",
       "      <td>False</td>\n",
       "      <td>...</td>\n",
       "      <td>NaN</td>\n",
       "      <td>NaN</td>\n",
       "      <td>NaN</td>\n",
       "      <td>NaN</td>\n",
       "      <td>NaN</td>\n",
       "      <td>NaN</td>\n",
       "      <td>https://studio.twitter.com</td>\n",
       "      <td>False</td>\n",
       "      <td>{'media': [{'display_url': 'pic.twitter.com/Q3...</td>\n",
       "      <td>{'media': [{'display_url': 'pic.twitter.com/Q3...</td>\n",
       "    </tr>\n",
       "    <tr>\n",
       "      <th>4</th>\n",
       "      <td>780897419462602752</td>\n",
       "      <td>HillaryClinton</td>\n",
       "      <td>Both candidates were asked about how they'd co...</td>\n",
       "      <td>False</td>\n",
       "      <td>NaN</td>\n",
       "      <td>2016-09-27T22:30:27</td>\n",
       "      <td>NaN</td>\n",
       "      <td>NaN</td>\n",
       "      <td>NaN</td>\n",
       "      <td>False</td>\n",
       "      <td>...</td>\n",
       "      <td>NaN</td>\n",
       "      <td>NaN</td>\n",
       "      <td>NaN</td>\n",
       "      <td>NaN</td>\n",
       "      <td>NaN</td>\n",
       "      <td>NaN</td>\n",
       "      <td>https://about.twitter.com/products/tweetdeck</td>\n",
       "      <td>False</td>\n",
       "      <td>{'user_mentions': [], 'symbols': [], 'urls': [...</td>\n",
       "      <td>NaN</td>\n",
       "    </tr>\n",
       "  </tbody>\n",
       "</table>\n",
       "<p>5 rows × 28 columns</p>\n",
       "</div>"
      ],
      "text/plain": [
       "                   id          handle  \\\n",
       "0  780925634159796224  HillaryClinton   \n",
       "1  780916180899037184  HillaryClinton   \n",
       "2  780911564857761793  HillaryClinton   \n",
       "3  780907038650068994  HillaryClinton   \n",
       "4  780897419462602752  HillaryClinton   \n",
       "\n",
       "                                                text  is_retweet  \\\n",
       "0  The question in this election: Who can put the...       False   \n",
       "1  Last night, Donald Trump said not paying taxes...        True   \n",
       "2  Couldn't be more proud of @HillaryClinton. Her...        True   \n",
       "3  If we stand together, there's nothing we can't...       False   \n",
       "4  Both candidates were asked about how they'd co...       False   \n",
       "\n",
       "  original_author                 time in_reply_to_screen_name  \\\n",
       "0             NaN  2016-09-28T00:22:34                     NaN   \n",
       "1        timkaine  2016-09-27T23:45:00                     NaN   \n",
       "2           POTUS  2016-09-27T23:26:40                     NaN   \n",
       "3             NaN  2016-09-27T23:08:41                     NaN   \n",
       "4             NaN  2016-09-27T22:30:27                     NaN   \n",
       "\n",
       "   in_reply_to_status_id  in_reply_to_user_id  is_quote_status  ...  \\\n",
       "0                    NaN                  NaN            False  ...   \n",
       "1                    NaN                  NaN            False  ...   \n",
       "2                    NaN                  NaN            False  ...   \n",
       "3                    NaN                  NaN            False  ...   \n",
       "4                    NaN                  NaN            False  ...   \n",
       "\n",
       "  place_type  place_country_code  place_country  place_contained_within  \\\n",
       "0        NaN                 NaN            NaN                     NaN   \n",
       "1        NaN                 NaN            NaN                     NaN   \n",
       "2        NaN                 NaN            NaN                     NaN   \n",
       "3        NaN                 NaN            NaN                     NaN   \n",
       "4        NaN                 NaN            NaN                     NaN   \n",
       "\n",
       "   place_attributes place_bounding_box  \\\n",
       "0               NaN                NaN   \n",
       "1               NaN                NaN   \n",
       "2               NaN                NaN   \n",
       "3               NaN                NaN   \n",
       "4               NaN                NaN   \n",
       "\n",
       "                                     source_url truncated  \\\n",
       "0                    https://studio.twitter.com     False   \n",
       "1                            http://twitter.com     False   \n",
       "2  https://about.twitter.com/products/tweetdeck     False   \n",
       "3                    https://studio.twitter.com     False   \n",
       "4  https://about.twitter.com/products/tweetdeck     False   \n",
       "\n",
       "                                            entities  \\\n",
       "0  {'media': [{'display_url': 'pic.twitter.com/Xr...   \n",
       "1  {'media': [{'display_url': 'pic.twitter.com/t0...   \n",
       "2  {'user_mentions': [{'id_str': '1536791610', 'n...   \n",
       "3  {'media': [{'display_url': 'pic.twitter.com/Q3...   \n",
       "4  {'user_mentions': [], 'symbols': [], 'urls': [...   \n",
       "\n",
       "                                   extended_entities  \n",
       "0  {'media': [{'display_url': 'pic.twitter.com/Xr...  \n",
       "1  {'media': [{'display_url': 'pic.twitter.com/t0...  \n",
       "2                                                NaN  \n",
       "3  {'media': [{'display_url': 'pic.twitter.com/Q3...  \n",
       "4                                                NaN  \n",
       "\n",
       "[5 rows x 28 columns]"
      ]
     },
     "execution_count": 4,
     "metadata": {},
     "output_type": "execute_result"
    }
   ],
   "source": [
    "df.head()"
   ]
  },
  {
   "cell_type": "code",
   "execution_count": 5,
   "id": "13b6f2d3",
   "metadata": {},
   "outputs": [
    {
     "data": {
      "text/plain": [
       "Index(['id', 'handle', 'text', 'is_retweet', 'original_author', 'time',\n",
       "       'in_reply_to_screen_name', 'in_reply_to_status_id',\n",
       "       'in_reply_to_user_id', 'is_quote_status', 'lang', 'retweet_count',\n",
       "       'favorite_count', 'longitude', 'latitude', 'place_id',\n",
       "       'place_full_name', 'place_name', 'place_type', 'place_country_code',\n",
       "       'place_country', 'place_contained_within', 'place_attributes',\n",
       "       'place_bounding_box', 'source_url', 'truncated', 'entities',\n",
       "       'extended_entities'],\n",
       "      dtype='object')"
      ]
     },
     "execution_count": 5,
     "metadata": {},
     "output_type": "execute_result"
    }
   ],
   "source": [
    "df.columns"
   ]
  },
  {
   "cell_type": "code",
   "execution_count": 6,
   "id": "5eb75913",
   "metadata": {},
   "outputs": [],
   "source": [
    "text_handle = df.drop(['id', 'is_retweet', 'original_author', 'time',\n",
    "       'in_reply_to_screen_name', 'in_reply_to_status_id',\n",
    "       'in_reply_to_user_id', 'is_quote_status', 'lang', 'retweet_count',\n",
    "       'favorite_count', 'longitude', 'latitude', 'place_id',\n",
    "       'place_full_name', 'place_name', 'place_type', 'place_country_code',\n",
    "       'place_country', 'place_contained_within', 'place_attributes',\n",
    "       'place_bounding_box', 'source_url', 'truncated', 'entities',\n",
    "       'extended_entities'],axis=1)"
   ]
  },
  {
   "cell_type": "code",
   "execution_count": 7,
   "id": "3f9ce86e",
   "metadata": {},
   "outputs": [
    {
     "data": {
      "text/html": [
       "<div>\n",
       "<style scoped>\n",
       "    .dataframe tbody tr th:only-of-type {\n",
       "        vertical-align: middle;\n",
       "    }\n",
       "\n",
       "    .dataframe tbody tr th {\n",
       "        vertical-align: top;\n",
       "    }\n",
       "\n",
       "    .dataframe thead th {\n",
       "        text-align: right;\n",
       "    }\n",
       "</style>\n",
       "<table border=\"1\" class=\"dataframe\">\n",
       "  <thead>\n",
       "    <tr style=\"text-align: right;\">\n",
       "      <th></th>\n",
       "      <th>handle</th>\n",
       "      <th>text</th>\n",
       "    </tr>\n",
       "  </thead>\n",
       "  <tbody>\n",
       "    <tr>\n",
       "      <th>6439</th>\n",
       "      <td>realDonaldTrump</td>\n",
       "      <td>\"@lilredfrmkokomo: @realDonaldTrump My Faceboo...</td>\n",
       "    </tr>\n",
       "    <tr>\n",
       "      <th>6440</th>\n",
       "      <td>realDonaldTrump</td>\n",
       "      <td>\"@marybnall01: @realDonaldTrump watched lowell...</td>\n",
       "    </tr>\n",
       "    <tr>\n",
       "      <th>6441</th>\n",
       "      <td>realDonaldTrump</td>\n",
       "      <td>\"@ghosthunter_lol: Iowa key endorsement for @r...</td>\n",
       "    </tr>\n",
       "    <tr>\n",
       "      <th>6442</th>\n",
       "      <td>realDonaldTrump</td>\n",
       "      <td>\"@iLoveiDevices: @EdwinRo47796972 @happyjack22...</td>\n",
       "    </tr>\n",
       "    <tr>\n",
       "      <th>6443</th>\n",
       "      <td>realDonaldTrump</td>\n",
       "      <td>\"@SalRiccobono: @realDonaldTrump @troyconway D...</td>\n",
       "    </tr>\n",
       "  </tbody>\n",
       "</table>\n",
       "</div>"
      ],
      "text/plain": [
       "               handle                                               text\n",
       "6439  realDonaldTrump  \"@lilredfrmkokomo: @realDonaldTrump My Faceboo...\n",
       "6440  realDonaldTrump  \"@marybnall01: @realDonaldTrump watched lowell...\n",
       "6441  realDonaldTrump  \"@ghosthunter_lol: Iowa key endorsement for @r...\n",
       "6442  realDonaldTrump  \"@iLoveiDevices: @EdwinRo47796972 @happyjack22...\n",
       "6443  realDonaldTrump  \"@SalRiccobono: @realDonaldTrump @troyconway D..."
      ]
     },
     "execution_count": 7,
     "metadata": {},
     "output_type": "execute_result"
    }
   ],
   "source": [
    "text_handle.tail()"
   ]
  },
  {
   "cell_type": "code",
   "execution_count": 8,
   "id": "12074aff",
   "metadata": {},
   "outputs": [],
   "source": [
    "def cleantext(text):\n",
    "    text = re.sub(r'@[A-Za-z0-9]+','', text) #remove mentions\n",
    "    text = re.sub(r'#','', text) #remove hash\n",
    "    text = re.sub(r'https?:\\/\\/\\S+', '', text) #remove hyperlink\n",
    "    text = re.sub('\\s+', ' ', text) #remove new line char\n",
    "    text = re.sub(\"\\'\", \"\", text) #remove single quotes\n",
    "    \n",
    "    return text"
   ]
  },
  {
   "cell_type": "code",
   "execution_count": 9,
   "id": "e270a1d4",
   "metadata": {},
   "outputs": [],
   "source": [
    "text_handle[\"text\"] = text_handle[\"text\"].apply(cleantext)"
   ]
  },
  {
   "cell_type": "code",
   "execution_count": 10,
   "id": "7fcb5b36",
   "metadata": {},
   "outputs": [
    {
     "data": {
      "text/plain": [
       "0     The question in this election: Who can put the...\n",
       "1     Last night, Donald Trump said not paying taxes...\n",
       "2     Couldnt be more proud of . Her vision and comm...\n",
       "3     If we stand together, theres nothing we cant d...\n",
       "4     Both candidates were asked about how theyd con...\n",
       "5     Join me for a 3pm rally - tomorrow at the Mid-...\n",
       "6     This election is too important to sit out. Go ...\n",
       "7       When Donald Trump goes low...register to vote: \n",
       "8     Once again, we will have a government of, by a...\n",
       "9     3) Has Trump offered a single proposal to redu...\n",
       "10    The election is just weeks away. Check if your...\n",
       "11    On National VoterRegistrationDay, make sure yo...\n",
       "12    Hillary Clintons Campaign Continues To Make Fa...\n",
       "13    CNBC, Time magazine online polls say Donald Tr...\n",
       "14    Donald Trump lied to the American people at le...\n",
       "Name: text, dtype: object"
      ]
     },
     "execution_count": 10,
     "metadata": {},
     "output_type": "execute_result"
    }
   ],
   "source": [
    "text_handle[\"text\"].head(15)"
   ]
  },
  {
   "cell_type": "code",
   "execution_count": 11,
   "id": "18d7b74e",
   "metadata": {},
   "outputs": [],
   "source": [
    "import string\n",
    "text_handle[\"text\"] = text_handle[\"text\"].apply(lambda wrd:[ltrs.lower() for ltrs in wrd if ltrs not in string.punctuation])"
   ]
  },
  {
   "cell_type": "code",
   "execution_count": 12,
   "id": "087a233c",
   "metadata": {},
   "outputs": [],
   "source": [
    "text_handle[\"text\"] = text_handle[\"text\"].apply(lambda wrd: ''.join(wrd))"
   ]
  },
  {
   "cell_type": "code",
   "execution_count": 13,
   "id": "29ae2276",
   "metadata": {},
   "outputs": [
    {
     "data": {
      "text/plain": [
       "0       the question in this election who can put the ...\n",
       "1       last night donald trump said not paying taxes ...\n",
       "2       couldnt be more proud of  her vision and comma...\n",
       "3       if we stand together theres nothing we cant do...\n",
       "4       both candidates were asked about how theyd con...\n",
       "                              ...                        \n",
       "6439     my facebook groups are all voting trump 4000 ...\n",
       "6440     watched lowell mass speech awesome great crow...\n",
       "6441    lol iowa key endorsement for cant wait for the...\n",
       "6442     minimizing dependency on china is crucialonly...\n",
       "6443     donald get big business back and make america...\n",
       "Name: text, Length: 6444, dtype: object"
      ]
     },
     "execution_count": 13,
     "metadata": {},
     "output_type": "execute_result"
    }
   ],
   "source": [
    "text_handle[\"text\"]"
   ]
  },
  {
   "cell_type": "code",
   "execution_count": 14,
   "id": "272c9a66",
   "metadata": {},
   "outputs": [],
   "source": [
    "from nltk.corpus import stopwords"
   ]
  },
  {
   "cell_type": "code",
   "execution_count": 15,
   "id": "76927f93",
   "metadata": {},
   "outputs": [],
   "source": [
    "text_handle[\"text\"][:50] = text_handle[\"text\"][:50].apply(lambda x: ' '.join([word for word in x.split() if word not in stopwords.words(\"english\")]))"
   ]
  },
  {
   "cell_type": "code",
   "execution_count": 16,
   "id": "6dbbd032",
   "metadata": {},
   "outputs": [
    {
     "data": {
      "text/plain": [
       "0       question election put plans action make life b...\n",
       "1       last night donald trump said paying taxes smar...\n",
       "2       couldnt proud vision command last nights debat...\n",
       "3       stand together theres nothing cant make sure y...\n",
       "4       candidates asked theyd confront racial injusti...\n",
       "                              ...                        \n",
       "6439     my facebook groups are all voting trump 4000 ...\n",
       "6440     watched lowell mass speech awesome great crow...\n",
       "6441    lol iowa key endorsement for cant wait for the...\n",
       "6442     minimizing dependency on china is crucialonly...\n",
       "6443     donald get big business back and make america...\n",
       "Name: text, Length: 6444, dtype: object"
      ]
     },
     "execution_count": 16,
     "metadata": {},
     "output_type": "execute_result"
    }
   ],
   "source": [
    "text_handle[\"text\"]"
   ]
  },
  {
   "cell_type": "code",
   "execution_count": 17,
   "id": "8aaa6c49",
   "metadata": {},
   "outputs": [],
   "source": [
    "import gensim\n",
    "def sent_to_words(sentences):\n",
    "    for sentence in sentences:\n",
    "        yield(gensim.utils.simple_preprocess(str(sentence),     deacc=True))"
   ]
  },
  {
   "cell_type": "code",
   "execution_count": 18,
   "id": "808f875d",
   "metadata": {},
   "outputs": [],
   "source": [
    "from nltk.tokenize.treebank import TreebankWordDetokenizer\n",
    "def detokenize(text):\n",
    "    return TreebankWordDetokenizer().detokenize(text)"
   ]
  },
  {
   "cell_type": "code",
   "execution_count": 19,
   "id": "a1a36e4e",
   "metadata": {},
   "outputs": [],
   "source": [
    "temp = []\n",
    "data_to_list = text_handle['text'].values.tolist()\n",
    "for i in range(len(data_to_list)):\n",
    "    temp.append(data_to_list[i])\n",
    "data_wordslem = list(sent_to_words(temp))"
   ]
  },
  {
   "cell_type": "markdown",
   "id": "91d9abae",
   "metadata": {},
   "source": [
    "Using Lemmatizer instead of stemming. Lemmatizer is preffered over stemming. Lemmatizer find the root word whereas Stemmizer shorten the word. For Example, word 'Caring' -> Lemmatizer -> 'Care' WHEREAS 'Caring' -> Stemming -> 'Car'"
   ]
  },
  {
   "cell_type": "code",
   "execution_count": 20,
   "id": "ec196ca6",
   "metadata": {},
   "outputs": [],
   "source": [
    "import nltk\n",
    "lemmatizer = nltk.stem.WordNetLemmatizer()"
   ]
  },
  {
   "cell_type": "code",
   "execution_count": 21,
   "id": "fc1ff42f",
   "metadata": {},
   "outputs": [
    {
     "name": "stderr",
     "output_type": "stream",
     "text": [
      "[nltk_data] Downloading package omw-1.4 to\n",
      "[nltk_data]     /Users/lubicasimkovicova/nltk_data...\n",
      "[nltk_data]   Package omw-1.4 is already up-to-date!\n"
     ]
    },
    {
     "data": {
      "text/plain": [
       "True"
      ]
     },
     "execution_count": 21,
     "metadata": {},
     "output_type": "execute_result"
    }
   ],
   "source": [
    "nltk.download('omw-1.4')"
   ]
  },
  {
   "cell_type": "code",
   "execution_count": 22,
   "id": "13c82161",
   "metadata": {},
   "outputs": [],
   "source": [
    "for i in range(len(data_wordslem)):\n",
    "    for j in range(len(data_wordslem[i])):\n",
    "        data_wordslem[i][j] = lemmatizer.lemmatize(data_wordslem[i][j],pos=\"v\")"
   ]
  },
  {
   "cell_type": "code",
   "execution_count": 23,
   "id": "b43365b3",
   "metadata": {},
   "outputs": [
    {
     "name": "stdout",
     "output_type": "stream",
     "text": [
      "['question election put plan action make life better', 'last night donald trump say pay tax smart know call unpatriotic', 'couldnt proud vision command last nights debate show shes ready next', 'stand together theres nothing cant make sure youre ready vote', 'candidates ask theyd confront racial injustice one real answer']\n"
     ]
    }
   ],
   "source": [
    "data = []\n",
    "for i in range(len(data_wordslem)):\n",
    "    data.append(detokenize(data_wordslem[i]))\n",
    "print(data[:5])"
   ]
  },
  {
   "cell_type": "code",
   "execution_count": 24,
   "id": "91be6a5e",
   "metadata": {},
   "outputs": [
    {
     "data": {
      "text/html": [
       "<div>\n",
       "<style scoped>\n",
       "    .dataframe tbody tr th:only-of-type {\n",
       "        vertical-align: middle;\n",
       "    }\n",
       "\n",
       "    .dataframe tbody tr th {\n",
       "        vertical-align: top;\n",
       "    }\n",
       "\n",
       "    .dataframe thead th {\n",
       "        text-align: right;\n",
       "    }\n",
       "</style>\n",
       "<table border=\"1\" class=\"dataframe\">\n",
       "  <thead>\n",
       "    <tr style=\"text-align: right;\">\n",
       "      <th></th>\n",
       "      <th>handle</th>\n",
       "      <th>text</th>\n",
       "      <th>data</th>\n",
       "    </tr>\n",
       "  </thead>\n",
       "  <tbody>\n",
       "    <tr>\n",
       "      <th>0</th>\n",
       "      <td>HillaryClinton</td>\n",
       "      <td>question election put plans action make life b...</td>\n",
       "      <td>question election put plan action make life be...</td>\n",
       "    </tr>\n",
       "    <tr>\n",
       "      <th>1</th>\n",
       "      <td>HillaryClinton</td>\n",
       "      <td>last night donald trump said paying taxes smar...</td>\n",
       "      <td>last night donald trump say pay tax smart know...</td>\n",
       "    </tr>\n",
       "    <tr>\n",
       "      <th>2</th>\n",
       "      <td>HillaryClinton</td>\n",
       "      <td>couldnt proud vision command last nights debat...</td>\n",
       "      <td>couldnt proud vision command last nights debat...</td>\n",
       "    </tr>\n",
       "    <tr>\n",
       "      <th>3</th>\n",
       "      <td>HillaryClinton</td>\n",
       "      <td>stand together theres nothing cant make sure y...</td>\n",
       "      <td>stand together theres nothing cant make sure y...</td>\n",
       "    </tr>\n",
       "    <tr>\n",
       "      <th>4</th>\n",
       "      <td>HillaryClinton</td>\n",
       "      <td>candidates asked theyd confront racial injusti...</td>\n",
       "      <td>candidates ask theyd confront racial injustice...</td>\n",
       "    </tr>\n",
       "    <tr>\n",
       "      <th>...</th>\n",
       "      <td>...</td>\n",
       "      <td>...</td>\n",
       "      <td>...</td>\n",
       "    </tr>\n",
       "    <tr>\n",
       "      <th>6439</th>\n",
       "      <td>realDonaldTrump</td>\n",
       "      <td>my facebook groups are all voting trump 4000 ...</td>\n",
       "      <td>my facebook group be all vote trump people great</td>\n",
       "    </tr>\n",
       "    <tr>\n",
       "      <th>6440</th>\n",
       "      <td>realDonaldTrump</td>\n",
       "      <td>watched lowell mass speech awesome great crow...</td>\n",
       "      <td>watch lowell mass speech awesome great crowd m...</td>\n",
       "    </tr>\n",
       "    <tr>\n",
       "      <th>6441</th>\n",
       "      <td>realDonaldTrump</td>\n",
       "      <td>lol iowa key endorsement for cant wait for the...</td>\n",
       "      <td>lol iowa key endorsement for cant wait for the...</td>\n",
       "    </tr>\n",
       "    <tr>\n",
       "      <th>6442</th>\n",
       "      <td>realDonaldTrump</td>\n",
       "      <td>minimizing dependency on china is crucialonly...</td>\n",
       "      <td>minimize dependency on china be crucialonly tr...</td>\n",
       "    </tr>\n",
       "    <tr>\n",
       "      <th>6443</th>\n",
       "      <td>realDonaldTrump</td>\n",
       "      <td>donald get big business back and make america...</td>\n",
       "      <td>donald get big business back and make america ...</td>\n",
       "    </tr>\n",
       "  </tbody>\n",
       "</table>\n",
       "<p>6444 rows × 3 columns</p>\n",
       "</div>"
      ],
      "text/plain": [
       "               handle                                               text  \\\n",
       "0      HillaryClinton  question election put plans action make life b...   \n",
       "1      HillaryClinton  last night donald trump said paying taxes smar...   \n",
       "2      HillaryClinton  couldnt proud vision command last nights debat...   \n",
       "3      HillaryClinton  stand together theres nothing cant make sure y...   \n",
       "4      HillaryClinton  candidates asked theyd confront racial injusti...   \n",
       "...               ...                                                ...   \n",
       "6439  realDonaldTrump   my facebook groups are all voting trump 4000 ...   \n",
       "6440  realDonaldTrump   watched lowell mass speech awesome great crow...   \n",
       "6441  realDonaldTrump  lol iowa key endorsement for cant wait for the...   \n",
       "6442  realDonaldTrump   minimizing dependency on china is crucialonly...   \n",
       "6443  realDonaldTrump   donald get big business back and make america...   \n",
       "\n",
       "                                                   data  \n",
       "0     question election put plan action make life be...  \n",
       "1     last night donald trump say pay tax smart know...  \n",
       "2     couldnt proud vision command last nights debat...  \n",
       "3     stand together theres nothing cant make sure y...  \n",
       "4     candidates ask theyd confront racial injustice...  \n",
       "...                                                 ...  \n",
       "6439   my facebook group be all vote trump people great  \n",
       "6440  watch lowell mass speech awesome great crowd m...  \n",
       "6441  lol iowa key endorsement for cant wait for the...  \n",
       "6442  minimize dependency on china be crucialonly tr...  \n",
       "6443  donald get big business back and make america ...  \n",
       "\n",
       "[6444 rows x 3 columns]"
      ]
     },
     "execution_count": 24,
     "metadata": {},
     "output_type": "execute_result"
    }
   ],
   "source": [
    "# add new cleaned column to dataframe\n",
    "text_handle[\"data\"] = data\n",
    "text_handle"
   ]
  },
  {
   "cell_type": "code",
   "execution_count": 25,
   "id": "ce71508c",
   "metadata": {},
   "outputs": [
    {
     "data": {
      "text/plain": [
       "(6444, 3)"
      ]
     },
     "execution_count": 25,
     "metadata": {},
     "output_type": "execute_result"
    }
   ],
   "source": [
    "text_handle.shape"
   ]
  },
  {
   "cell_type": "code",
   "execution_count": 26,
   "id": "b590540b",
   "metadata": {},
   "outputs": [
    {
     "name": "stdout",
     "output_type": "stream",
     "text": [
      "[[   0    0    0 ...   22  249  154]\n",
      " [   0    0    0 ...   78  143 3695]\n",
      " [   0    0    0 ...  581  318  236]\n",
      " ...\n",
      " [   0    0    0 ...    5 1090    6]\n",
      " [   0    0    0 ...  145   39   15]\n",
      " [   0    0    0 ...   24   80    9]]\n"
     ]
    }
   ],
   "source": [
    "max_words = 5000\n",
    "max_len = 200\n",
    "\n",
    "tokenizer = Tokenizer(num_words=max_words)\n",
    "tokenizer.fit_on_texts(data)\n",
    "sequences = tokenizer.texts_to_sequences(data)\n",
    "tweets = pad_sequences(sequences, maxlen=max_len)\n",
    "print(tweets)"
   ]
  },
  {
   "cell_type": "code",
   "execution_count": 27,
   "id": "221a7d47",
   "metadata": {},
   "outputs": [],
   "source": [
    "# apply the model\n",
    "#predictions = loaded_model.predict(tweets)"
   ]
  },
  {
   "cell_type": "code",
   "execution_count": 28,
   "id": "967cdb58",
   "metadata": {},
   "outputs": [],
   "source": [
    "sentiment = ['Neutral','Negative','Positive']"
   ]
  },
  {
   "cell_type": "code",
   "execution_count": 29,
   "id": "7e701448",
   "metadata": {
    "scrolled": true
   },
   "outputs": [
    {
     "name": "stdout",
     "output_type": "stream",
     "text": [
      "1/1 [==============================] - 0s 376ms/step\n"
     ]
    },
    {
     "data": {
      "text/plain": [
       "'Positive'"
      ]
     },
     "execution_count": 29,
     "metadata": {},
     "output_type": "execute_result"
    }
   ],
   "source": [
    "sequence = tokenizer.texts_to_sequences(['I go to gym daily'])\n",
    "test = pad_sequences(sequence, maxlen=max_len)\n",
    "sentiment[np.around(loaded_model.predict(test), decimals=0).argmax(axis=1)[0]]"
   ]
  },
  {
   "cell_type": "code",
   "execution_count": 30,
   "id": "cfc028c6",
   "metadata": {},
   "outputs": [
    {
     "data": {
      "text/plain": [
       "array(['HillaryClinton', 'realDonaldTrump'], dtype=object)"
      ]
     },
     "execution_count": 30,
     "metadata": {},
     "output_type": "execute_result"
    }
   ],
   "source": [
    "unique_handles = text_handle[\"handle\"].unique()\n",
    "unique_handles"
   ]
  },
  {
   "cell_type": "code",
   "execution_count": 31,
   "id": "f0439893",
   "metadata": {},
   "outputs": [],
   "source": [
    "def sentiment_analysis2(data):\n",
    "    sentiment_storage = []\n",
    "    for d in data:\n",
    "        sequence = tokenizer.texts_to_sequences([d])        \n",
    "        test = pad_sequences(sequence, maxlen=max_len)\n",
    "        prediction = loaded_model.predict(test, verbose=0)\n",
    "        sentiment_label = sentiment[np.argmax(prediction)]\n",
    "        sentiment_storage.append(sentiment_label)\n",
    "\n",
    "    return sentiment_storage"
   ]
  },
  {
   "cell_type": "code",
   "execution_count": 32,
   "id": "43702deb",
   "metadata": {
    "scrolled": true
   },
   "outputs": [],
   "source": [
    "# This took a very long time (45min - 1hr). It predicted the sentiment of each\n",
    "# of the approximately 6600 Twitter posts.\n",
    "\n",
    "predicted_sentiment = sentiment_analysis2(data)"
   ]
  },
  {
   "cell_type": "code",
   "execution_count": 33,
   "id": "09df7336",
   "metadata": {},
   "outputs": [],
   "source": [
    "text_handle[\"predicted_sentiment\"] = predicted_sentiment"
   ]
  },
  {
   "cell_type": "code",
   "execution_count": 34,
   "id": "e5e94881",
   "metadata": {},
   "outputs": [
    {
     "data": {
      "text/html": [
       "<div>\n",
       "<style scoped>\n",
       "    .dataframe tbody tr th:only-of-type {\n",
       "        vertical-align: middle;\n",
       "    }\n",
       "\n",
       "    .dataframe tbody tr th {\n",
       "        vertical-align: top;\n",
       "    }\n",
       "\n",
       "    .dataframe thead th {\n",
       "        text-align: right;\n",
       "    }\n",
       "</style>\n",
       "<table border=\"1\" class=\"dataframe\">\n",
       "  <thead>\n",
       "    <tr style=\"text-align: right;\">\n",
       "      <th></th>\n",
       "      <th>handle</th>\n",
       "      <th>text</th>\n",
       "      <th>data</th>\n",
       "      <th>predicted_sentiment</th>\n",
       "    </tr>\n",
       "  </thead>\n",
       "  <tbody>\n",
       "    <tr>\n",
       "      <th>0</th>\n",
       "      <td>HillaryClinton</td>\n",
       "      <td>question election put plans action make life b...</td>\n",
       "      <td>question election put plan action make life be...</td>\n",
       "      <td>Neutral</td>\n",
       "    </tr>\n",
       "    <tr>\n",
       "      <th>1</th>\n",
       "      <td>HillaryClinton</td>\n",
       "      <td>last night donald trump said paying taxes smar...</td>\n",
       "      <td>last night donald trump say pay tax smart know...</td>\n",
       "      <td>Neutral</td>\n",
       "    </tr>\n",
       "    <tr>\n",
       "      <th>2</th>\n",
       "      <td>HillaryClinton</td>\n",
       "      <td>couldnt proud vision command last nights debat...</td>\n",
       "      <td>couldnt proud vision command last nights debat...</td>\n",
       "      <td>Neutral</td>\n",
       "    </tr>\n",
       "    <tr>\n",
       "      <th>3</th>\n",
       "      <td>HillaryClinton</td>\n",
       "      <td>stand together theres nothing cant make sure y...</td>\n",
       "      <td>stand together theres nothing cant make sure y...</td>\n",
       "      <td>Negative</td>\n",
       "    </tr>\n",
       "    <tr>\n",
       "      <th>4</th>\n",
       "      <td>HillaryClinton</td>\n",
       "      <td>candidates asked theyd confront racial injusti...</td>\n",
       "      <td>candidates ask theyd confront racial injustice...</td>\n",
       "      <td>Neutral</td>\n",
       "    </tr>\n",
       "    <tr>\n",
       "      <th>...</th>\n",
       "      <td>...</td>\n",
       "      <td>...</td>\n",
       "      <td>...</td>\n",
       "      <td>...</td>\n",
       "    </tr>\n",
       "    <tr>\n",
       "      <th>6439</th>\n",
       "      <td>realDonaldTrump</td>\n",
       "      <td>my facebook groups are all voting trump 4000 ...</td>\n",
       "      <td>my facebook group be all vote trump people great</td>\n",
       "      <td>Neutral</td>\n",
       "    </tr>\n",
       "    <tr>\n",
       "      <th>6440</th>\n",
       "      <td>realDonaldTrump</td>\n",
       "      <td>watched lowell mass speech awesome great crow...</td>\n",
       "      <td>watch lowell mass speech awesome great crowd m...</td>\n",
       "      <td>Neutral</td>\n",
       "    </tr>\n",
       "    <tr>\n",
       "      <th>6441</th>\n",
       "      <td>realDonaldTrump</td>\n",
       "      <td>lol iowa key endorsement for cant wait for the...</td>\n",
       "      <td>lol iowa key endorsement for cant wait for the...</td>\n",
       "      <td>Neutral</td>\n",
       "    </tr>\n",
       "    <tr>\n",
       "      <th>6442</th>\n",
       "      <td>realDonaldTrump</td>\n",
       "      <td>minimizing dependency on china is crucialonly...</td>\n",
       "      <td>minimize dependency on china be crucialonly tr...</td>\n",
       "      <td>Neutral</td>\n",
       "    </tr>\n",
       "    <tr>\n",
       "      <th>6443</th>\n",
       "      <td>realDonaldTrump</td>\n",
       "      <td>donald get big business back and make america...</td>\n",
       "      <td>donald get big business back and make america ...</td>\n",
       "      <td>Neutral</td>\n",
       "    </tr>\n",
       "  </tbody>\n",
       "</table>\n",
       "<p>6444 rows × 4 columns</p>\n",
       "</div>"
      ],
      "text/plain": [
       "               handle                                               text  \\\n",
       "0      HillaryClinton  question election put plans action make life b...   \n",
       "1      HillaryClinton  last night donald trump said paying taxes smar...   \n",
       "2      HillaryClinton  couldnt proud vision command last nights debat...   \n",
       "3      HillaryClinton  stand together theres nothing cant make sure y...   \n",
       "4      HillaryClinton  candidates asked theyd confront racial injusti...   \n",
       "...               ...                                                ...   \n",
       "6439  realDonaldTrump   my facebook groups are all voting trump 4000 ...   \n",
       "6440  realDonaldTrump   watched lowell mass speech awesome great crow...   \n",
       "6441  realDonaldTrump  lol iowa key endorsement for cant wait for the...   \n",
       "6442  realDonaldTrump   minimizing dependency on china is crucialonly...   \n",
       "6443  realDonaldTrump   donald get big business back and make america...   \n",
       "\n",
       "                                                   data predicted_sentiment  \n",
       "0     question election put plan action make life be...             Neutral  \n",
       "1     last night donald trump say pay tax smart know...             Neutral  \n",
       "2     couldnt proud vision command last nights debat...             Neutral  \n",
       "3     stand together theres nothing cant make sure y...            Negative  \n",
       "4     candidates ask theyd confront racial injustice...             Neutral  \n",
       "...                                                 ...                 ...  \n",
       "6439   my facebook group be all vote trump people great             Neutral  \n",
       "6440  watch lowell mass speech awesome great crowd m...             Neutral  \n",
       "6441  lol iowa key endorsement for cant wait for the...             Neutral  \n",
       "6442  minimize dependency on china be crucialonly tr...             Neutral  \n",
       "6443  donald get big business back and make america ...             Neutral  \n",
       "\n",
       "[6444 rows x 4 columns]"
      ]
     },
     "execution_count": 34,
     "metadata": {},
     "output_type": "execute_result"
    }
   ],
   "source": [
    "text_handle"
   ]
  },
  {
   "cell_type": "markdown",
   "id": "8bcbeec9",
   "metadata": {},
   "source": [
    "# Visualize the results"
   ]
  },
  {
   "cell_type": "code",
   "execution_count": 35,
   "id": "26bb8965",
   "metadata": {},
   "outputs": [
    {
     "data": {
      "text/html": [
       "<div>\n",
       "<style scoped>\n",
       "    .dataframe tbody tr th:only-of-type {\n",
       "        vertical-align: middle;\n",
       "    }\n",
       "\n",
       "    .dataframe tbody tr th {\n",
       "        vertical-align: top;\n",
       "    }\n",
       "\n",
       "    .dataframe thead th {\n",
       "        text-align: right;\n",
       "    }\n",
       "</style>\n",
       "<table border=\"1\" class=\"dataframe\">\n",
       "  <thead>\n",
       "    <tr style=\"text-align: right;\">\n",
       "      <th></th>\n",
       "      <th>handle</th>\n",
       "      <th>text</th>\n",
       "      <th>data</th>\n",
       "      <th>predicted_sentiment</th>\n",
       "    </tr>\n",
       "  </thead>\n",
       "  <tbody>\n",
       "    <tr>\n",
       "      <th>26</th>\n",
       "      <td>HillaryClinton</td>\n",
       "      <td>work hard living poverty</td>\n",
       "      <td>work hard live poverty</td>\n",
       "      <td>Positive</td>\n",
       "    </tr>\n",
       "    <tr>\n",
       "      <th>74</th>\n",
       "      <td>HillaryClinton</td>\n",
       "      <td>hillary clinton did what she needed to do</td>\n",
       "      <td>hillary clinton do what she need to do</td>\n",
       "      <td>Positive</td>\n",
       "    </tr>\n",
       "    <tr>\n",
       "      <th>122</th>\n",
       "      <td>HillaryClinton</td>\n",
       "      <td>its about time this country had somebody runni...</td>\n",
       "      <td>its about time this country have somebody run ...</td>\n",
       "      <td>Positive</td>\n",
       "    </tr>\n",
       "    <tr>\n",
       "      <th>132</th>\n",
       "      <td>HillaryClinton</td>\n",
       "      <td>donald trump may live in his own reality—but w...</td>\n",
       "      <td>donald trump may live in his own reality but w...</td>\n",
       "      <td>Positive</td>\n",
       "    </tr>\n",
       "    <tr>\n",
       "      <th>147</th>\n",
       "      <td>HillaryClinton</td>\n",
       "      <td>lets do this debatenight</td>\n",
       "      <td>let do this debatenight</td>\n",
       "      <td>Positive</td>\n",
       "    </tr>\n",
       "    <tr>\n",
       "      <th>...</th>\n",
       "      <td>...</td>\n",
       "      <td>...</td>\n",
       "      <td>...</td>\n",
       "      <td>...</td>\n",
       "    </tr>\n",
       "    <tr>\n",
       "      <th>4842</th>\n",
       "      <td>HillaryClinton</td>\n",
       "      <td>we did it new york watch hillary live</td>\n",
       "      <td>we do it new york watch hillary live</td>\n",
       "      <td>Positive</td>\n",
       "    </tr>\n",
       "    <tr>\n",
       "      <th>4845</th>\n",
       "      <td>HillaryClinton</td>\n",
       "      <td>to our volunteers organizers and supporters wh...</td>\n",
       "      <td>to our volunteer organizers and supporters who...</td>\n",
       "      <td>Positive</td>\n",
       "    </tr>\n",
       "    <tr>\n",
       "      <th>4846</th>\n",
       "      <td>HillaryClinton</td>\n",
       "      <td>lets win this nomination chip in 3 to let hill...</td>\n",
       "      <td>let win this nomination chip in to let hillary...</td>\n",
       "      <td>Positive</td>\n",
       "    </tr>\n",
       "    <tr>\n",
       "      <th>4851</th>\n",
       "      <td>HillaryClinton</td>\n",
       "      <td>whats up to while new yorkers vote check out s...</td>\n",
       "      <td>whats up to while new yorkers vote check out l...</td>\n",
       "      <td>Positive</td>\n",
       "    </tr>\n",
       "    <tr>\n",
       "      <th>4901</th>\n",
       "      <td>HillaryClinton</td>\n",
       "      <td>anything is possible do not let where you come...</td>\n",
       "      <td>anything be possible do not let where you come...</td>\n",
       "      <td>Positive</td>\n",
       "    </tr>\n",
       "  </tbody>\n",
       "</table>\n",
       "<p>323 rows × 4 columns</p>\n",
       "</div>"
      ],
      "text/plain": [
       "              handle                                               text  \\\n",
       "26    HillaryClinton                           work hard living poverty   \n",
       "74    HillaryClinton         hillary clinton did what she needed to do    \n",
       "122   HillaryClinton  its about time this country had somebody runni...   \n",
       "132   HillaryClinton  donald trump may live in his own reality—but w...   \n",
       "147   HillaryClinton                          lets do this debatenight    \n",
       "...              ...                                                ...   \n",
       "4842  HillaryClinton             we did it new york watch hillary live    \n",
       "4845  HillaryClinton  to our volunteers organizers and supporters wh...   \n",
       "4846  HillaryClinton  lets win this nomination chip in 3 to let hill...   \n",
       "4851  HillaryClinton  whats up to while new yorkers vote check out s...   \n",
       "4901  HillaryClinton  anything is possible do not let where you come...   \n",
       "\n",
       "                                                   data predicted_sentiment  \n",
       "26                               work hard live poverty            Positive  \n",
       "74               hillary clinton do what she need to do            Positive  \n",
       "122   its about time this country have somebody run ...            Positive  \n",
       "132   donald trump may live in his own reality but w...            Positive  \n",
       "147                             let do this debatenight            Positive  \n",
       "...                                                 ...                 ...  \n",
       "4842               we do it new york watch hillary live            Positive  \n",
       "4845  to our volunteer organizers and supporters who...            Positive  \n",
       "4846  let win this nomination chip in to let hillary...            Positive  \n",
       "4851  whats up to while new yorkers vote check out l...            Positive  \n",
       "4901  anything be possible do not let where you come...            Positive  \n",
       "\n",
       "[323 rows x 4 columns]"
      ]
     },
     "execution_count": 35,
     "metadata": {},
     "output_type": "execute_result"
    }
   ],
   "source": [
    "hillary_positive_sentiment = text_handle[(text_handle['handle'] == 'HillaryClinton') & (text_handle['predicted_sentiment'] == 'Positive')]\n",
    "hillary_positive_sentiment"
   ]
  },
  {
   "cell_type": "code",
   "execution_count": 36,
   "id": "1b2a9634",
   "metadata": {},
   "outputs": [],
   "source": [
    "# group by each candidate and each sentiment\n",
    "hillary_negative_sentiment = text_handle[(text_handle['handle'] == 'HillaryClinton') & (text_handle['predicted_sentiment'] == 'Negative')]\n",
    "hillary_neutral_sentiment = text_handle[(text_handle['handle'] == 'HillaryClinton') & (text_handle['predicted_sentiment'] == 'Neutral')]\n",
    "trump_negative_sentiment = text_handle[(text_handle['handle'] == 'realDonaldTrump') & (text_handle['predicted_sentiment'] == 'Negative')]\n",
    "trump_positive_sentiment = text_handle[(text_handle['handle'] == 'realDonaldTrump') & (text_handle['predicted_sentiment'] == 'Positive')]\n",
    "trump_neutral_sentiment = text_handle[(text_handle['handle'] == 'realDonaldTrump') & (text_handle['predicted_sentiment'] == 'Neutral')]"
   ]
  },
  {
   "cell_type": "code",
   "execution_count": 38,
   "id": "a129dd6d-4ba5-41af-8ec6-6b3b3423f0fc",
   "metadata": {},
   "outputs": [],
   "source": [
    "import matplotlib.pyplot as plt"
   ]
  },
  {
   "cell_type": "code",
   "execution_count": 39,
   "id": "046f2660",
   "metadata": {},
   "outputs": [
    {
     "data": {
      "text/plain": [
       "Text(0.5, 1.0, 'Polarity of posts of each candidate')"
      ]
     },
     "execution_count": 39,
     "metadata": {},
     "output_type": "execute_result"
    },
    {
     "data": {
      "image/png": "[encoded data removed]",
      "text/plain": [
       "<Figure size 1000x600 with 1 Axes>"
      ]
     },
     "metadata": {},
     "output_type": "display_data"
    }
   ],
   "source": [
    "# Create a bar chart\n",
    "fig, ax = plt.subplots(figsize=(10, 6))\n",
    "\n",
    "# Plotting bars for Hillary Clinton\n",
    "bar_width = 0.2\n",
    "bar_positions_hillary = range(1, 4)\n",
    "ax.bar([p - bar_width for p in bar_positions_hillary], [len(hillary_positive_sentiment), len(hillary_negative_sentiment), len(hillary_neutral_sentiment)], width=bar_width, label='Hillary Clinton', color='blue')\n",
    "\n",
    "# Plotting bars for Donald Trump\n",
    "bar_positions_trump = range(1, 4)\n",
    "ax.bar([p + bar_width for p in bar_positions_trump], [len(trump_positive_sentiment), len(trump_negative_sentiment), len(trump_neutral_sentiment)], width=bar_width, label='Donald Trump', color='red')\n",
    "\n",
    "# Set labels and title\n",
    "ax.set_xticks([p for p in bar_positions_hillary])\n",
    "ax.set_xticklabels(['Positive', 'Negative', 'Neutral'])\n",
    "ax.set_ylabel('Count')\n",
    "ax.set_title('Polarity of posts of each candidate')"
   ]
  },
  {
   "cell_type": "code",
   "execution_count": null,
   "id": "db803db8",
   "metadata": {},
   "outputs": [],
   "source": []
  }
 ],
 "metadata": {
  "kernelspec": {
   "display_name": "Python 3 (ipykernel)",
   "language": "python",
   "name": "python3"
  },
  "language_info": {
   "codemirror_mode": {
    "name": "ipython",
    "version": 3
   },
   "file_extension": ".py",
   "mimetype": "text/x-python",
   "name": "python",
   "nbconvert_exporter": "python",
   "pygments_lexer": "ipython3",
   "version": "3.9.6"
  }
 },
 "nbformat": 4,
 "nbformat_minor": 5
}
